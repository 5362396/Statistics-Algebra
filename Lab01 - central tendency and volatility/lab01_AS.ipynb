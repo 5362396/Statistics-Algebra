{
 "cells": [
  {
   "cell_type": "code",
   "id": "initial_id",
   "metadata": {
    "collapsed": true,
    "ExecuteTime": {
     "end_time": "2024-10-12T11:54:19.352793Z",
     "start_time": "2024-10-12T11:54:19.348628Z"
    }
   },
   "source": [
    "import math\n",
    "import statistics\n",
    "import numpy as np\n",
    "import scipy.stats\n",
    "import pandas as pd\n",
    "import matplotlib as pyplot"
   ],
   "outputs": [],
   "execution_count": 79
  },
  {
   "metadata": {},
   "cell_type": "markdown",
   "source": "Obliczanie statystyk opisowych",
   "id": "58326bf27e3340d9"
  },
  {
   "metadata": {
    "ExecuteTime": {
     "end_time": "2024-10-12T11:54:21.677621Z",
     "start_time": "2024-10-12T11:54:21.671023Z"
    }
   },
   "cell_type": "code",
   "source": [
    "x = [8.0, 1, 2.5, 4, 28.0]\n",
    "x_with_nan = [8.0, 1, 2.5, math.nan, 4, 28.0]\n",
    "x"
   ],
   "id": "dde54776b3fc60f0",
   "outputs": [
    {
     "data": {
      "text/plain": [
       "[8.0, 1, 2.5, 4, 28.0]"
      ]
     },
     "execution_count": 80,
     "metadata": {},
     "output_type": "execute_result"
    }
   ],
   "execution_count": 80
  },
  {
   "metadata": {
    "ExecuteTime": {
     "end_time": "2024-10-12T11:54:21.758997Z",
     "start_time": "2024-10-12T11:54:21.753871Z"
    }
   },
   "cell_type": "code",
   "source": "x_with_nan",
   "id": "701576abb88d9cba",
   "outputs": [
    {
     "data": {
      "text/plain": [
       "[8.0, 1, 2.5, nan, 4, 28.0]"
      ]
     },
     "execution_count": 81,
     "metadata": {},
     "output_type": "execute_result"
    }
   ],
   "execution_count": 81
  },
  {
   "metadata": {
    "ExecuteTime": {
     "end_time": "2024-10-12T11:54:21.851205Z",
     "start_time": "2024-10-12T11:54:21.846221Z"
    }
   },
   "cell_type": "code",
   "source": [
    "y, y_with_nan = np.array(x), np.array(x_with_nan)\n",
    "z, z_with_nan = pd.Series(x), pd.Series(x_with_nan)\n",
    "y"
   ],
   "id": "b9b9f6f8b267f2fb",
   "outputs": [
    {
     "data": {
      "text/plain": [
       "array([ 8. ,  1. ,  2.5,  4. , 28. ])"
      ]
     },
     "execution_count": 82,
     "metadata": {},
     "output_type": "execute_result"
    }
   ],
   "execution_count": 82
  },
  {
   "metadata": {
    "ExecuteTime": {
     "end_time": "2024-10-12T11:54:21.946840Z",
     "start_time": "2024-10-12T11:54:21.942702Z"
    }
   },
   "cell_type": "code",
   "source": "y_with_nan",
   "id": "474322901c79431e",
   "outputs": [
    {
     "data": {
      "text/plain": [
       "array([ 8. ,  1. ,  2.5,  nan,  4. , 28. ])"
      ]
     },
     "execution_count": 83,
     "metadata": {},
     "output_type": "execute_result"
    }
   ],
   "execution_count": 83
  },
  {
   "metadata": {
    "ExecuteTime": {
     "end_time": "2024-10-12T11:54:22.071521Z",
     "start_time": "2024-10-12T11:54:22.066515Z"
    }
   },
   "cell_type": "code",
   "source": "z",
   "id": "da95c489b60cde0f",
   "outputs": [
    {
     "data": {
      "text/plain": [
       "0     8.0\n",
       "1     1.0\n",
       "2     2.5\n",
       "3     4.0\n",
       "4    28.0\n",
       "dtype: float64"
      ]
     },
     "execution_count": 84,
     "metadata": {},
     "output_type": "execute_result"
    }
   ],
   "execution_count": 84
  },
  {
   "metadata": {
    "ExecuteTime": {
     "end_time": "2024-10-12T11:54:22.168353Z",
     "start_time": "2024-10-12T11:54:22.161302Z"
    }
   },
   "cell_type": "code",
   "source": "z_with_nan",
   "id": "b0555bd3485aa476",
   "outputs": [
    {
     "data": {
      "text/plain": [
       "0     8.0\n",
       "1     1.0\n",
       "2     2.5\n",
       "3     NaN\n",
       "4     4.0\n",
       "5    28.0\n",
       "dtype: float64"
      ]
     },
     "execution_count": 85,
     "metadata": {},
     "output_type": "execute_result"
    }
   ],
   "execution_count": 85
  },
  {
   "metadata": {},
   "cell_type": "markdown",
   "source": "### Miary tendencji centralnej",
   "id": "6515f3051b7b2741"
  },
  {
   "metadata": {},
   "cell_type": "markdown",
   "source": "Średnia arytmetyczna",
   "id": "31ec21932e9cb5a9"
  },
  {
   "metadata": {
    "ExecuteTime": {
     "end_time": "2024-10-12T11:54:22.268170Z",
     "start_time": "2024-10-12T11:54:22.263107Z"
    }
   },
   "cell_type": "code",
   "source": [
    "mean_ = sum(x) / len(x)\n",
    "mean_"
   ],
   "id": "c418891dcec58fe6",
   "outputs": [
    {
     "data": {
      "text/plain": [
       "8.7"
      ]
     },
     "execution_count": 86,
     "metadata": {},
     "output_type": "execute_result"
    }
   ],
   "execution_count": 86
  },
  {
   "metadata": {
    "ExecuteTime": {
     "end_time": "2024-10-12T11:54:22.374946Z",
     "start_time": "2024-10-12T11:54:22.369887Z"
    }
   },
   "cell_type": "code",
   "source": [
    "mean_ = statistics.mean(x)\n",
    "mean_"
   ],
   "id": "b8aadcdabf3ecbfd",
   "outputs": [
    {
     "data": {
      "text/plain": [
       "8.7"
      ]
     },
     "execution_count": 87,
     "metadata": {},
     "output_type": "execute_result"
    }
   ],
   "execution_count": 87
  },
  {
   "metadata": {
    "ExecuteTime": {
     "end_time": "2024-10-12T11:54:22.481381Z",
     "start_time": "2024-10-12T11:54:22.476356Z"
    }
   },
   "cell_type": "code",
   "source": [
    "mean_ = statistics.fmean(x)\n",
    "mean_"
   ],
   "id": "4c97e05edf99aca0",
   "outputs": [
    {
     "data": {
      "text/plain": [
       "8.7"
      ]
     },
     "execution_count": 88,
     "metadata": {},
     "output_type": "execute_result"
    }
   ],
   "execution_count": 88
  },
  {
   "metadata": {},
   "cell_type": "markdown",
   "source": "Średnia ważona",
   "id": "9aaecf81081050bf"
  },
  {
   "metadata": {
    "ExecuteTime": {
     "end_time": "2024-10-12T11:54:22.559697Z",
     "start_time": "2024-10-12T11:54:22.554194Z"
    }
   },
   "cell_type": "code",
   "source": [
    "x = [8.0, 1, 2.5, 4, 28.0]\n",
    "w = [0.1, 0.2, 0.3, 0.25, 0.15]\n",
    "wmean = sum(w[i] * x[i] for i in range(len(x))) / sum(w)\n",
    "wmean"
   ],
   "id": "11c54f28d8d76101",
   "outputs": [
    {
     "data": {
      "text/plain": [
       "6.95"
      ]
     },
     "execution_count": 89,
     "metadata": {},
     "output_type": "execute_result"
    }
   ],
   "execution_count": 89
  },
  {
   "metadata": {
    "ExecuteTime": {
     "end_time": "2024-10-12T11:54:22.721895Z",
     "start_time": "2024-10-12T11:54:22.715882Z"
    }
   },
   "cell_type": "code",
   "source": [
    "wmean = sum(x_ * w_ for (x_, w_) in zip(x, w)) / sum(w)\n",
    "wmean"
   ],
   "id": "dbbb678c65320518",
   "outputs": [
    {
     "data": {
      "text/plain": [
       "6.95"
      ]
     },
     "execution_count": 90,
     "metadata": {},
     "output_type": "execute_result"
    }
   ],
   "execution_count": 90
  },
  {
   "metadata": {},
   "cell_type": "markdown",
   "source": "Dla większych zbiorów danych liczenie średniej przez Numpy",
   "id": "aea136cf99a59756"
  },
  {
   "metadata": {
    "ExecuteTime": {
     "end_time": "2024-10-12T11:54:22.812500Z",
     "start_time": "2024-10-12T11:54:22.807432Z"
    }
   },
   "cell_type": "code",
   "source": [
    "y, z, w = np.array(x), pd.Series(x), np.array(w)\n",
    "wmean = np.average(y, weights=w)\n",
    "wmean"
   ],
   "id": "b7bd9f4ee4ecd6f",
   "outputs": [
    {
     "data": {
      "text/plain": [
       "np.float64(6.95)"
      ]
     },
     "execution_count": 91,
     "metadata": {},
     "output_type": "execute_result"
    }
   ],
   "execution_count": 91
  },
  {
   "metadata": {
    "ExecuteTime": {
     "end_time": "2024-10-12T11:54:22.908447Z",
     "start_time": "2024-10-12T11:54:22.904686Z"
    }
   },
   "cell_type": "code",
   "source": [
    "wmean = np.average(z, weights=w)\n",
    "wmean"
   ],
   "id": "9f1dcea281ca23c5",
   "outputs": [
    {
     "data": {
      "text/plain": [
       "np.float64(6.95)"
      ]
     },
     "execution_count": 92,
     "metadata": {},
     "output_type": "execute_result"
    }
   ],
   "execution_count": 92
  },
  {
   "metadata": {},
   "cell_type": "markdown",
   "source": "Iloczyn elementarny",
   "id": "d9f53d1b768f3c03"
  },
  {
   "metadata": {
    "ExecuteTime": {
     "end_time": "2024-10-12T11:54:22.984272Z",
     "start_time": "2024-10-12T11:54:22.979233Z"
    }
   },
   "cell_type": "code",
   "source": "(w * y).sum() / w.sum()",
   "id": "9c831958358242a7",
   "outputs": [
    {
     "data": {
      "text/plain": [
       "np.float64(6.95)"
      ]
     },
     "execution_count": 93,
     "metadata": {},
     "output_type": "execute_result"
    }
   ],
   "execution_count": 93
  },
  {
   "metadata": {},
   "cell_type": "markdown",
   "source": "Średnia harmoniczna",
   "id": "3eef4d754acda651"
  },
  {
   "metadata": {
    "ExecuteTime": {
     "end_time": "2024-10-12T11:54:23.112476Z",
     "start_time": "2024-10-12T11:54:23.107983Z"
    }
   },
   "cell_type": "code",
   "source": [
    "hmean = len(x) / sum(1 / item for item in x)\n",
    "hmean"
   ],
   "id": "5f8dcccf92837c98",
   "outputs": [
    {
     "data": {
      "text/plain": [
       "2.7613412228796843"
      ]
     },
     "execution_count": 94,
     "metadata": {},
     "output_type": "execute_result"
    }
   ],
   "execution_count": 94
  },
  {
   "metadata": {
    "ExecuteTime": {
     "end_time": "2024-10-12T11:54:23.208842Z",
     "start_time": "2024-10-12T11:54:23.205165Z"
    }
   },
   "cell_type": "code",
   "source": [
    "hmen = statistics.harmonic_mean(x)\n",
    "hmean"
   ],
   "id": "9debc0ddbbdb7b1c",
   "outputs": [
    {
     "data": {
      "text/plain": [
       "2.7613412228796843"
      ]
     },
     "execution_count": 95,
     "metadata": {},
     "output_type": "execute_result"
    }
   ],
   "execution_count": 95
  },
  {
   "metadata": {
    "ExecuteTime": {
     "end_time": "2024-10-12T11:54:23.345367Z",
     "start_time": "2024-10-12T11:54:23.340399Z"
    }
   },
   "cell_type": "code",
   "source": "statistics.harmonic_mean(x_with_nan)",
   "id": "e3330856a3ab8717",
   "outputs": [
    {
     "data": {
      "text/plain": [
       "nan"
      ]
     },
     "execution_count": 96,
     "metadata": {},
     "output_type": "execute_result"
    }
   ],
   "execution_count": 96
  },
  {
   "metadata": {
    "ExecuteTime": {
     "end_time": "2024-10-12T11:54:23.418506Z",
     "start_time": "2024-10-12T11:54:23.414700Z"
    }
   },
   "cell_type": "code",
   "source": "statistics.harmonic_mean([1, 0, 2])",
   "id": "d1c2272f84e86d2c",
   "outputs": [
    {
     "data": {
      "text/plain": [
       "0"
      ]
     },
     "execution_count": 97,
     "metadata": {},
     "output_type": "execute_result"
    }
   ],
   "execution_count": 97
  },
  {
   "metadata": {
    "ExecuteTime": {
     "end_time": "2024-10-12T11:54:23.589198Z",
     "start_time": "2024-10-12T11:54:23.560087Z"
    }
   },
   "cell_type": "code",
   "source": "statistics.harmonic_mean([1, 2, -2])  # StatisticsError: harmonic mean does not support negative values",
   "id": "8b6709e18c848b",
   "outputs": [
    {
     "ename": "StatisticsError",
     "evalue": "harmonic mean does not support negative values",
     "output_type": "error",
     "traceback": [
      "\u001B[1;31m---------------------------------------------------------------------------\u001B[0m",
      "\u001B[1;31mStatisticsError\u001B[0m                           Traceback (most recent call last)",
      "Cell \u001B[1;32mIn[98], line 1\u001B[0m\n\u001B[1;32m----> 1\u001B[0m \u001B[43mstatistics\u001B[49m\u001B[38;5;241;43m.\u001B[39;49m\u001B[43mharmonic_mean\u001B[49m\u001B[43m(\u001B[49m\u001B[43m[\u001B[49m\u001B[38;5;241;43m1\u001B[39;49m\u001B[43m,\u001B[49m\u001B[43m \u001B[49m\u001B[38;5;241;43m2\u001B[39;49m\u001B[43m,\u001B[49m\u001B[43m \u001B[49m\u001B[38;5;241;43m-\u001B[39;49m\u001B[38;5;241;43m2\u001B[39;49m\u001B[43m]\u001B[49m\u001B[43m)\u001B[49m  \u001B[38;5;66;03m# StatisticsError: harmonic mean does not support negative values\u001B[39;00m\n",
      "File \u001B[1;32m~\\AppData\\Local\\Programs\\Python\\Python312\\Lib\\statistics.py:593\u001B[0m, in \u001B[0;36mharmonic_mean\u001B[1;34m(data, weights)\u001B[0m\n\u001B[0;32m    591\u001B[0m \u001B[38;5;28;01mtry\u001B[39;00m:\n\u001B[0;32m    592\u001B[0m     data \u001B[38;5;241m=\u001B[39m _fail_neg(data, errmsg)\n\u001B[1;32m--> 593\u001B[0m     T, total, count \u001B[38;5;241m=\u001B[39m \u001B[43m_sum\u001B[49m\u001B[43m(\u001B[49m\u001B[43mw\u001B[49m\u001B[43m \u001B[49m\u001B[38;5;241;43m/\u001B[39;49m\u001B[43m \u001B[49m\u001B[43mx\u001B[49m\u001B[43m \u001B[49m\u001B[38;5;28;43;01mif\u001B[39;49;00m\u001B[43m \u001B[49m\u001B[43mw\u001B[49m\u001B[43m \u001B[49m\u001B[38;5;28;43;01melse\u001B[39;49;00m\u001B[43m \u001B[49m\u001B[38;5;241;43m0\u001B[39;49m\u001B[43m \u001B[49m\u001B[38;5;28;43;01mfor\u001B[39;49;00m\u001B[43m \u001B[49m\u001B[43mw\u001B[49m\u001B[43m,\u001B[49m\u001B[43m \u001B[49m\u001B[43mx\u001B[49m\u001B[43m \u001B[49m\u001B[38;5;129;43;01min\u001B[39;49;00m\u001B[43m \u001B[49m\u001B[38;5;28;43mzip\u001B[39;49m\u001B[43m(\u001B[49m\u001B[43mweights\u001B[49m\u001B[43m,\u001B[49m\u001B[43m \u001B[49m\u001B[43mdata\u001B[49m\u001B[43m)\u001B[49m\u001B[43m)\u001B[49m\n\u001B[0;32m    594\u001B[0m \u001B[38;5;28;01mexcept\u001B[39;00m \u001B[38;5;167;01mZeroDivisionError\u001B[39;00m:\n\u001B[0;32m    595\u001B[0m     \u001B[38;5;28;01mreturn\u001B[39;00m \u001B[38;5;241m0\u001B[39m\n",
      "File \u001B[1;32m~\\AppData\\Local\\Programs\\Python\\Python312\\Lib\\statistics.py:193\u001B[0m, in \u001B[0;36m_sum\u001B[1;34m(data)\u001B[0m\n\u001B[0;32m    191\u001B[0m \u001B[38;5;28;01mfor\u001B[39;00m typ, values \u001B[38;5;129;01min\u001B[39;00m groupby(data, \u001B[38;5;28mtype\u001B[39m):\n\u001B[0;32m    192\u001B[0m     types_add(typ)\n\u001B[1;32m--> 193\u001B[0m \u001B[43m    \u001B[49m\u001B[38;5;28;43;01mfor\u001B[39;49;00m\u001B[43m \u001B[49m\u001B[43mn\u001B[49m\u001B[43m,\u001B[49m\u001B[43m \u001B[49m\u001B[43md\u001B[49m\u001B[43m \u001B[49m\u001B[38;5;129;43;01min\u001B[39;49;00m\u001B[43m \u001B[49m\u001B[38;5;28;43mmap\u001B[39;49m\u001B[43m(\u001B[49m\u001B[43m_exact_ratio\u001B[49m\u001B[43m,\u001B[49m\u001B[43m \u001B[49m\u001B[43mvalues\u001B[49m\u001B[43m)\u001B[49m\u001B[43m:\u001B[49m\n\u001B[0;32m    194\u001B[0m \u001B[43m        \u001B[49m\u001B[43mcount\u001B[49m\u001B[43m \u001B[49m\u001B[38;5;241;43m+\u001B[39;49m\u001B[38;5;241;43m=\u001B[39;49m\u001B[43m \u001B[49m\u001B[38;5;241;43m1\u001B[39;49m\n\u001B[0;32m    195\u001B[0m \u001B[43m        \u001B[49m\u001B[43mpartials\u001B[49m\u001B[43m[\u001B[49m\u001B[43md\u001B[49m\u001B[43m]\u001B[49m\u001B[43m \u001B[49m\u001B[38;5;241;43m=\u001B[39;49m\u001B[43m \u001B[49m\u001B[43mpartials_get\u001B[49m\u001B[43m(\u001B[49m\u001B[43md\u001B[49m\u001B[43m,\u001B[49m\u001B[43m \u001B[49m\u001B[38;5;241;43m0\u001B[39;49m\u001B[43m)\u001B[49m\u001B[43m \u001B[49m\u001B[38;5;241;43m+\u001B[39;49m\u001B[43m \u001B[49m\u001B[43mn\u001B[49m\n",
      "File \u001B[1;32m~\\AppData\\Local\\Programs\\Python\\Python312\\Lib\\statistics.py:593\u001B[0m, in \u001B[0;36m<genexpr>\u001B[1;34m(.0)\u001B[0m\n\u001B[0;32m    591\u001B[0m \u001B[38;5;28;01mtry\u001B[39;00m:\n\u001B[0;32m    592\u001B[0m     data \u001B[38;5;241m=\u001B[39m _fail_neg(data, errmsg)\n\u001B[1;32m--> 593\u001B[0m     T, total, count \u001B[38;5;241m=\u001B[39m _sum\u001B[43m(\u001B[49m\u001B[43mw\u001B[49m\u001B[43m \u001B[49m\u001B[38;5;241;43m/\u001B[39;49m\u001B[43m \u001B[49m\u001B[43mx\u001B[49m\u001B[43m \u001B[49m\u001B[38;5;28;43;01mif\u001B[39;49;00m\u001B[43m \u001B[49m\u001B[43mw\u001B[49m\u001B[43m \u001B[49m\u001B[38;5;28;43;01melse\u001B[39;49;00m\u001B[43m \u001B[49m\u001B[38;5;241;43m0\u001B[39;49m\u001B[43m \u001B[49m\u001B[38;5;28;43;01mfor\u001B[39;49;00m\u001B[43m \u001B[49m\u001B[43mw\u001B[49m\u001B[43m,\u001B[49m\u001B[43m \u001B[49m\u001B[43mx\u001B[49m\u001B[43m \u001B[49m\u001B[38;5;129;43;01min\u001B[39;49;00m\u001B[43m \u001B[49m\u001B[38;5;28;43mzip\u001B[39;49m\u001B[43m(\u001B[49m\u001B[43mweights\u001B[49m\u001B[43m,\u001B[49m\u001B[43m \u001B[49m\u001B[43mdata\u001B[49m\u001B[43m)\u001B[49m\u001B[43m)\u001B[49m\n\u001B[0;32m    594\u001B[0m \u001B[38;5;28;01mexcept\u001B[39;00m \u001B[38;5;167;01mZeroDivisionError\u001B[39;00m:\n\u001B[0;32m    595\u001B[0m     \u001B[38;5;28;01mreturn\u001B[39;00m \u001B[38;5;241m0\u001B[39m\n",
      "File \u001B[1;32m~\\AppData\\Local\\Programs\\Python\\Python312\\Lib\\statistics.py:355\u001B[0m, in \u001B[0;36m_fail_neg\u001B[1;34m(values, errmsg)\u001B[0m\n\u001B[0;32m    353\u001B[0m \u001B[38;5;28;01mfor\u001B[39;00m x \u001B[38;5;129;01min\u001B[39;00m values:\n\u001B[0;32m    354\u001B[0m     \u001B[38;5;28;01mif\u001B[39;00m x \u001B[38;5;241m<\u001B[39m \u001B[38;5;241m0\u001B[39m:\n\u001B[1;32m--> 355\u001B[0m         \u001B[38;5;28;01mraise\u001B[39;00m StatisticsError(errmsg)\n\u001B[0;32m    356\u001B[0m     \u001B[38;5;28;01myield\u001B[39;00m x\n",
      "\u001B[1;31mStatisticsError\u001B[0m: harmonic mean does not support negative values"
     ]
    }
   ],
   "execution_count": 98
  },
  {
   "metadata": {
    "ExecuteTime": {
     "end_time": "2024-10-12T11:54:23.611637Z",
     "start_time": "2024-10-12T11:54:23.606309Z"
    }
   },
   "cell_type": "code",
   "source": "scipy.stats.hmean(y)",
   "id": "6fd0927bc378d715",
   "outputs": [
    {
     "data": {
      "text/plain": [
       "np.float64(2.7613412228796843)"
      ]
     },
     "execution_count": 99,
     "metadata": {},
     "output_type": "execute_result"
    }
   ],
   "execution_count": 99
  },
  {
   "metadata": {
    "ExecuteTime": {
     "end_time": "2024-10-12T11:54:23.744138Z",
     "start_time": "2024-10-12T11:54:23.738211Z"
    }
   },
   "cell_type": "code",
   "source": "scipy.stats.hmean(z)",
   "id": "d1cbdec0b500cf58",
   "outputs": [
    {
     "data": {
      "text/plain": [
       "np.float64(2.7613412228796843)"
      ]
     },
     "execution_count": 100,
     "metadata": {},
     "output_type": "execute_result"
    }
   ],
   "execution_count": 100
  },
  {
   "metadata": {},
   "cell_type": "markdown",
   "source": "Średnia geometryczna",
   "id": "46f7a2b359d2de8e"
  },
  {
   "metadata": {
    "ExecuteTime": {
     "end_time": "2024-10-12T11:54:26.171898Z",
     "start_time": "2024-10-12T11:54:26.165688Z"
    }
   },
   "cell_type": "code",
   "source": [
    "gmean = 1\n",
    "for item in x:\n",
    "    gmean *= item\n",
    "gmean"
   ],
   "id": "6307b5738acafe4f",
   "outputs": [
    {
     "data": {
      "text/plain": [
       "2240.0"
      ]
     },
     "execution_count": 101,
     "metadata": {},
     "output_type": "execute_result"
    }
   ],
   "execution_count": 101
  },
  {
   "metadata": {
    "ExecuteTime": {
     "end_time": "2024-10-12T11:54:26.222246Z",
     "start_time": "2024-10-12T11:54:26.215577Z"
    }
   },
   "cell_type": "code",
   "source": [
    "gmean **= 1 / len(x)\n",
    "gmean"
   ],
   "id": "d60fce3cdea829c9",
   "outputs": [
    {
     "data": {
      "text/plain": [
       "4.677885674856041"
      ]
     },
     "execution_count": 102,
     "metadata": {},
     "output_type": "execute_result"
    }
   ],
   "execution_count": 102
  },
  {
   "metadata": {},
   "cell_type": "markdown",
   "source": "Mediana",
   "id": "b1ef833a69aedf1f"
  },
  {
   "metadata": {
    "ExecuteTime": {
     "end_time": "2024-10-12T11:54:26.376808Z",
     "start_time": "2024-10-12T11:54:26.370440Z"
    }
   },
   "cell_type": "code",
   "source": [
    "n = len(x)\n",
    "if n % 2:\n",
    "    median_ = sorted(x)[round(0.5 * (n - 1))]\n",
    "else:\n",
    "    x_ord, index = sorted(x), round(0.5 * n)\n",
    "    median_ = 0.5 * (x_ord[index - 1] + x_ord[index])\n",
    "\n",
    "median_"
   ],
   "id": "2811c9e9ff9d1501",
   "outputs": [
    {
     "data": {
      "text/plain": [
       "4"
      ]
     },
     "execution_count": 103,
     "metadata": {},
     "output_type": "execute_result"
    }
   ],
   "execution_count": 103
  },
  {
   "metadata": {},
   "cell_type": "markdown",
   "source": "Mediana z modułu statistics",
   "id": "7409a0890533d4fa"
  },
  {
   "metadata": {
    "ExecuteTime": {
     "end_time": "2024-10-12T11:54:26.430744Z",
     "start_time": "2024-10-12T11:54:26.425373Z"
    }
   },
   "cell_type": "code",
   "source": [
    "median_ = statistics.median(x)\n",
    "median_"
   ],
   "id": "351d37ae473c199a",
   "outputs": [
    {
     "data": {
      "text/plain": [
       "4"
      ]
     },
     "execution_count": 104,
     "metadata": {},
     "output_type": "execute_result"
    }
   ],
   "execution_count": 104
  },
  {
   "metadata": {
    "ExecuteTime": {
     "end_time": "2024-10-12T11:54:26.583370Z",
     "start_time": "2024-10-12T11:54:26.575668Z"
    }
   },
   "cell_type": "code",
   "source": [
    "median_ = statistics.median(x[:-1])\n",
    "median_"
   ],
   "id": "bdb7f4cc29f4bea3",
   "outputs": [
    {
     "data": {
      "text/plain": [
       "3.25"
      ]
     },
     "execution_count": 105,
     "metadata": {},
     "output_type": "execute_result"
    }
   ],
   "execution_count": 105
  },
  {
   "metadata": {},
   "cell_type": "markdown",
   "source": "Dla parzystej liczby elementów median high i low",
   "id": "45650e12b33e31be"
  },
  {
   "metadata": {
    "ExecuteTime": {
     "end_time": "2024-10-12T11:54:26.630569Z",
     "start_time": "2024-10-12T11:54:26.625439Z"
    }
   },
   "cell_type": "code",
   "source": "statistics.median_low(x[:-1])",
   "id": "de3c09e6011698cf",
   "outputs": [
    {
     "data": {
      "text/plain": [
       "2.5"
      ]
     },
     "execution_count": 106,
     "metadata": {},
     "output_type": "execute_result"
    }
   ],
   "execution_count": 106
  },
  {
   "metadata": {
    "ExecuteTime": {
     "end_time": "2024-10-12T11:54:26.805631Z",
     "start_time": "2024-10-12T11:54:26.797342Z"
    }
   },
   "cell_type": "code",
   "source": "statistics.median_high(x[:-1])",
   "id": "7d9677781617871a",
   "outputs": [
    {
     "data": {
      "text/plain": [
       "4"
      ]
     },
     "execution_count": 107,
     "metadata": {},
     "output_type": "execute_result"
    }
   ],
   "execution_count": 107
  },
  {
   "metadata": {},
   "cell_type": "markdown",
   "source": [
    "x[:-1] to [1, 2.5, 4, 8.0]\n",
    "Dwa elementy w środku to 2.5 i 4."
   ],
   "id": "c635533424d1ba4d"
  },
  {
   "metadata": {},
   "cell_type": "markdown",
   "source": "Metody zwracają wartości jeśli znajdują się w zbiorze wartości nan.",
   "id": "5bd9ae9ff5ee48b3"
  },
  {
   "metadata": {
    "ExecuteTime": {
     "end_time": "2024-10-12T11:54:26.881769Z",
     "start_time": "2024-10-12T11:54:26.877963Z"
    }
   },
   "cell_type": "code",
   "source": "print(x_with_nan)",
   "id": "ad8e77d4644b5cfb",
   "outputs": [
    {
     "name": "stdout",
     "output_type": "stream",
     "text": [
      "[8.0, 1, 2.5, nan, 4, 28.0]\n"
     ]
    }
   ],
   "execution_count": 108
  },
  {
   "metadata": {
    "ExecuteTime": {
     "end_time": "2024-10-12T11:54:27.091123Z",
     "start_time": "2024-10-12T11:54:27.086070Z"
    }
   },
   "cell_type": "code",
   "source": "statistics.median(x_with_nan)",
   "id": "81a15e9ba5a45d17",
   "outputs": [
    {
     "data": {
      "text/plain": [
       "6.0"
      ]
     },
     "execution_count": 109,
     "metadata": {},
     "output_type": "execute_result"
    }
   ],
   "execution_count": 109
  },
  {
   "metadata": {
    "ExecuteTime": {
     "end_time": "2024-10-12T11:54:27.182476Z",
     "start_time": "2024-10-12T11:54:27.177943Z"
    }
   },
   "cell_type": "code",
   "source": "statistics.median_low(x_with_nan)",
   "id": "8bbf65efb1d3fcc3",
   "outputs": [
    {
     "data": {
      "text/plain": [
       "4"
      ]
     },
     "execution_count": 110,
     "metadata": {},
     "output_type": "execute_result"
    }
   ],
   "execution_count": 110
  },
  {
   "metadata": {
    "ExecuteTime": {
     "end_time": "2024-10-12T11:54:27.303110Z",
     "start_time": "2024-10-12T11:54:27.296393Z"
    }
   },
   "cell_type": "code",
   "source": "statistics.median_high(x_with_nan)",
   "id": "6a36089afa76cf14",
   "outputs": [
    {
     "data": {
      "text/plain": [
       "8.0"
      ]
     },
     "execution_count": 111,
     "metadata": {},
     "output_type": "execute_result"
    }
   ],
   "execution_count": 111
  },
  {
   "metadata": {},
   "cell_type": "markdown",
   "source": "Mediana z modułu NumPy",
   "id": "9d327c8030e0b724"
  },
  {
   "metadata": {
    "ExecuteTime": {
     "end_time": "2024-10-12T11:54:27.392167Z",
     "start_time": "2024-10-12T11:54:27.380182Z"
    }
   },
   "cell_type": "code",
   "source": [
    "median_ = np.median(y)\n",
    "median_"
   ],
   "id": "ab68ff5bd5cedc59",
   "outputs": [
    {
     "data": {
      "text/plain": [
       "np.float64(4.0)"
      ]
     },
     "execution_count": 112,
     "metadata": {},
     "output_type": "execute_result"
    }
   ],
   "execution_count": 112
  },
  {
   "metadata": {
    "ExecuteTime": {
     "end_time": "2024-10-12T11:54:27.539378Z",
     "start_time": "2024-10-12T11:54:27.534336Z"
    }
   },
   "cell_type": "code",
   "source": [
    "median_ = np.median(y[:-1])\n",
    "median_"
   ],
   "id": "828e589245be4e8b",
   "outputs": [
    {
     "data": {
      "text/plain": [
       "np.float64(3.25)"
      ]
     },
     "execution_count": 113,
     "metadata": {},
     "output_type": "execute_result"
    }
   ],
   "execution_count": 113
  },
  {
   "metadata": {},
   "cell_type": "markdown",
   "source": "Dla ignorowania wartości nan jest funkcja np.nanmedian()",
   "id": "a88c118883ee8c68"
  },
  {
   "metadata": {
    "ExecuteTime": {
     "end_time": "2024-10-12T11:54:27.618463Z",
     "start_time": "2024-10-12T11:54:27.610738Z"
    }
   },
   "cell_type": "code",
   "source": "np.nanmedian(y_with_nan)",
   "id": "e6e20d201f46c749",
   "outputs": [
    {
     "data": {
      "text/plain": [
       "np.float64(4.0)"
      ]
     },
     "execution_count": 114,
     "metadata": {},
     "output_type": "execute_result"
    }
   ],
   "execution_count": 114
  },
  {
   "metadata": {
    "ExecuteTime": {
     "end_time": "2024-10-12T11:54:27.742520Z",
     "start_time": "2024-10-12T11:54:27.729712Z"
    }
   },
   "cell_type": "code",
   "source": "np.nanmedian(y_with_nan[:-1])",
   "id": "97cea6f09e3a3cf2",
   "outputs": [
    {
     "data": {
      "text/plain": [
       "np.float64(3.25)"
      ]
     },
     "execution_count": 115,
     "metadata": {},
     "output_type": "execute_result"
    }
   ],
   "execution_count": 115
  },
  {
   "metadata": {},
   "cell_type": "markdown",
   "source": "W Pandas metoda .median() domyślnie ignoruje wartości nan",
   "id": "5a53f071a5428b85"
  },
  {
   "metadata": {
    "ExecuteTime": {
     "end_time": "2024-10-12T11:54:27.819499Z",
     "start_time": "2024-10-12T11:54:27.810485Z"
    }
   },
   "cell_type": "code",
   "source": "z.median()",
   "id": "53a88591bf838b89",
   "outputs": [
    {
     "data": {
      "text/plain": [
       "np.float64(4.0)"
      ]
     },
     "execution_count": 116,
     "metadata": {},
     "output_type": "execute_result"
    }
   ],
   "execution_count": 116
  },
  {
   "metadata": {
    "ExecuteTime": {
     "end_time": "2024-10-12T11:54:27.925981Z",
     "start_time": "2024-10-12T11:54:27.920256Z"
    }
   },
   "cell_type": "code",
   "source": "z_with_nan.median()",
   "id": "f7d73cd77f3e1dd9",
   "outputs": [
    {
     "data": {
      "text/plain": [
       "np.float64(4.0)"
      ]
     },
     "execution_count": 117,
     "metadata": {},
     "output_type": "execute_result"
    }
   ],
   "execution_count": 117
  },
  {
   "metadata": {},
   "cell_type": "markdown",
   "source": "Tryb (moda)",
   "id": "58762560ce894121"
  },
  {
   "metadata": {
    "ExecuteTime": {
     "end_time": "2024-10-12T11:54:27.982191Z",
     "start_time": "2024-10-12T11:54:27.975251Z"
    }
   },
   "cell_type": "code",
   "source": [
    "u = [2, 3, 2, 8, 12]\n",
    "mode_ = max((u.count(item), item) for item in set(u))[1]\n",
    "mode_"
   ],
   "id": "9deab7994af18d78",
   "outputs": [
    {
     "data": {
      "text/plain": [
       "2"
      ]
     },
     "execution_count": 118,
     "metadata": {},
     "output_type": "execute_result"
    }
   ],
   "execution_count": 118
  },
  {
   "metadata": {},
   "cell_type": "markdown",
   "source": "Tryb w module statistics (funkcja multimode jeśli występuje więcej niż jedna wartość modalna)",
   "id": "b7b9ee1391fcee8e"
  },
  {
   "metadata": {
    "ExecuteTime": {
     "end_time": "2024-10-12T11:54:28.074510Z",
     "start_time": "2024-10-12T11:54:28.070046Z"
    }
   },
   "cell_type": "code",
   "source": [
    "mode_ = statistics.mode(u)\n",
    "mode_"
   ],
   "id": "fb0efa481a8362c2",
   "outputs": [
    {
     "data": {
      "text/plain": [
       "2"
      ]
     },
     "execution_count": 119,
     "metadata": {},
     "output_type": "execute_result"
    }
   ],
   "execution_count": 119
  },
  {
   "metadata": {
    "ExecuteTime": {
     "end_time": "2024-10-12T11:54:28.161225Z",
     "start_time": "2024-10-12T11:54:28.155433Z"
    }
   },
   "cell_type": "code",
   "source": [
    "mode_ = statistics.multimode(u)\n",
    "mode_"
   ],
   "id": "38e56f9b631159df",
   "outputs": [
    {
     "data": {
      "text/plain": [
       "[2]"
      ]
     },
     "execution_count": 120,
     "metadata": {},
     "output_type": "execute_result"
    }
   ],
   "execution_count": 120
  },
  {
   "metadata": {
    "ExecuteTime": {
     "end_time": "2024-10-12T11:54:28.262285Z",
     "start_time": "2024-10-12T11:54:28.255586Z"
    }
   },
   "cell_type": "code",
   "source": "v = [12, 15, 12, 15, 21, 15, 12]",
   "id": "b22f63bdf9467b07",
   "outputs": [],
   "execution_count": 121
  },
  {
   "metadata": {
    "ExecuteTime": {
     "end_time": "2024-10-12T11:54:28.327378Z",
     "start_time": "2024-10-12T11:54:28.320603Z"
    }
   },
   "cell_type": "code",
   "source": "statistics.mode(v)",
   "id": "63bb55ebdbae4f32",
   "outputs": [
    {
     "data": {
      "text/plain": [
       "12"
      ]
     },
     "execution_count": 122,
     "metadata": {},
     "output_type": "execute_result"
    }
   ],
   "execution_count": 122
  },
  {
   "metadata": {
    "ExecuteTime": {
     "end_time": "2024-10-12T11:54:28.412946Z",
     "start_time": "2024-10-12T11:54:28.404369Z"
    }
   },
   "cell_type": "code",
   "source": "statistics.multimode(v)",
   "id": "f4ae6bc383e57080",
   "outputs": [
    {
     "data": {
      "text/plain": [
       "[12, 15]"
      ]
     },
     "execution_count": 123,
     "metadata": {},
     "output_type": "execute_result"
    }
   ],
   "execution_count": 123
  },
  {
   "metadata": {},
   "cell_type": "markdown",
   "source": "Wartości nan w module statistics",
   "id": "722d8f68d52c7d0f"
  },
  {
   "metadata": {
    "ExecuteTime": {
     "end_time": "2024-10-12T11:54:28.496519Z",
     "start_time": "2024-10-12T11:54:28.490650Z"
    }
   },
   "cell_type": "code",
   "source": "statistics.mode([2, math.nan, 2])",
   "id": "69e5c5d948d29b47",
   "outputs": [
    {
     "data": {
      "text/plain": [
       "2"
      ]
     },
     "execution_count": 124,
     "metadata": {},
     "output_type": "execute_result"
    }
   ],
   "execution_count": 124
  },
  {
   "metadata": {
    "ExecuteTime": {
     "end_time": "2024-10-12T11:54:28.590442Z",
     "start_time": "2024-10-12T11:54:28.585283Z"
    }
   },
   "cell_type": "code",
   "source": "statistics.multimode([2, math.nan, 2])",
   "id": "d701b8f408960ea6",
   "outputs": [
    {
     "data": {
      "text/plain": [
       "[2]"
      ]
     },
     "execution_count": 125,
     "metadata": {},
     "output_type": "execute_result"
    }
   ],
   "execution_count": 125
  },
  {
   "metadata": {
    "ExecuteTime": {
     "end_time": "2024-10-12T11:54:28.650222Z",
     "start_time": "2024-10-12T11:54:28.645607Z"
    }
   },
   "cell_type": "code",
   "source": "statistics.mode([2, math.nan, 0, math.nan, 5])",
   "id": "a8b93a38a4e30007",
   "outputs": [
    {
     "data": {
      "text/plain": [
       "nan"
      ]
     },
     "execution_count": 126,
     "metadata": {},
     "output_type": "execute_result"
    }
   ],
   "execution_count": 126
  },
  {
   "metadata": {
    "ExecuteTime": {
     "end_time": "2024-10-12T11:54:28.729378Z",
     "start_time": "2024-10-12T11:54:28.720464Z"
    }
   },
   "cell_type": "code",
   "source": "statistics.multimode([2, math.nan, 0, math.nan, 5])",
   "id": "8723b2057eb6138f",
   "outputs": [
    {
     "data": {
      "text/plain": [
       "[nan]"
      ]
     },
     "execution_count": 127,
     "metadata": {},
     "output_type": "execute_result"
    }
   ],
   "execution_count": 127
  },
  {
   "metadata": {},
   "cell_type": "markdown",
   "source": "Tryb w module SciPy",
   "id": "2e49991e7d248926"
  },
  {
   "metadata": {
    "ExecuteTime": {
     "end_time": "2024-10-12T11:54:28.835954Z",
     "start_time": "2024-10-12T11:54:28.830231Z"
    }
   },
   "cell_type": "code",
   "source": [
    "u, v = np.array(u), np.array(v)\n",
    "mode_ = scipy.stats.mode(u)\n",
    "mode_"
   ],
   "id": "430cbf7dc5959ffb",
   "outputs": [
    {
     "data": {
      "text/plain": [
       "ModeResult(mode=np.int64(2), count=np.int64(2))"
      ]
     },
     "execution_count": 128,
     "metadata": {},
     "output_type": "execute_result"
    }
   ],
   "execution_count": 128
  },
  {
   "metadata": {
    "ExecuteTime": {
     "end_time": "2024-10-12T11:54:28.999992Z",
     "start_time": "2024-10-12T11:54:28.987762Z"
    }
   },
   "cell_type": "code",
   "source": [
    "mode_ = scipy.stats.mode(v)\n",
    "mode_"
   ],
   "id": "c8c1d977550d6394",
   "outputs": [
    {
     "data": {
      "text/plain": [
       "ModeResult(mode=np.int64(12), count=np.int64(3))"
      ]
     },
     "execution_count": 129,
     "metadata": {},
     "output_type": "execute_result"
    }
   ],
   "execution_count": 129
  },
  {
   "metadata": {},
   "cell_type": "markdown",
   "source": "Notacja kropkowa w NumPy dla trybu i liczby jego wystąpień",
   "id": "af1a795c55dd8a4e"
  },
  {
   "metadata": {
    "ExecuteTime": {
     "end_time": "2024-10-12T11:54:29.047865Z",
     "start_time": "2024-10-12T11:54:29.043448Z"
    }
   },
   "cell_type": "code",
   "source": "mode_.mode",
   "id": "7f2c125363e6c2ef",
   "outputs": [
    {
     "data": {
      "text/plain": [
       "np.int64(12)"
      ]
     },
     "execution_count": 130,
     "metadata": {},
     "output_type": "execute_result"
    }
   ],
   "execution_count": 130
  },
  {
   "metadata": {
    "ExecuteTime": {
     "end_time": "2024-10-12T11:54:29.177834Z",
     "start_time": "2024-10-12T11:54:29.170502Z"
    }
   },
   "cell_type": "code",
   "source": "mode_.count",
   "id": "9d2d0964770d2ecc",
   "outputs": [
    {
     "data": {
      "text/plain": [
       "np.int64(3)"
      ]
     },
     "execution_count": 131,
     "metadata": {},
     "output_type": "execute_result"
    }
   ],
   "execution_count": 131
  },
  {
   "metadata": {},
   "cell_type": "markdown",
   "source": "Metoda .mode() w obiektach Pandas Series obsługuje wartości multimodalne i ignoruje wartości nan",
   "id": "6c32c4b13164a90d"
  },
  {
   "metadata": {
    "ExecuteTime": {
     "end_time": "2024-10-12T11:54:29.246080Z",
     "start_time": "2024-10-12T11:54:29.240350Z"
    }
   },
   "cell_type": "code",
   "source": [
    "u, v, w = pd.Series(u), pd.Series(v), pd.Series([2, 2, math.nan])\n",
    "u.mode()"
   ],
   "id": "b626e67693711d63",
   "outputs": [
    {
     "data": {
      "text/plain": [
       "0    2\n",
       "dtype: int64"
      ]
     },
     "execution_count": 132,
     "metadata": {},
     "output_type": "execute_result"
    }
   ],
   "execution_count": 132
  },
  {
   "metadata": {
    "ExecuteTime": {
     "end_time": "2024-10-12T11:54:29.381619Z",
     "start_time": "2024-10-12T11:54:29.369788Z"
    }
   },
   "cell_type": "code",
   "source": "v.mode()",
   "id": "29d01e79181bdfdc",
   "outputs": [
    {
     "data": {
      "text/plain": [
       "0    12\n",
       "1    15\n",
       "dtype: int64"
      ]
     },
     "execution_count": 133,
     "metadata": {},
     "output_type": "execute_result"
    }
   ],
   "execution_count": 133
  },
  {
   "metadata": {
    "ExecuteTime": {
     "end_time": "2024-10-12T11:54:29.418783Z",
     "start_time": "2024-10-12T11:54:29.410885Z"
    }
   },
   "cell_type": "code",
   "source": "w.mode()",
   "id": "835499ab0ee49383",
   "outputs": [
    {
     "data": {
      "text/plain": [
       "0    2.0\n",
       "dtype: float64"
      ]
     },
     "execution_count": 134,
     "metadata": {},
     "output_type": "execute_result"
    }
   ],
   "execution_count": 134
  },
  {
   "metadata": {},
   "cell_type": "markdown",
   "source": "### Miary zmienności",
   "id": "612de0f0a60b006f"
  },
  {
   "metadata": {},
   "cell_type": "markdown",
   "source": "Wariancja próby",
   "id": "7cf805e68cb4db9f"
  },
  {
   "metadata": {
    "ExecuteTime": {
     "end_time": "2024-10-12T11:54:29.546157Z",
     "start_time": "2024-10-12T11:54:29.540809Z"
    }
   },
   "cell_type": "code",
   "source": [
    "n = len(x)\n",
    "mean_ = sum(x) / n\n",
    "var_ = sum((item - mean_) ** 2 for item in x) / (n - 1)\n",
    "var_"
   ],
   "id": "1076371b76be795b",
   "outputs": [
    {
     "data": {
      "text/plain": [
       "123.2"
      ]
     },
     "execution_count": 135,
     "metadata": {},
     "output_type": "execute_result"
    }
   ],
   "execution_count": 135
  },
  {
   "metadata": {
    "ExecuteTime": {
     "end_time": "2024-10-12T11:54:29.577124Z",
     "start_time": "2024-10-12T11:54:29.570385Z"
    }
   },
   "cell_type": "code",
   "source": [
    "var_ = statistics.variance(x)\n",
    "var_"
   ],
   "id": "781d146a890d82ff",
   "outputs": [
    {
     "data": {
      "text/plain": [
       "123.2"
      ]
     },
     "execution_count": 136,
     "metadata": {},
     "output_type": "execute_result"
    }
   ],
   "execution_count": 136
  },
  {
   "metadata": {},
   "cell_type": "markdown",
   "source": "Wartości nan w module statistics",
   "id": "376f9832c58b1e30"
  },
  {
   "metadata": {
    "ExecuteTime": {
     "end_time": "2024-10-12T11:54:29.710376Z",
     "start_time": "2024-10-12T11:54:29.705556Z"
    }
   },
   "cell_type": "code",
   "source": "statistics.variance(x_with_nan)",
   "id": "1041410c62fa101d",
   "outputs": [
    {
     "data": {
      "text/plain": [
       "nan"
      ]
     },
     "execution_count": 137,
     "metadata": {},
     "output_type": "execute_result"
    }
   ],
   "execution_count": 137
  },
  {
   "metadata": {},
   "cell_type": "markdown",
   "source": "Wartości nan w module NumPy",
   "id": "b47916c82f990228"
  },
  {
   "metadata": {
    "ExecuteTime": {
     "end_time": "2024-10-12T11:54:29.741032Z",
     "start_time": "2024-10-12T11:54:29.730643Z"
    }
   },
   "cell_type": "code",
   "source": [
    "var_ = np.var(y, ddof=1)\n",
    "var_"
   ],
   "id": "a09191b8fd57bdcb",
   "outputs": [
    {
     "data": {
      "text/plain": [
       "np.float64(123.19999999999999)"
      ]
     },
     "execution_count": 138,
     "metadata": {},
     "output_type": "execute_result"
    }
   ],
   "execution_count": 138
  },
  {
   "metadata": {
    "ExecuteTime": {
     "end_time": "2024-10-12T11:54:29.863360Z",
     "start_time": "2024-10-12T11:54:29.855727Z"
    }
   },
   "cell_type": "code",
   "source": [
    "var_ = v.var(ddof=1)\n",
    "var_"
   ],
   "id": "76857729be068af8",
   "outputs": [
    {
     "data": {
      "text/plain": [
       "np.float64(10.285714285714286)"
      ]
     },
     "execution_count": 139,
     "metadata": {},
     "output_type": "execute_result"
    }
   ],
   "execution_count": 139
  },
  {
   "metadata": {
    "ExecuteTime": {
     "end_time": "2024-10-12T11:54:29.916976Z",
     "start_time": "2024-10-12T11:54:29.905740Z"
    }
   },
   "cell_type": "code",
   "source": "np.var(y_with_nan, ddof=1)",
   "id": "110dca0dd5a468c7",
   "outputs": [
    {
     "data": {
      "text/plain": [
       "np.float64(nan)"
      ]
     },
     "execution_count": 140,
     "metadata": {},
     "output_type": "execute_result"
    }
   ],
   "execution_count": 140
  },
  {
   "metadata": {
    "ExecuteTime": {
     "end_time": "2024-10-12T11:54:30.028712Z",
     "start_time": "2024-10-12T11:54:30.020516Z"
    }
   },
   "cell_type": "code",
   "source": "y_with_nan.var(ddof=1)",
   "id": "61dbf9bc9ef7c7b3",
   "outputs": [
    {
     "data": {
      "text/plain": [
       "np.float64(nan)"
      ]
     },
     "execution_count": 141,
     "metadata": {},
     "output_type": "execute_result"
    }
   ],
   "execution_count": 141
  },
  {
   "metadata": {
    "ExecuteTime": {
     "end_time": "2024-10-12T11:54:30.074939Z",
     "start_time": "2024-10-12T11:54:30.070459Z"
    }
   },
   "cell_type": "code",
   "source": "np.nanvar(y_with_nan, ddof=1)",
   "id": "7e53d723d7dd4daa",
   "outputs": [
    {
     "data": {
      "text/plain": [
       "np.float64(123.19999999999999)"
      ]
     },
     "execution_count": 142,
     "metadata": {},
     "output_type": "execute_result"
    }
   ],
   "execution_count": 142
  },
  {
   "metadata": {},
   "cell_type": "markdown",
   "source": "Wartości nan w module Pandas",
   "id": "2bc138cd198cdf2b"
  },
  {
   "metadata": {
    "ExecuteTime": {
     "end_time": "2024-10-12T11:54:30.197944Z",
     "start_time": "2024-10-12T11:54:30.190737Z"
    }
   },
   "cell_type": "code",
   "source": "z.var(ddof=1)",
   "id": "1d4054de208043f",
   "outputs": [
    {
     "data": {
      "text/plain": [
       "np.float64(123.19999999999999)"
      ]
     },
     "execution_count": 143,
     "metadata": {},
     "output_type": "execute_result"
    }
   ],
   "execution_count": 143
  },
  {
   "metadata": {
    "ExecuteTime": {
     "end_time": "2024-10-12T11:54:30.249273Z",
     "start_time": "2024-10-12T11:54:30.240617Z"
    }
   },
   "cell_type": "code",
   "source": "z_with_nan.var(ddof=1)",
   "id": "454da4a4c88e9940",
   "outputs": [
    {
     "data": {
      "text/plain": [
       "np.float64(123.19999999999999)"
      ]
     },
     "execution_count": 144,
     "metadata": {},
     "output_type": "execute_result"
    }
   ],
   "execution_count": 144
  },
  {
   "metadata": {},
   "cell_type": "markdown",
   "source": "Wariancja populacji",
   "id": "7d02ba6f80d70b1"
  },
  {
   "metadata": {
    "ExecuteTime": {
     "end_time": "2024-10-12T11:54:30.365459Z",
     "start_time": "2024-10-12T11:54:30.360837Z"
    }
   },
   "cell_type": "code",
   "source": "statistics.pvariance(x)",
   "id": "6e6159fce50044fd",
   "outputs": [
    {
     "data": {
      "text/plain": [
       "98.56"
      ]
     },
     "execution_count": 145,
     "metadata": {},
     "output_type": "execute_result"
    }
   ],
   "execution_count": 145
  },
  {
   "metadata": {
    "ExecuteTime": {
     "end_time": "2024-10-12T11:54:30.418697Z",
     "start_time": "2024-10-12T11:54:30.410654Z"
    }
   },
   "cell_type": "code",
   "source": "np.var(y, ddof=0)",
   "id": "2ec54bc103af7f73",
   "outputs": [
    {
     "data": {
      "text/plain": [
       "np.float64(98.55999999999999)"
      ]
     },
     "execution_count": 146,
     "metadata": {},
     "output_type": "execute_result"
    }
   ],
   "execution_count": 146
  },
  {
   "metadata": {
    "ExecuteTime": {
     "end_time": "2024-10-12T11:54:30.538233Z",
     "start_time": "2024-10-12T11:54:30.530691Z"
    }
   },
   "cell_type": "code",
   "source": "z.var(ddof=0)",
   "id": "f9fb3bd78dc90013",
   "outputs": [
    {
     "data": {
      "text/plain": [
       "np.float64(98.55999999999999)"
      ]
     },
     "execution_count": 147,
     "metadata": {},
     "output_type": "execute_result"
    }
   ],
   "execution_count": 147
  },
  {
   "metadata": {},
   "cell_type": "markdown",
   "source": "Odchylenie standardowe",
   "id": "244455c9fa2a37fd"
  },
  {
   "metadata": {
    "ExecuteTime": {
     "end_time": "2024-10-12T11:54:30.587772Z",
     "start_time": "2024-10-12T11:54:30.580655Z"
    }
   },
   "cell_type": "code",
   "source": [
    "std_ = var_ ** 0.5\n",
    "std_"
   ],
   "id": "45b6758afeffc432",
   "outputs": [
    {
     "data": {
      "text/plain": [
       "np.float64(3.2071349029490928)"
      ]
     },
     "execution_count": 148,
     "metadata": {},
     "output_type": "execute_result"
    }
   ],
   "execution_count": 148
  },
  {
   "metadata": {},
   "cell_type": "markdown",
   "source": "Odchylenie standardowe w module statistics",
   "id": "3c845ec072d73ce2"
  },
  {
   "metadata": {
    "ExecuteTime": {
     "end_time": "2024-10-12T11:54:30.727601Z",
     "start_time": "2024-10-12T11:54:30.720739Z"
    }
   },
   "cell_type": "code",
   "source": [
    "std_ = statistics.stdev(x)\n",
    "std_"
   ],
   "id": "9949cd668ce80a94",
   "outputs": [
    {
     "data": {
      "text/plain": [
       "11.099549540409287"
      ]
     },
     "execution_count": 149,
     "metadata": {},
     "output_type": "execute_result"
    }
   ],
   "execution_count": 149
  },
  {
   "metadata": {},
   "cell_type": "markdown",
   "source": "Odchylenie standardowe w module NumPy",
   "id": "eeb78f680dc45842"
  },
  {
   "metadata": {
    "ExecuteTime": {
     "end_time": "2024-10-12T11:54:30.772635Z",
     "start_time": "2024-10-12T11:54:30.765989Z"
    }
   },
   "cell_type": "code",
   "source": "np.std(y, ddof=1)",
   "id": "41062cedfab7e810",
   "outputs": [
    {
     "data": {
      "text/plain": [
       "np.float64(11.099549540409285)"
      ]
     },
     "execution_count": 150,
     "metadata": {},
     "output_type": "execute_result"
    }
   ],
   "execution_count": 150
  },
  {
   "metadata": {
    "ExecuteTime": {
     "end_time": "2024-10-12T11:54:30.920538Z",
     "start_time": "2024-10-12T11:54:30.915387Z"
    }
   },
   "cell_type": "code",
   "source": "y.std(ddof=1)",
   "id": "3a53cc9d250a6677",
   "outputs": [
    {
     "data": {
      "text/plain": [
       "np.float64(11.099549540409285)"
      ]
     },
     "execution_count": 151,
     "metadata": {},
     "output_type": "execute_result"
    }
   ],
   "execution_count": 151
  },
  {
   "metadata": {
    "ExecuteTime": {
     "end_time": "2024-10-12T11:54:30.959018Z",
     "start_time": "2024-10-12T11:54:30.950427Z"
    }
   },
   "cell_type": "code",
   "source": "np.std(y_with_nan, ddof=1)",
   "id": "b3e9cf29e6297acf",
   "outputs": [
    {
     "data": {
      "text/plain": [
       "np.float64(nan)"
      ]
     },
     "execution_count": 152,
     "metadata": {},
     "output_type": "execute_result"
    }
   ],
   "execution_count": 152
  },
  {
   "metadata": {
    "ExecuteTime": {
     "end_time": "2024-10-12T11:54:31.088422Z",
     "start_time": "2024-10-12T11:54:31.080414Z"
    }
   },
   "cell_type": "code",
   "source": "y_with_nan.std(ddof=1)",
   "id": "2749dacf9fb37ef6",
   "outputs": [
    {
     "data": {
      "text/plain": [
       "np.float64(nan)"
      ]
     },
     "execution_count": 153,
     "metadata": {},
     "output_type": "execute_result"
    }
   ],
   "execution_count": 153
  },
  {
   "metadata": {
    "ExecuteTime": {
     "end_time": "2024-10-12T11:54:31.118321Z",
     "start_time": "2024-10-12T11:54:31.110724Z"
    }
   },
   "cell_type": "code",
   "source": "np.nanstd(y_with_nan, ddof=1)",
   "id": "4dc7dc7181354ae3",
   "outputs": [
    {
     "data": {
      "text/plain": [
       "np.float64(11.099549540409285)"
      ]
     },
     "execution_count": 154,
     "metadata": {},
     "output_type": "execute_result"
    }
   ],
   "execution_count": 154
  },
  {
   "metadata": {},
   "cell_type": "markdown",
   "source": "Odchylenie standardowe w module Pandas",
   "id": "1b5787311912b276"
  },
  {
   "metadata": {
    "ExecuteTime": {
     "end_time": "2024-10-12T11:54:31.240323Z",
     "start_time": "2024-10-12T11:54:31.235719Z"
    }
   },
   "cell_type": "code",
   "source": "z.std(ddof=1)",
   "id": "a6c1fb7591d363a1",
   "outputs": [
    {
     "data": {
      "text/plain": [
       "np.float64(11.099549540409285)"
      ]
     },
     "execution_count": 155,
     "metadata": {},
     "output_type": "execute_result"
    }
   ],
   "execution_count": 155
  },
  {
   "metadata": {
    "ExecuteTime": {
     "end_time": "2024-10-12T11:54:31.273621Z",
     "start_time": "2024-10-12T11:54:31.265683Z"
    }
   },
   "cell_type": "code",
   "source": "z_with_nan.std(ddof=1)",
   "id": "8956f91f7e583bf0",
   "outputs": [
    {
     "data": {
      "text/plain": [
       "np.float64(11.099549540409285)"
      ]
     },
     "execution_count": 156,
     "metadata": {},
     "output_type": "execute_result"
    }
   ],
   "execution_count": 156
  },
  {
   "metadata": {},
   "cell_type": "markdown",
   "source": "Skośność",
   "id": "4dccc5fa2e656a5"
  },
  {
   "metadata": {
    "ExecuteTime": {
     "end_time": "2024-10-12T11:54:31.402644Z",
     "start_time": "2024-10-12T11:54:31.395693Z"
    }
   },
   "cell_type": "code",
   "source": [
    "x = [8.0, 1, 2.5, 4, 28.0]\n",
    "n = len(x)\n",
    "mean_ = sum(x) / n\n",
    "var_ = sum((item - mean_) ** 2 for item in x) / (n - 1)\n",
    "std_ = var_ ** 0.5\n",
    "skew_ = sum((item - mean_) ** 3 for item in x) * n / ((n - 1) * (n - 2) * std_ ** 3)\n",
    "skew_"
   ],
   "id": "4dc332913434e086",
   "outputs": [
    {
     "data": {
      "text/plain": [
       "1.947043227390592"
      ]
     },
     "execution_count": 157,
     "metadata": {},
     "output_type": "execute_result"
    }
   ],
   "execution_count": 157
  },
  {
   "metadata": {},
   "cell_type": "markdown",
   "source": "W tym przypadku skośność jest dodatnia, co symbolizuje ogon po prawej stronie.",
   "id": "a212402495313b8c"
  },
  {
   "metadata": {},
   "cell_type": "markdown",
   "source": "Skośność w module Scipy",
   "id": "196645b51aba01fd"
  },
  {
   "metadata": {
    "ExecuteTime": {
     "end_time": "2024-10-12T11:54:31.457646Z",
     "start_time": "2024-10-12T11:54:31.450822Z"
    }
   },
   "cell_type": "code",
   "source": [
    "y, y_with_nan = np.array(x), np.array(x_with_nan)\n",
    "scipy.stats.skew(y, bias=False)"
   ],
   "id": "d3a52f02fef2b436",
   "outputs": [
    {
     "data": {
      "text/plain": [
       "np.float64(1.9470432273905927)"
      ]
     },
     "execution_count": 158,
     "metadata": {},
     "output_type": "execute_result"
    }
   ],
   "execution_count": 158
  },
  {
   "metadata": {
    "ExecuteTime": {
     "end_time": "2024-10-12T11:54:31.594525Z",
     "start_time": "2024-10-12T11:54:31.585766Z"
    }
   },
   "cell_type": "code",
   "source": "scipy.stats.skew(y_with_nan, bias=False)",
   "id": "7266693029b0219",
   "outputs": [
    {
     "data": {
      "text/plain": [
       "np.float64(nan)"
      ]
     },
     "execution_count": 159,
     "metadata": {},
     "output_type": "execute_result"
    }
   ],
   "execution_count": 159
  },
  {
   "metadata": {},
   "cell_type": "markdown",
   "source": "Skośność w module Pandas",
   "id": "b5a6fb9482d0e483"
  },
  {
   "metadata": {
    "ExecuteTime": {
     "end_time": "2024-10-12T11:54:31.627838Z",
     "start_time": "2024-10-12T11:54:31.619801Z"
    }
   },
   "cell_type": "code",
   "source": [
    "z, z_with_nan = pd.Series(x), pd.Series(x_with_nan)\n",
    "z.skew()"
   ],
   "id": "9a6544f2a0266410",
   "outputs": [
    {
     "data": {
      "text/plain": [
       "np.float64(1.9470432273905924)"
      ]
     },
     "execution_count": 160,
     "metadata": {},
     "output_type": "execute_result"
    }
   ],
   "execution_count": 160
  },
  {
   "metadata": {
    "ExecuteTime": {
     "end_time": "2024-10-12T11:54:31.735652Z",
     "start_time": "2024-10-12T11:54:31.730487Z"
    }
   },
   "cell_type": "code",
   "source": "z_with_nan.skew()",
   "id": "d7aeeb0c86f3e375",
   "outputs": [
    {
     "data": {
      "text/plain": [
       "np.float64(1.9470432273905924)"
      ]
     },
     "execution_count": 161,
     "metadata": {},
     "output_type": "execute_result"
    }
   ],
   "execution_count": 161
  },
  {
   "metadata": {},
   "cell_type": "markdown",
   "source": "Kurtoza",
   "id": "b66eca86ea78d9da"
  },
  {
   "metadata": {
    "ExecuteTime": {
     "end_time": "2024-10-12T11:54:31.799733Z",
     "start_time": "2024-10-12T11:54:31.795546Z"
    }
   },
   "cell_type": "code",
   "source": "from scipy.stats import kurtosis",
   "id": "1a2b67560960e19c",
   "outputs": [],
   "execution_count": 162
  },
  {
   "metadata": {
    "ExecuteTime": {
     "end_time": "2024-10-12T11:54:31.910653Z",
     "start_time": "2024-10-12T11:54:31.905550Z"
    }
   },
   "cell_type": "code",
   "source": "print(kurtosis(x, axis=0, bias=True))",
   "id": "123f83a2c4080cf",
   "outputs": [
    {
     "name": "stdout",
     "output_type": "stream",
     "text": [
      "-0.030495095281138695\n"
     ]
    }
   ],
   "execution_count": 163
  },
  {
   "metadata": {},
   "cell_type": "markdown",
   "source": "Kurtoza zbioru x jest mniejsza niż 3 co czyni ją rozkładem playkurtycznym.",
   "id": "562ab0c5fbd83f05"
  },
  {
   "metadata": {},
   "cell_type": "markdown",
   "source": "Percentyle",
   "id": "5fe18bfb3e78ac29"
  },
  {
   "metadata": {
    "ExecuteTime": {
     "end_time": "2024-10-12T11:54:31.942370Z",
     "start_time": "2024-10-12T11:54:31.935661Z"
    }
   },
   "cell_type": "code",
   "source": [
    "x = [-5.0, -1.1, 0.1, 2.0, 8.0, 12.8, 21.0, 25.8, 41.0]\n",
    "statistics.quantiles(x, n=2)"
   ],
   "id": "e26ab52811066b26",
   "outputs": [
    {
     "data": {
      "text/plain": [
       "[8.0]"
      ]
     },
     "execution_count": 164,
     "metadata": {},
     "output_type": "execute_result"
    }
   ],
   "execution_count": 164
  },
  {
   "metadata": {
    "ExecuteTime": {
     "end_time": "2024-10-12T11:54:32.052825Z",
     "start_time": "2024-10-12T11:54:32.040448Z"
    }
   },
   "cell_type": "code",
   "source": "statistics.quantiles(x, n=4, method='inclusive')",
   "id": "9ec3d30aeefb0ce5",
   "outputs": [
    {
     "data": {
      "text/plain": [
       "[0.1, 8.0, 21.0]"
      ]
     },
     "execution_count": 165,
     "metadata": {},
     "output_type": "execute_result"
    }
   ],
   "execution_count": 165
  },
  {
   "metadata": {
    "ExecuteTime": {
     "end_time": "2024-10-12T11:54:32.119755Z",
     "start_time": "2024-10-12T11:54:32.112934Z"
    }
   },
   "cell_type": "code",
   "source": [
    "y = np.array(x)\n",
    "np.percentile(y, 5)"
   ],
   "id": "fd95a31578236e6f",
   "outputs": [
    {
     "data": {
      "text/plain": [
       "np.float64(-3.44)"
      ]
     },
     "execution_count": 166,
     "metadata": {},
     "output_type": "execute_result"
    }
   ],
   "execution_count": 166
  },
  {
   "metadata": {
    "ExecuteTime": {
     "end_time": "2024-10-12T11:54:32.270715Z",
     "start_time": "2024-10-12T11:54:32.259705Z"
    }
   },
   "cell_type": "code",
   "source": "np.percentile(y, 95)",
   "id": "8b950a5acda2076f",
   "outputs": [
    {
     "data": {
      "text/plain": [
       "np.float64(34.919999999999995)"
      ]
     },
     "execution_count": 167,
     "metadata": {},
     "output_type": "execute_result"
    }
   ],
   "execution_count": 167
  },
  {
   "metadata": {
    "ExecuteTime": {
     "end_time": "2024-10-12T11:54:32.331958Z",
     "start_time": "2024-10-12T11:54:32.320785Z"
    }
   },
   "cell_type": "code",
   "source": "np.percentile(y, [25, 50, 75])",
   "id": "5d12cd7f37e8dea0",
   "outputs": [
    {
     "data": {
      "text/plain": [
       "array([ 0.1,  8. , 21. ])"
      ]
     },
     "execution_count": 168,
     "metadata": {},
     "output_type": "execute_result"
    }
   ],
   "execution_count": 168
  },
  {
   "metadata": {
    "ExecuteTime": {
     "end_time": "2024-10-12T11:54:32.446867Z",
     "start_time": "2024-10-12T11:54:32.440512Z"
    }
   },
   "cell_type": "code",
   "source": "np.median(y)",
   "id": "df57e98bf3e8bb8b",
   "outputs": [
    {
     "data": {
      "text/plain": [
       "np.float64(8.0)"
      ]
     },
     "execution_count": 169,
     "metadata": {},
     "output_type": "execute_result"
    }
   ],
   "execution_count": 169
  },
  {
   "metadata": {},
   "cell_type": "markdown",
   "source": "Ignorowanie wartości nan",
   "id": "d4d18c7a621f7242"
  },
  {
   "metadata": {
    "ExecuteTime": {
     "end_time": "2024-10-12T11:54:32.507485Z",
     "start_time": "2024-10-12T11:54:32.500537Z"
    }
   },
   "cell_type": "code",
   "source": [
    "y_with_nan = np.insert(y, 2, np.nan)\n",
    "y_with_nan"
   ],
   "id": "861b0d917d3340d",
   "outputs": [
    {
     "data": {
      "text/plain": [
       "array([-5. , -1.1,  nan,  0.1,  2. ,  8. , 12.8, 21. , 25.8, 41. ])"
      ]
     },
     "execution_count": 170,
     "metadata": {},
     "output_type": "execute_result"
    }
   ],
   "execution_count": 170
  },
  {
   "metadata": {
    "ExecuteTime": {
     "end_time": "2024-10-12T11:54:32.635670Z",
     "start_time": "2024-10-12T11:54:32.630544Z"
    }
   },
   "cell_type": "code",
   "source": "np.nanpercentile(y_with_nan, [25, 50, 75])",
   "id": "9fb8d0f363e7f403",
   "outputs": [
    {
     "data": {
      "text/plain": [
       "array([ 0.1,  8. , 21. ])"
      ]
     },
     "execution_count": 171,
     "metadata": {},
     "output_type": "execute_result"
    }
   ],
   "execution_count": 171
  },
  {
   "metadata": {},
   "cell_type": "markdown",
   "source": "Kwantyle w module NumPy",
   "id": "aad8e800ff546de1"
  },
  {
   "metadata": {
    "ExecuteTime": {
     "end_time": "2024-10-12T11:54:32.686694Z",
     "start_time": "2024-10-12T11:54:32.680651Z"
    }
   },
   "cell_type": "code",
   "source": "np.quantile(y, 0.05)",
   "id": "2e224808c9dfc6bc",
   "outputs": [
    {
     "data": {
      "text/plain": [
       "np.float64(-3.44)"
      ]
     },
     "execution_count": 172,
     "metadata": {},
     "output_type": "execute_result"
    }
   ],
   "execution_count": 172
  },
  {
   "metadata": {
    "ExecuteTime": {
     "end_time": "2024-10-12T11:54:32.781445Z",
     "start_time": "2024-10-12T11:54:32.775558Z"
    }
   },
   "cell_type": "code",
   "source": "np.quantile(y, 0.95)",
   "id": "f6109d250a191de1",
   "outputs": [
    {
     "data": {
      "text/plain": [
       "np.float64(34.919999999999995)"
      ]
     },
     "execution_count": 173,
     "metadata": {},
     "output_type": "execute_result"
    }
   ],
   "execution_count": 173
  },
  {
   "metadata": {
    "ExecuteTime": {
     "end_time": "2024-10-12T11:54:32.850558Z",
     "start_time": "2024-10-12T11:54:32.845477Z"
    }
   },
   "cell_type": "code",
   "source": "np.quantile(y, [0.25, 0.50, 0.75])",
   "id": "ea4494f59dadee8e",
   "outputs": [
    {
     "data": {
      "text/plain": [
       "array([ 0.1,  8. , 21. ])"
      ]
     },
     "execution_count": 174,
     "metadata": {},
     "output_type": "execute_result"
    }
   ],
   "execution_count": 174
  },
  {
   "metadata": {
    "ExecuteTime": {
     "end_time": "2024-10-12T11:54:32.957549Z",
     "start_time": "2024-10-12T11:54:32.950720Z"
    }
   },
   "cell_type": "code",
   "source": "np.nanquantile(y_with_nan, [0.25, 0.50, 0.75])",
   "id": "335991d3e110e3b5",
   "outputs": [
    {
     "data": {
      "text/plain": [
       "array([ 0.1,  8. , 21. ])"
      ]
     },
     "execution_count": 175,
     "metadata": {},
     "output_type": "execute_result"
    }
   ],
   "execution_count": 175
  },
  {
   "metadata": {},
   "cell_type": "markdown",
   "source": "Kwantyle w module Pandas",
   "id": "5e855d1a91178452"
  },
  {
   "metadata": {
    "ExecuteTime": {
     "end_time": "2024-10-12T11:54:32.997121Z",
     "start_time": "2024-10-12T11:54:32.990422Z"
    }
   },
   "cell_type": "code",
   "source": [
    "z, z_with_nan = pd.Series(y), pd.Series(y_with_nan)\n",
    "z.quantile(0.05)"
   ],
   "id": "a1f2265097ffe8c",
   "outputs": [
    {
     "data": {
      "text/plain": [
       "np.float64(-3.44)"
      ]
     },
     "execution_count": 176,
     "metadata": {},
     "output_type": "execute_result"
    }
   ],
   "execution_count": 176
  },
  {
   "metadata": {
    "ExecuteTime": {
     "end_time": "2024-10-12T11:54:33.107797Z",
     "start_time": "2024-10-12T11:54:33.100966Z"
    }
   },
   "cell_type": "code",
   "source": "z.quantile(0.95)",
   "id": "6199db99c8e63448",
   "outputs": [
    {
     "data": {
      "text/plain": [
       "np.float64(34.919999999999995)"
      ]
     },
     "execution_count": 177,
     "metadata": {},
     "output_type": "execute_result"
    }
   ],
   "execution_count": 177
  },
  {
   "metadata": {
    "ExecuteTime": {
     "end_time": "2024-10-12T11:54:33.183057Z",
     "start_time": "2024-10-12T11:54:33.170507Z"
    }
   },
   "cell_type": "code",
   "source": "z.quantile([0.25, 0.50, 0.75])",
   "id": "b75b491e4ba85938",
   "outputs": [
    {
     "data": {
      "text/plain": [
       "0.25     0.1\n",
       "0.50     8.0\n",
       "0.75    21.0\n",
       "dtype: float64"
      ]
     },
     "execution_count": 178,
     "metadata": {},
     "output_type": "execute_result"
    }
   ],
   "execution_count": 178
  },
  {
   "metadata": {
    "ExecuteTime": {
     "end_time": "2024-10-12T11:54:33.263705Z",
     "start_time": "2024-10-12T11:54:33.255498Z"
    }
   },
   "cell_type": "code",
   "source": "z_with_nan.quantile([0.25, 0.50, 0.75])",
   "id": "badb885b68a95b90",
   "outputs": [
    {
     "data": {
      "text/plain": [
       "0.25     0.1\n",
       "0.50     8.0\n",
       "0.75    21.0\n",
       "dtype: float64"
      ]
     },
     "execution_count": 179,
     "metadata": {},
     "output_type": "execute_result"
    }
   ],
   "execution_count": 179
  },
  {
   "metadata": {},
   "cell_type": "markdown",
   "source": "Zakresy",
   "id": "34fc99d04796cb12"
  },
  {
   "metadata": {
    "ExecuteTime": {
     "end_time": "2024-10-12T11:54:33.328573Z",
     "start_time": "2024-10-12T11:54:33.320711Z"
    }
   },
   "cell_type": "code",
   "source": "np.ptp(y)",
   "id": "80aff421c9a7e9ff",
   "outputs": [
    {
     "data": {
      "text/plain": [
       "np.float64(46.0)"
      ]
     },
     "execution_count": 180,
     "metadata": {},
     "output_type": "execute_result"
    }
   ],
   "execution_count": 180
  },
  {
   "metadata": {
    "ExecuteTime": {
     "end_time": "2024-10-12T11:54:33.451992Z",
     "start_time": "2024-10-12T11:54:33.440643Z"
    }
   },
   "cell_type": "code",
   "source": "np.ptp(z)",
   "id": "d0d2ba9632f6ce2e",
   "outputs": [
    {
     "data": {
      "text/plain": [
       "np.float64(46.0)"
      ]
     },
     "execution_count": 181,
     "metadata": {},
     "output_type": "execute_result"
    }
   ],
   "execution_count": 181
  },
  {
   "metadata": {
    "ExecuteTime": {
     "end_time": "2024-10-12T11:54:33.496533Z",
     "start_time": "2024-10-12T11:54:33.490660Z"
    }
   },
   "cell_type": "code",
   "source": "np.ptp(y_with_nan)",
   "id": "35922ab2f66bcab3",
   "outputs": [
    {
     "data": {
      "text/plain": [
       "np.float64(nan)"
      ]
     },
     "execution_count": 182,
     "metadata": {},
     "output_type": "execute_result"
    }
   ],
   "execution_count": 182
  },
  {
   "metadata": {
    "ExecuteTime": {
     "end_time": "2024-10-12T11:54:33.607060Z",
     "start_time": "2024-10-12T11:54:33.600341Z"
    }
   },
   "cell_type": "code",
   "source": "np.ptp(z_with_nan)",
   "id": "f4d720bc2d17d5e6",
   "outputs": [
    {
     "data": {
      "text/plain": [
       "np.float64(nan)"
      ]
     },
     "execution_count": 183,
     "metadata": {},
     "output_type": "execute_result"
    }
   ],
   "execution_count": 183
  },
  {
   "metadata": {},
   "cell_type": "markdown",
   "source": "Zakresy za pomocą maksimów i minimów sekwencji",
   "id": "ba69423e9e2cd117"
  },
  {
   "metadata": {
    "ExecuteTime": {
     "end_time": "2024-10-12T11:54:33.678855Z",
     "start_time": "2024-10-12T11:54:33.670544Z"
    }
   },
   "cell_type": "code",
   "source": "np.amax(y) - np.amin(y)",
   "id": "63f1754cc7a3a871",
   "outputs": [
    {
     "data": {
      "text/plain": [
       "np.float64(46.0)"
      ]
     },
     "execution_count": 184,
     "metadata": {},
     "output_type": "execute_result"
    }
   ],
   "execution_count": 184
  },
  {
   "metadata": {
    "ExecuteTime": {
     "end_time": "2024-10-12T11:54:33.763748Z",
     "start_time": "2024-10-12T11:54:33.755483Z"
    }
   },
   "cell_type": "code",
   "source": "np.nanmax(y_with_nan) - np.nanmin(y_with_nan)",
   "id": "6c8997d8189ea981",
   "outputs": [
    {
     "data": {
      "text/plain": [
       "np.float64(46.0)"
      ]
     },
     "execution_count": 185,
     "metadata": {},
     "output_type": "execute_result"
    }
   ],
   "execution_count": 185
  },
  {
   "metadata": {
    "ExecuteTime": {
     "end_time": "2024-10-12T11:54:33.850679Z",
     "start_time": "2024-10-12T11:54:33.845511Z"
    }
   },
   "cell_type": "code",
   "source": "y.max() - y.min()",
   "id": "f98a2166b3b19440",
   "outputs": [
    {
     "data": {
      "text/plain": [
       "np.float64(46.0)"
      ]
     },
     "execution_count": 186,
     "metadata": {},
     "output_type": "execute_result"
    }
   ],
   "execution_count": 186
  },
  {
   "metadata": {
    "ExecuteTime": {
     "end_time": "2024-10-12T11:54:33.928687Z",
     "start_time": "2024-10-12T11:54:33.920726Z"
    }
   },
   "cell_type": "code",
   "source": "z.max() - z.min()",
   "id": "2b3c039eef98fefa",
   "outputs": [
    {
     "data": {
      "text/plain": [
       "np.float64(46.0)"
      ]
     },
     "execution_count": 187,
     "metadata": {},
     "output_type": "execute_result"
    }
   ],
   "execution_count": 187
  },
  {
   "metadata": {
    "ExecuteTime": {
     "end_time": "2024-10-12T11:54:33.997197Z",
     "start_time": "2024-10-12T11:54:33.990695Z"
    }
   },
   "cell_type": "code",
   "source": "z_with_nan.max() - z_with_nan.min()",
   "id": "bb605c6f759be34a",
   "outputs": [
    {
     "data": {
      "text/plain": [
       "np.float64(46.0)"
      ]
     },
     "execution_count": 188,
     "metadata": {},
     "output_type": "execute_result"
    }
   ],
   "execution_count": 188
  },
  {
   "metadata": {},
   "cell_type": "markdown",
   "source": "Zakres interkwartylowy",
   "id": "8c2502771f02a528"
  },
  {
   "metadata": {
    "ExecuteTime": {
     "end_time": "2024-10-12T11:54:34.076570Z",
     "start_time": "2024-10-12T11:54:34.060579Z"
    }
   },
   "cell_type": "code",
   "source": [
    "quartiles = np.quantile(y, [0.25, 0.75])\n",
    "quartiles[1] - quartiles[0]"
   ],
   "id": "29d9e65c249a1ee3",
   "outputs": [
    {
     "data": {
      "text/plain": [
       "np.float64(20.9)"
      ]
     },
     "execution_count": 189,
     "metadata": {},
     "output_type": "execute_result"
    }
   ],
   "execution_count": 189
  },
  {
   "metadata": {
    "ExecuteTime": {
     "end_time": "2024-10-12T11:54:34.156956Z",
     "start_time": "2024-10-12T11:54:34.150492Z"
    }
   },
   "cell_type": "code",
   "source": [
    "quartiles = z.quantile([0.25, 0.75])\n",
    "quartiles[0.75] - quartiles[0.25]"
   ],
   "id": "578e5709070508",
   "outputs": [
    {
     "data": {
      "text/plain": [
       "np.float64(20.9)"
      ]
     },
     "execution_count": 190,
     "metadata": {},
     "output_type": "execute_result"
    }
   ],
   "execution_count": 190
  },
  {
   "metadata": {},
   "cell_type": "markdown",
   "source": "### Podsumowanie statystyk opisowych",
   "id": "db8bf7aa556cbd19"
  },
  {
   "metadata": {},
   "cell_type": "markdown",
   "source": "Describe w module SciPy",
   "id": "2dd63f866898a1ef"
  },
  {
   "metadata": {
    "ExecuteTime": {
     "end_time": "2024-10-12T11:54:34.257602Z",
     "start_time": "2024-10-12T11:54:34.251940Z"
    }
   },
   "cell_type": "code",
   "source": [
    "result = scipy.stats.describe(y, ddof=1, bias=False)\n",
    "result"
   ],
   "id": "3e293309808e2328",
   "outputs": [
    {
     "data": {
      "text/plain": [
       "DescribeResult(nobs=9, minmax=(np.float64(-5.0), np.float64(41.0)), mean=np.float64(11.622222222222222), variance=np.float64(228.75194444444446), skewness=np.float64(0.9249043136685094), kurtosis=np.float64(0.14770623629658886))"
      ]
     },
     "execution_count": 191,
     "metadata": {},
     "output_type": "execute_result"
    }
   ],
   "execution_count": 191
  },
  {
   "metadata": {
    "ExecuteTime": {
     "end_time": "2024-10-12T11:54:34.334351Z",
     "start_time": "2024-10-12T11:54:34.330281Z"
    }
   },
   "cell_type": "code",
   "source": "result.nobs",
   "id": "4aff19b17cae34ad",
   "outputs": [
    {
     "data": {
      "text/plain": [
       "9"
      ]
     },
     "execution_count": 192,
     "metadata": {},
     "output_type": "execute_result"
    }
   ],
   "execution_count": 192
  },
  {
   "metadata": {
    "ExecuteTime": {
     "end_time": "2024-10-12T11:54:34.449791Z",
     "start_time": "2024-10-12T11:54:34.440568Z"
    }
   },
   "cell_type": "code",
   "source": "result.minmax[0]  # Min",
   "id": "4447ad52cdb06075",
   "outputs": [
    {
     "data": {
      "text/plain": [
       "np.float64(-5.0)"
      ]
     },
     "execution_count": 193,
     "metadata": {},
     "output_type": "execute_result"
    }
   ],
   "execution_count": 193
  },
  {
   "metadata": {
    "ExecuteTime": {
     "end_time": "2024-10-12T11:54:34.504876Z",
     "start_time": "2024-10-12T11:54:34.495596Z"
    }
   },
   "cell_type": "code",
   "source": "result.minmax[1]  # Max",
   "id": "3ac3f3208f1079af",
   "outputs": [
    {
     "data": {
      "text/plain": [
       "np.float64(41.0)"
      ]
     },
     "execution_count": 194,
     "metadata": {},
     "output_type": "execute_result"
    }
   ],
   "execution_count": 194
  },
  {
   "metadata": {
    "ExecuteTime": {
     "end_time": "2024-10-12T11:54:34.620750Z",
     "start_time": "2024-10-12T11:54:34.615381Z"
    }
   },
   "cell_type": "code",
   "source": "result.mean",
   "id": "54c67720de77a18c",
   "outputs": [
    {
     "data": {
      "text/plain": [
       "np.float64(11.622222222222222)"
      ]
     },
     "execution_count": 195,
     "metadata": {},
     "output_type": "execute_result"
    }
   ],
   "execution_count": 195
  },
  {
   "metadata": {
    "ExecuteTime": {
     "end_time": "2024-10-12T11:54:34.657518Z",
     "start_time": "2024-10-12T11:54:34.650467Z"
    }
   },
   "cell_type": "code",
   "source": "result.variance",
   "id": "4fab2eac924a3984",
   "outputs": [
    {
     "data": {
      "text/plain": [
       "np.float64(228.75194444444446)"
      ]
     },
     "execution_count": 196,
     "metadata": {},
     "output_type": "execute_result"
    }
   ],
   "execution_count": 196
  },
  {
   "metadata": {
    "ExecuteTime": {
     "end_time": "2024-10-12T11:54:34.774125Z",
     "start_time": "2024-10-12T11:54:34.765707Z"
    }
   },
   "cell_type": "code",
   "source": "result.skewness",
   "id": "5aeae4bd9c505641",
   "outputs": [
    {
     "data": {
      "text/plain": [
       "np.float64(0.9249043136685094)"
      ]
     },
     "execution_count": 197,
     "metadata": {},
     "output_type": "execute_result"
    }
   ],
   "execution_count": 197
  },
  {
   "metadata": {
    "ExecuteTime": {
     "end_time": "2024-10-12T11:54:34.825544Z",
     "start_time": "2024-10-12T11:54:34.820955Z"
    }
   },
   "cell_type": "code",
   "source": "result.kurtosis",
   "id": "3c559a8686f97fb1",
   "outputs": [
    {
     "data": {
      "text/plain": [
       "np.float64(0.14770623629658886)"
      ]
     },
     "execution_count": 198,
     "metadata": {},
     "output_type": "execute_result"
    }
   ],
   "execution_count": 198
  },
  {
   "metadata": {},
   "cell_type": "markdown",
   "source": "Describe w module Pandas",
   "id": "d220ce761d6205e3"
  },
  {
   "metadata": {
    "ExecuteTime": {
     "end_time": "2024-10-12T11:54:34.903687Z",
     "start_time": "2024-10-12T11:54:34.895695Z"
    }
   },
   "cell_type": "code",
   "source": [
    "result = z.describe()\n",
    "result"
   ],
   "id": "d852cb5a5cb07f66",
   "outputs": [
    {
     "data": {
      "text/plain": [
       "count     9.000000\n",
       "mean     11.622222\n",
       "std      15.124548\n",
       "min      -5.000000\n",
       "25%       0.100000\n",
       "50%       8.000000\n",
       "75%      21.000000\n",
       "max      41.000000\n",
       "dtype: float64"
      ]
     },
     "execution_count": 199,
     "metadata": {},
     "output_type": "execute_result"
    }
   ],
   "execution_count": 199
  },
  {
   "metadata": {
    "ExecuteTime": {
     "end_time": "2024-10-12T11:54:34.986896Z",
     "start_time": "2024-10-12T11:54:34.980334Z"
    }
   },
   "cell_type": "code",
   "source": "result['mean']",
   "id": "4a681bd47d657a98",
   "outputs": [
    {
     "data": {
      "text/plain": [
       "np.float64(11.622222222222222)"
      ]
     },
     "execution_count": 200,
     "metadata": {},
     "output_type": "execute_result"
    }
   ],
   "execution_count": 200
  },
  {
   "metadata": {
    "ExecuteTime": {
     "end_time": "2024-10-12T11:54:35.077476Z",
     "start_time": "2024-10-12T11:54:35.069407Z"
    }
   },
   "cell_type": "code",
   "source": "result['std']",
   "id": "1df69059c9977911",
   "outputs": [
    {
     "data": {
      "text/plain": [
       "np.float64(15.12454774346805)"
      ]
     },
     "execution_count": 201,
     "metadata": {},
     "output_type": "execute_result"
    }
   ],
   "execution_count": 201
  },
  {
   "metadata": {
    "ExecuteTime": {
     "end_time": "2024-10-12T11:54:35.155845Z",
     "start_time": "2024-10-12T11:54:35.150697Z"
    }
   },
   "cell_type": "code",
   "source": "result['min']",
   "id": "ea0f94d282181e1f",
   "outputs": [
    {
     "data": {
      "text/plain": [
       "np.float64(-5.0)"
      ]
     },
     "execution_count": 202,
     "metadata": {},
     "output_type": "execute_result"
    }
   ],
   "execution_count": 202
  },
  {
   "metadata": {
    "ExecuteTime": {
     "end_time": "2024-10-12T11:54:35.226471Z",
     "start_time": "2024-10-12T11:54:35.220704Z"
    }
   },
   "cell_type": "code",
   "source": "result['max']",
   "id": "576789e658f4f5f6",
   "outputs": [
    {
     "data": {
      "text/plain": [
       "np.float64(41.0)"
      ]
     },
     "execution_count": 203,
     "metadata": {},
     "output_type": "execute_result"
    }
   ],
   "execution_count": 203
  },
  {
   "metadata": {
    "ExecuteTime": {
     "end_time": "2024-10-12T11:54:35.353544Z",
     "start_time": "2024-10-12T11:54:35.347753Z"
    }
   },
   "cell_type": "code",
   "source": "result['25%']",
   "id": "226014a74fab793d",
   "outputs": [
    {
     "data": {
      "text/plain": [
       "np.float64(0.1)"
      ]
     },
     "execution_count": 204,
     "metadata": {},
     "output_type": "execute_result"
    }
   ],
   "execution_count": 204
  },
  {
   "metadata": {
    "ExecuteTime": {
     "end_time": "2024-10-12T11:54:35.463218Z",
     "start_time": "2024-10-12T11:54:35.458192Z"
    }
   },
   "cell_type": "code",
   "source": "result['50%']",
   "id": "e7b96eebc279c2cf",
   "outputs": [
    {
     "data": {
      "text/plain": [
       "np.float64(8.0)"
      ]
     },
     "execution_count": 205,
     "metadata": {},
     "output_type": "execute_result"
    }
   ],
   "execution_count": 205
  },
  {
   "metadata": {
    "ExecuteTime": {
     "end_time": "2024-10-12T11:54:35.521840Z",
     "start_time": "2024-10-12T11:54:35.518033Z"
    }
   },
   "cell_type": "code",
   "source": "result['75%']",
   "id": "e139d0509bad6c73",
   "outputs": [
    {
     "data": {
      "text/plain": [
       "np.float64(21.0)"
      ]
     },
     "execution_count": 206,
     "metadata": {},
     "output_type": "execute_result"
    }
   ],
   "execution_count": 206
  },
  {
   "metadata": {
    "ExecuteTime": {
     "end_time": "2024-10-12T11:54:35.662865Z",
     "start_time": "2024-10-12T11:54:35.660466Z"
    }
   },
   "cell_type": "code",
   "source": "",
   "id": "edbebee5c3a2210a",
   "outputs": [],
   "execution_count": 206
  }
 ],
 "metadata": {
  "kernelspec": {
   "display_name": "Python 3",
   "language": "python",
   "name": "python3"
  },
  "language_info": {
   "codemirror_mode": {
    "name": "ipython",
    "version": 2
   },
   "file_extension": ".py",
   "mimetype": "text/x-python",
   "name": "python",
   "nbconvert_exporter": "python",
   "pygments_lexer": "ipython2",
   "version": "2.7.6"
  }
 },
 "nbformat": 4,
 "nbformat_minor": 5
}
