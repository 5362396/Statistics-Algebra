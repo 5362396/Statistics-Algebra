{
 "cells": [
  {
   "metadata": {},
   "cell_type": "markdown",
   "source": "# Analiza wielowymiarowa",
   "id": "7a56c94116fadef8"
  },
  {
   "cell_type": "code",
   "id": "initial_id",
   "metadata": {
    "collapsed": true,
    "ExecuteTime": {
     "end_time": "2024-11-06T16:48:59.262767Z",
     "start_time": "2024-11-06T16:48:59.249145Z"
    }
   },
   "source": [
    "import matplotlib.pyplot as plt\n",
    "import numpy as np\n",
    "import pandas as pd\n",
    "import seaborn as sns\n",
    "%matplotlib inline\n",
    "\n",
    "pd.set_option('display.max_columns', None)\n",
    "pd.set_option('display.max_rows', None)"
   ],
   "outputs": [],
   "execution_count": 71
  },
  {
   "metadata": {
    "ExecuteTime": {
     "end_time": "2024-11-06T16:48:59.310158Z",
     "start_time": "2024-11-06T16:48:59.294045Z"
    }
   },
   "cell_type": "code",
   "source": [
    "df = pd.read_csv('auto-cleaned.csv')\n",
    "df.head()"
   ],
   "id": "e10176d3cddda62a",
   "outputs": [
    {
     "data": {
      "text/plain": [
       "   symboling         make fuel-type aspiration num-of-doors   body-style  \\\n",
       "0          3  alfa-romero       gas        std          two  convertible   \n",
       "1          3  alfa-romero       gas        std          two  convertible   \n",
       "2          1  alfa-romero       gas        std          two    hatchback   \n",
       "3          2         audi       gas        std         four        sedan   \n",
       "4          2         audi       gas        std         four        sedan   \n",
       "\n",
       "  drive-wheels engine-location  wheel-base  length  width  height  \\\n",
       "0          rwd           front        88.6   168.8   64.1    48.8   \n",
       "1          rwd           front        88.6   168.8   64.1    48.8   \n",
       "2          rwd           front        94.5   171.2   65.5    52.4   \n",
       "3          fwd           front        99.8   176.6   66.2    54.3   \n",
       "4          4wd           front        99.4   176.6   66.4    54.3   \n",
       "\n",
       "   curb-weight engine-type num-of-cylinders  engine-size fuel-system  bore  \\\n",
       "0         2548        dohc             four          130        mpfi  3.47   \n",
       "1         2548        dohc             four          130        mpfi  3.47   \n",
       "2         2823        ohcv              six          152        mpfi  2.68   \n",
       "3         2337         ohc             four          109        mpfi  3.19   \n",
       "4         2824         ohc             five          136        mpfi  3.19   \n",
       "\n",
       "   stroke  compression-ratio  horsepower  peak-rpm  city-mpg  highway-mpg  \\\n",
       "0    2.68                9.0         111      5000        21           27   \n",
       "1    2.68                9.0         111      5000        21           27   \n",
       "2    3.47                9.0         154      5000        19           26   \n",
       "3    3.40               10.0         102      5500        24           30   \n",
       "4    3.40                8.0         115      5500        18           22   \n",
       "\n",
       "   price  \n",
       "0  13495  \n",
       "1  16500  \n",
       "2  16500  \n",
       "3  13950  \n",
       "4  17450  "
      ],
      "text/html": [
       "<div>\n",
       "<style scoped>\n",
       "    .dataframe tbody tr th:only-of-type {\n",
       "        vertical-align: middle;\n",
       "    }\n",
       "\n",
       "    .dataframe tbody tr th {\n",
       "        vertical-align: top;\n",
       "    }\n",
       "\n",
       "    .dataframe thead th {\n",
       "        text-align: right;\n",
       "    }\n",
       "</style>\n",
       "<table border=\"1\" class=\"dataframe\">\n",
       "  <thead>\n",
       "    <tr style=\"text-align: right;\">\n",
       "      <th></th>\n",
       "      <th>symboling</th>\n",
       "      <th>make</th>\n",
       "      <th>fuel-type</th>\n",
       "      <th>aspiration</th>\n",
       "      <th>num-of-doors</th>\n",
       "      <th>body-style</th>\n",
       "      <th>drive-wheels</th>\n",
       "      <th>engine-location</th>\n",
       "      <th>wheel-base</th>\n",
       "      <th>length</th>\n",
       "      <th>width</th>\n",
       "      <th>height</th>\n",
       "      <th>curb-weight</th>\n",
       "      <th>engine-type</th>\n",
       "      <th>num-of-cylinders</th>\n",
       "      <th>engine-size</th>\n",
       "      <th>fuel-system</th>\n",
       "      <th>bore</th>\n",
       "      <th>stroke</th>\n",
       "      <th>compression-ratio</th>\n",
       "      <th>horsepower</th>\n",
       "      <th>peak-rpm</th>\n",
       "      <th>city-mpg</th>\n",
       "      <th>highway-mpg</th>\n",
       "      <th>price</th>\n",
       "    </tr>\n",
       "  </thead>\n",
       "  <tbody>\n",
       "    <tr>\n",
       "      <th>0</th>\n",
       "      <td>3</td>\n",
       "      <td>alfa-romero</td>\n",
       "      <td>gas</td>\n",
       "      <td>std</td>\n",
       "      <td>two</td>\n",
       "      <td>convertible</td>\n",
       "      <td>rwd</td>\n",
       "      <td>front</td>\n",
       "      <td>88.6</td>\n",
       "      <td>168.8</td>\n",
       "      <td>64.1</td>\n",
       "      <td>48.8</td>\n",
       "      <td>2548</td>\n",
       "      <td>dohc</td>\n",
       "      <td>four</td>\n",
       "      <td>130</td>\n",
       "      <td>mpfi</td>\n",
       "      <td>3.47</td>\n",
       "      <td>2.68</td>\n",
       "      <td>9.0</td>\n",
       "      <td>111</td>\n",
       "      <td>5000</td>\n",
       "      <td>21</td>\n",
       "      <td>27</td>\n",
       "      <td>13495</td>\n",
       "    </tr>\n",
       "    <tr>\n",
       "      <th>1</th>\n",
       "      <td>3</td>\n",
       "      <td>alfa-romero</td>\n",
       "      <td>gas</td>\n",
       "      <td>std</td>\n",
       "      <td>two</td>\n",
       "      <td>convertible</td>\n",
       "      <td>rwd</td>\n",
       "      <td>front</td>\n",
       "      <td>88.6</td>\n",
       "      <td>168.8</td>\n",
       "      <td>64.1</td>\n",
       "      <td>48.8</td>\n",
       "      <td>2548</td>\n",
       "      <td>dohc</td>\n",
       "      <td>four</td>\n",
       "      <td>130</td>\n",
       "      <td>mpfi</td>\n",
       "      <td>3.47</td>\n",
       "      <td>2.68</td>\n",
       "      <td>9.0</td>\n",
       "      <td>111</td>\n",
       "      <td>5000</td>\n",
       "      <td>21</td>\n",
       "      <td>27</td>\n",
       "      <td>16500</td>\n",
       "    </tr>\n",
       "    <tr>\n",
       "      <th>2</th>\n",
       "      <td>1</td>\n",
       "      <td>alfa-romero</td>\n",
       "      <td>gas</td>\n",
       "      <td>std</td>\n",
       "      <td>two</td>\n",
       "      <td>hatchback</td>\n",
       "      <td>rwd</td>\n",
       "      <td>front</td>\n",
       "      <td>94.5</td>\n",
       "      <td>171.2</td>\n",
       "      <td>65.5</td>\n",
       "      <td>52.4</td>\n",
       "      <td>2823</td>\n",
       "      <td>ohcv</td>\n",
       "      <td>six</td>\n",
       "      <td>152</td>\n",
       "      <td>mpfi</td>\n",
       "      <td>2.68</td>\n",
       "      <td>3.47</td>\n",
       "      <td>9.0</td>\n",
       "      <td>154</td>\n",
       "      <td>5000</td>\n",
       "      <td>19</td>\n",
       "      <td>26</td>\n",
       "      <td>16500</td>\n",
       "    </tr>\n",
       "    <tr>\n",
       "      <th>3</th>\n",
       "      <td>2</td>\n",
       "      <td>audi</td>\n",
       "      <td>gas</td>\n",
       "      <td>std</td>\n",
       "      <td>four</td>\n",
       "      <td>sedan</td>\n",
       "      <td>fwd</td>\n",
       "      <td>front</td>\n",
       "      <td>99.8</td>\n",
       "      <td>176.6</td>\n",
       "      <td>66.2</td>\n",
       "      <td>54.3</td>\n",
       "      <td>2337</td>\n",
       "      <td>ohc</td>\n",
       "      <td>four</td>\n",
       "      <td>109</td>\n",
       "      <td>mpfi</td>\n",
       "      <td>3.19</td>\n",
       "      <td>3.40</td>\n",
       "      <td>10.0</td>\n",
       "      <td>102</td>\n",
       "      <td>5500</td>\n",
       "      <td>24</td>\n",
       "      <td>30</td>\n",
       "      <td>13950</td>\n",
       "    </tr>\n",
       "    <tr>\n",
       "      <th>4</th>\n",
       "      <td>2</td>\n",
       "      <td>audi</td>\n",
       "      <td>gas</td>\n",
       "      <td>std</td>\n",
       "      <td>four</td>\n",
       "      <td>sedan</td>\n",
       "      <td>4wd</td>\n",
       "      <td>front</td>\n",
       "      <td>99.4</td>\n",
       "      <td>176.6</td>\n",
       "      <td>66.4</td>\n",
       "      <td>54.3</td>\n",
       "      <td>2824</td>\n",
       "      <td>ohc</td>\n",
       "      <td>five</td>\n",
       "      <td>136</td>\n",
       "      <td>mpfi</td>\n",
       "      <td>3.19</td>\n",
       "      <td>3.40</td>\n",
       "      <td>8.0</td>\n",
       "      <td>115</td>\n",
       "      <td>5500</td>\n",
       "      <td>18</td>\n",
       "      <td>22</td>\n",
       "      <td>17450</td>\n",
       "    </tr>\n",
       "  </tbody>\n",
       "</table>\n",
       "</div>"
      ]
     },
     "execution_count": 72,
     "metadata": {},
     "output_type": "execute_result"
    }
   ],
   "execution_count": 72
  },
  {
   "metadata": {},
   "cell_type": "markdown",
   "source": "### Numeryczna analiza dwuwymiarowa",
   "id": "adc6fd3f4f1c4b3a"
  },
  {
   "metadata": {
    "ExecuteTime": {
     "end_time": "2024-11-06T16:48:59.391040Z",
     "start_time": "2024-11-06T16:48:59.310158Z"
    }
   },
   "cell_type": "code",
   "source": [
    "sns.regplot(data=df, x='price', y='engine-size', fit_reg=False)\n",
    "plt.show()"
   ],
   "id": "e1f27b5e2fd86a60",
   "outputs": [
    {
     "data": {
      "text/plain": [
       "<Figure size 640x480 with 1 Axes>"
      ],
      "image/png": "[encoded data removed]"
     },
     "metadata": {},
     "output_type": "display_data"
    }
   ],
   "execution_count": 73
  },
  {
   "metadata": {
    "ExecuteTime": {
     "end_time": "2024-11-06T16:48:59.396605Z",
     "start_time": "2024-11-06T16:48:59.391040Z"
    }
   },
   "cell_type": "code",
   "source": [
    "corr = np.round(df.corr(numeric_only=True), 2)\n",
    "price_corr = corr['price'].sort_values(ascending=False)\n",
    "price_corr"
   ],
   "id": "c94ae53bb3d12d85",
   "outputs": [
    {
     "data": {
      "text/plain": [
       "price                1.00\n",
       "engine-size          0.89\n",
       "curb-weight          0.84\n",
       "horsepower           0.81\n",
       "width                0.75\n",
       "length               0.70\n",
       "wheel-base           0.58\n",
       "bore                 0.55\n",
       "height               0.14\n",
       "stroke               0.10\n",
       "compression-ratio    0.07\n",
       "symboling           -0.08\n",
       "peak-rpm            -0.10\n",
       "city-mpg            -0.71\n",
       "highway-mpg         -0.72\n",
       "Name: price, dtype: float64"
      ]
     },
     "execution_count": 74,
     "metadata": {},
     "output_type": "execute_result"
    }
   ],
   "execution_count": 74
  },
  {
   "metadata": {},
   "cell_type": "markdown",
   "source": "### Heterogeniczność i stratyfikacja",
   "id": "f0303e175f9fe235"
  },
  {
   "metadata": {
    "ExecuteTime": {
     "end_time": "2024-11-06T16:48:59.401645Z",
     "start_time": "2024-11-06T16:48:59.396605Z"
    }
   },
   "cell_type": "code",
   "source": "df['body-style'].value_counts()",
   "id": "ff79ff6516b5af0",
   "outputs": [
    {
     "data": {
      "text/plain": [
       "body-style\n",
       "sedan          92\n",
       "hatchback      63\n",
       "wagon          24\n",
       "hardtop         8\n",
       "convertible     6\n",
       "Name: count, dtype: int64"
      ]
     },
     "execution_count": 75,
     "metadata": {},
     "output_type": "execute_result"
    }
   ],
   "execution_count": 75
  },
  {
   "metadata": {
    "ExecuteTime": {
     "end_time": "2024-11-06T16:49:00.085715Z",
     "start_time": "2024-11-06T16:48:59.401645Z"
    }
   },
   "cell_type": "code",
   "source": [
    "sns.FacetGrid(data=df, col='body-style').map(plt.scatter, 'price', 'engine-size').add_legend()\n",
    "plt.show()"
   ],
   "id": "1b2957f333f59ed1",
   "outputs": [
    {
     "data": {
      "text/plain": [
       "<Figure size 1511.11x300 with 5 Axes>"
      ],
      "image/png": "[encoded data removed]"
     },
     "metadata": {},
     "output_type": "display_data"
    }
   ],
   "execution_count": 76
  },
  {
   "metadata": {
    "ExecuteTime": {
     "end_time": "2024-11-06T16:49:00.095421Z",
     "start_time": "2024-11-06T16:49:00.085715Z"
    }
   },
   "cell_type": "code",
   "source": [
    "bodies = df['body-style'].unique()\n",
    "\n",
    "for body in bodies:\n",
    "    print(f'\\n{body}')\n",
    "    print(df.loc[df['body-style'] == body, ['price', 'engine-size']].corr())"
   ],
   "id": "b787c81f6faeb0fc",
   "outputs": [
    {
     "name": "stdout",
     "output_type": "stream",
     "text": [
      "\n",
      "convertible\n",
      "                price  engine-size\n",
      "price        1.000000     0.940052\n",
      "engine-size  0.940052     1.000000\n",
      "\n",
      "hatchback\n",
      "                price  engine-size\n",
      "price        1.000000     0.883585\n",
      "engine-size  0.883585     1.000000\n",
      "\n",
      "sedan\n",
      "                price  engine-size\n",
      "price        1.000000     0.887003\n",
      "engine-size  0.887003     1.000000\n",
      "\n",
      "wagon\n",
      "                price  engine-size\n",
      "price        1.000000     0.794619\n",
      "engine-size  0.794619     1.000000\n",
      "\n",
      "hardtop\n",
      "                price  engine-size\n",
      "price        1.000000     0.906567\n",
      "engine-size  0.906567     1.000000\n"
     ]
    }
   ],
   "execution_count": 77
  },
  {
   "metadata": {},
   "cell_type": "markdown",
   "source": "### Analiza dwuwymiarowa kategoryczna ",
   "id": "3dbcd57fb865de1b"
  },
  {
   "metadata": {
    "ExecuteTime": {
     "end_time": "2024-11-06T16:49:00.105513Z",
     "start_time": "2024-11-06T16:49:00.095421Z"
    }
   },
   "cell_type": "code",
   "source": [
    "crosstab = pd.crosstab(df['body-style'], df['num-of-cylinders'])\n",
    "crosstab"
   ],
   "id": "1e56da613fddb164",
   "outputs": [
    {
     "data": {
      "text/plain": [
       "num-of-cylinders  eight  five  four  six  three  twelve\n",
       "body-style                                             \n",
       "convertible           1     0     4    1      0       0\n",
       "hardtop               1     1     4    2      0       0\n",
       "hatchback             0     0    56    6      1       0\n",
       "sedan                 2     7    69   13      0       1\n",
       "wagon                 0     2    20    2      0       0"
      ],
      "text/html": [
       "<div>\n",
       "<style scoped>\n",
       "    .dataframe tbody tr th:only-of-type {\n",
       "        vertical-align: middle;\n",
       "    }\n",
       "\n",
       "    .dataframe tbody tr th {\n",
       "        vertical-align: top;\n",
       "    }\n",
       "\n",
       "    .dataframe thead th {\n",
       "        text-align: right;\n",
       "    }\n",
       "</style>\n",
       "<table border=\"1\" class=\"dataframe\">\n",
       "  <thead>\n",
       "    <tr style=\"text-align: right;\">\n",
       "      <th>num-of-cylinders</th>\n",
       "      <th>eight</th>\n",
       "      <th>five</th>\n",
       "      <th>four</th>\n",
       "      <th>six</th>\n",
       "      <th>three</th>\n",
       "      <th>twelve</th>\n",
       "    </tr>\n",
       "    <tr>\n",
       "      <th>body-style</th>\n",
       "      <th></th>\n",
       "      <th></th>\n",
       "      <th></th>\n",
       "      <th></th>\n",
       "      <th></th>\n",
       "      <th></th>\n",
       "    </tr>\n",
       "  </thead>\n",
       "  <tbody>\n",
       "    <tr>\n",
       "      <th>convertible</th>\n",
       "      <td>1</td>\n",
       "      <td>0</td>\n",
       "      <td>4</td>\n",
       "      <td>1</td>\n",
       "      <td>0</td>\n",
       "      <td>0</td>\n",
       "    </tr>\n",
       "    <tr>\n",
       "      <th>hardtop</th>\n",
       "      <td>1</td>\n",
       "      <td>1</td>\n",
       "      <td>4</td>\n",
       "      <td>2</td>\n",
       "      <td>0</td>\n",
       "      <td>0</td>\n",
       "    </tr>\n",
       "    <tr>\n",
       "      <th>hatchback</th>\n",
       "      <td>0</td>\n",
       "      <td>0</td>\n",
       "      <td>56</td>\n",
       "      <td>6</td>\n",
       "      <td>1</td>\n",
       "      <td>0</td>\n",
       "    </tr>\n",
       "    <tr>\n",
       "      <th>sedan</th>\n",
       "      <td>2</td>\n",
       "      <td>7</td>\n",
       "      <td>69</td>\n",
       "      <td>13</td>\n",
       "      <td>0</td>\n",
       "      <td>1</td>\n",
       "    </tr>\n",
       "    <tr>\n",
       "      <th>wagon</th>\n",
       "      <td>0</td>\n",
       "      <td>2</td>\n",
       "      <td>20</td>\n",
       "      <td>2</td>\n",
       "      <td>0</td>\n",
       "      <td>0</td>\n",
       "    </tr>\n",
       "  </tbody>\n",
       "</table>\n",
       "</div>"
      ]
     },
     "execution_count": 78,
     "metadata": {},
     "output_type": "execute_result"
    }
   ],
   "execution_count": 78
  },
  {
   "metadata": {
    "ExecuteTime": {
     "end_time": "2024-11-06T16:49:00.115024Z",
     "start_time": "2024-11-06T16:49:00.105513Z"
    }
   },
   "cell_type": "code",
   "source": [
    "# Przykład przy użyciu pandas\n",
    "crosstab = pd.crosstab(df['body-style'], df['num-of-cylinders'])\n",
    "crosstab_normalised = crosstab.apply(lambda x: x/x.sum(), axis=1)\n",
    "round(crosstab_normalised, 2)"
   ],
   "id": "e3ea8b3cffc33512",
   "outputs": [
    {
     "data": {
      "text/plain": [
       "num-of-cylinders  eight  five  four   six  three  twelve\n",
       "body-style                                              \n",
       "convertible        0.17  0.00  0.67  0.17   0.00    0.00\n",
       "hardtop            0.12  0.12  0.50  0.25   0.00    0.00\n",
       "hatchback          0.00  0.00  0.89  0.10   0.02    0.00\n",
       "sedan              0.02  0.08  0.75  0.14   0.00    0.01\n",
       "wagon              0.00  0.08  0.83  0.08   0.00    0.00"
      ],
      "text/html": [
       "<div>\n",
       "<style scoped>\n",
       "    .dataframe tbody tr th:only-of-type {\n",
       "        vertical-align: middle;\n",
       "    }\n",
       "\n",
       "    .dataframe tbody tr th {\n",
       "        vertical-align: top;\n",
       "    }\n",
       "\n",
       "    .dataframe thead th {\n",
       "        text-align: right;\n",
       "    }\n",
       "</style>\n",
       "<table border=\"1\" class=\"dataframe\">\n",
       "  <thead>\n",
       "    <tr style=\"text-align: right;\">\n",
       "      <th>num-of-cylinders</th>\n",
       "      <th>eight</th>\n",
       "      <th>five</th>\n",
       "      <th>four</th>\n",
       "      <th>six</th>\n",
       "      <th>three</th>\n",
       "      <th>twelve</th>\n",
       "    </tr>\n",
       "    <tr>\n",
       "      <th>body-style</th>\n",
       "      <th></th>\n",
       "      <th></th>\n",
       "      <th></th>\n",
       "      <th></th>\n",
       "      <th></th>\n",
       "      <th></th>\n",
       "    </tr>\n",
       "  </thead>\n",
       "  <tbody>\n",
       "    <tr>\n",
       "      <th>convertible</th>\n",
       "      <td>0.17</td>\n",
       "      <td>0.00</td>\n",
       "      <td>0.67</td>\n",
       "      <td>0.17</td>\n",
       "      <td>0.00</td>\n",
       "      <td>0.00</td>\n",
       "    </tr>\n",
       "    <tr>\n",
       "      <th>hardtop</th>\n",
       "      <td>0.12</td>\n",
       "      <td>0.12</td>\n",
       "      <td>0.50</td>\n",
       "      <td>0.25</td>\n",
       "      <td>0.00</td>\n",
       "      <td>0.00</td>\n",
       "    </tr>\n",
       "    <tr>\n",
       "      <th>hatchback</th>\n",
       "      <td>0.00</td>\n",
       "      <td>0.00</td>\n",
       "      <td>0.89</td>\n",
       "      <td>0.10</td>\n",
       "      <td>0.02</td>\n",
       "      <td>0.00</td>\n",
       "    </tr>\n",
       "    <tr>\n",
       "      <th>sedan</th>\n",
       "      <td>0.02</td>\n",
       "      <td>0.08</td>\n",
       "      <td>0.75</td>\n",
       "      <td>0.14</td>\n",
       "      <td>0.00</td>\n",
       "      <td>0.01</td>\n",
       "    </tr>\n",
       "    <tr>\n",
       "      <th>wagon</th>\n",
       "      <td>0.00</td>\n",
       "      <td>0.08</td>\n",
       "      <td>0.83</td>\n",
       "      <td>0.08</td>\n",
       "      <td>0.00</td>\n",
       "      <td>0.00</td>\n",
       "    </tr>\n",
       "  </tbody>\n",
       "</table>\n",
       "</div>"
      ]
     },
     "execution_count": 79,
     "metadata": {},
     "output_type": "execute_result"
    }
   ],
   "execution_count": 79
  },
  {
   "metadata": {
    "ExecuteTime": {
     "end_time": "2024-11-06T16:49:00.122825Z",
     "start_time": "2024-11-06T16:49:00.115024Z"
    }
   },
   "cell_type": "code",
   "source": [
    "# Przykład przy użyciu groupby\n",
    "grouped_table = df.groupby(['body-style', 'num-of-cylinders']).size()\n",
    "grouped_table_normalised = grouped_table.unstack().fillna(0).apply(lambda x: x/x.sum(), axis=1)\n",
    "round(grouped_table_normalised, 2)"
   ],
   "id": "86f7af0878f10a3e",
   "outputs": [
    {
     "data": {
      "text/plain": [
       "num-of-cylinders  eight  five  four   six  three  twelve\n",
       "body-style                                              \n",
       "convertible        0.17  0.00  0.67  0.17   0.00    0.00\n",
       "hardtop            0.12  0.12  0.50  0.25   0.00    0.00\n",
       "hatchback          0.00  0.00  0.89  0.10   0.02    0.00\n",
       "sedan              0.02  0.08  0.75  0.14   0.00    0.01\n",
       "wagon              0.00  0.08  0.83  0.08   0.00    0.00"
      ],
      "text/html": [
       "<div>\n",
       "<style scoped>\n",
       "    .dataframe tbody tr th:only-of-type {\n",
       "        vertical-align: middle;\n",
       "    }\n",
       "\n",
       "    .dataframe tbody tr th {\n",
       "        vertical-align: top;\n",
       "    }\n",
       "\n",
       "    .dataframe thead th {\n",
       "        text-align: right;\n",
       "    }\n",
       "</style>\n",
       "<table border=\"1\" class=\"dataframe\">\n",
       "  <thead>\n",
       "    <tr style=\"text-align: right;\">\n",
       "      <th>num-of-cylinders</th>\n",
       "      <th>eight</th>\n",
       "      <th>five</th>\n",
       "      <th>four</th>\n",
       "      <th>six</th>\n",
       "      <th>three</th>\n",
       "      <th>twelve</th>\n",
       "    </tr>\n",
       "    <tr>\n",
       "      <th>body-style</th>\n",
       "      <th></th>\n",
       "      <th></th>\n",
       "      <th></th>\n",
       "      <th></th>\n",
       "      <th></th>\n",
       "      <th></th>\n",
       "    </tr>\n",
       "  </thead>\n",
       "  <tbody>\n",
       "    <tr>\n",
       "      <th>convertible</th>\n",
       "      <td>0.17</td>\n",
       "      <td>0.00</td>\n",
       "      <td>0.67</td>\n",
       "      <td>0.17</td>\n",
       "      <td>0.00</td>\n",
       "      <td>0.00</td>\n",
       "    </tr>\n",
       "    <tr>\n",
       "      <th>hardtop</th>\n",
       "      <td>0.12</td>\n",
       "      <td>0.12</td>\n",
       "      <td>0.50</td>\n",
       "      <td>0.25</td>\n",
       "      <td>0.00</td>\n",
       "      <td>0.00</td>\n",
       "    </tr>\n",
       "    <tr>\n",
       "      <th>hatchback</th>\n",
       "      <td>0.00</td>\n",
       "      <td>0.00</td>\n",
       "      <td>0.89</td>\n",
       "      <td>0.10</td>\n",
       "      <td>0.02</td>\n",
       "      <td>0.00</td>\n",
       "    </tr>\n",
       "    <tr>\n",
       "      <th>sedan</th>\n",
       "      <td>0.02</td>\n",
       "      <td>0.08</td>\n",
       "      <td>0.75</td>\n",
       "      <td>0.14</td>\n",
       "      <td>0.00</td>\n",
       "      <td>0.01</td>\n",
       "    </tr>\n",
       "    <tr>\n",
       "      <th>wagon</th>\n",
       "      <td>0.00</td>\n",
       "      <td>0.08</td>\n",
       "      <td>0.83</td>\n",
       "      <td>0.08</td>\n",
       "      <td>0.00</td>\n",
       "      <td>0.00</td>\n",
       "    </tr>\n",
       "  </tbody>\n",
       "</table>\n",
       "</div>"
      ]
     },
     "execution_count": 80,
     "metadata": {},
     "output_type": "execute_result"
    }
   ],
   "execution_count": 80
  },
  {
   "metadata": {},
   "cell_type": "markdown",
   "source": "### Mieszana analiza dwuwymiarowa danych liczbowych i kategorycznych",
   "id": "4b0d5086d6b405fb"
  },
  {
   "metadata": {
    "ExecuteTime": {
     "end_time": "2024-11-06T16:49:00.226679Z",
     "start_time": "2024-11-06T16:49:00.122825Z"
    }
   },
   "cell_type": "code",
   "source": [
    "plt.figure(figsize=(10, 5))\n",
    "sns.boxplot(x=df['body-style'], y=df['price'], hue=df['body-style'])\n",
    "plt.show()"
   ],
   "id": "44b907fc6d89e4a9",
   "outputs": [
    {
     "data": {
      "text/plain": [
       "<Figure size 1000x500 with 1 Axes>"
      ],
      "image/png": "[encoded data removed]"
     },
     "metadata": {},
     "output_type": "display_data"
    }
   ],
   "execution_count": 81
  },
  {
   "metadata": {
    "ExecuteTime": {
     "end_time": "2024-11-06T16:49:00.328012Z",
     "start_time": "2024-11-06T16:49:00.226679Z"
    }
   },
   "cell_type": "code",
   "source": [
    "plt.figure(figsize=(10, 5))\n",
    "sns.boxplot(x=df[df['body-style'] == 'sedan']['num-of-cylinders'], y=df[df['body-style'] == 'sedan']['price'], hue=df[df['body-style'] == 'sedan']['num-of-cylinders'])\n",
    "plt.show()"
   ],
   "id": "65ab9907f1430095",
   "outputs": [
    {
     "data": {
      "text/plain": [
       "<Figure size 1000x500 with 1 Axes>"
      ],
      "image/png": "[encoded data removed]"
     },
     "metadata": {},
     "output_type": "display_data"
    }
   ],
   "execution_count": 82
  },
  {
   "metadata": {
    "ExecuteTime": {
     "end_time": "2024-11-06T16:49:00.330304Z",
     "start_time": "2024-11-06T16:49:00.328012Z"
    }
   },
   "cell_type": "code",
   "source": "",
   "id": "427c763b22de0440",
   "outputs": [],
   "execution_count": 82
  }
 ],
 "metadata": {
  "kernelspec": {
   "display_name": "Python 3",
   "language": "python",
   "name": "python3"
  },
  "language_info": {
   "codemirror_mode": {
    "name": "ipython",
    "version": 2
   },
   "file_extension": ".py",
   "mimetype": "text/x-python",
   "name": "python",
   "nbconvert_exporter": "python",
   "pygments_lexer": "ipython2",
   "version": "2.7.6"
  }
 },
 "nbformat": 4,
 "nbformat_minor": 5
}
