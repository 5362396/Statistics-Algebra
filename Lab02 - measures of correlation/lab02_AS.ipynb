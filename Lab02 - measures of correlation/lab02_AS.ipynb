{
 "cells": [
  {
   "cell_type": "code",
   "id": "initial_id",
   "metadata": {
    "collapsed": true,
    "ExecuteTime": {
     "end_time": "2024-10-12T14:17:03.042054Z",
     "start_time": "2024-10-12T14:17:03.038776Z"
    }
   },
   "source": [
    "import numpy as np\n",
    "import scipy.stats\n",
    "import pandas as pd"
   ],
   "outputs": [],
   "execution_count": 409
  },
  {
   "metadata": {},
   "cell_type": "markdown",
   "source": "## Miary korelacji między parami danych",
   "id": "31027bac36d2e1d8"
  },
  {
   "metadata": {},
   "cell_type": "markdown",
   "source": "Kowariancja",
   "id": "b983d2ee4c2eff8d"
  },
  {
   "metadata": {
    "ExecuteTime": {
     "end_time": "2024-10-12T14:17:03.449769Z",
     "start_time": "2024-10-12T14:17:03.446020Z"
    }
   },
   "cell_type": "code",
   "source": [
    "x = list(range(-10, 11))\n",
    "y = [0, 2, 2, 2, 2, 3, 3, 6, 7, 4, 7, 6, 6, 9, 4, 5, 5, 10, 11, 12, 14]\n",
    "x_, y_ = np.array(x), np.array(y)\n",
    "x__, y__ = pd.Series(x_), pd.Series(y_)"
   ],
   "id": "60b18e43249b87ef",
   "outputs": [],
   "execution_count": 410
  },
  {
   "metadata": {
    "ExecuteTime": {
     "end_time": "2024-10-12T14:17:03.478887Z",
     "start_time": "2024-10-12T14:17:03.474422Z"
    }
   },
   "cell_type": "code",
   "source": [
    "n = len(x)\n",
    "mean_x, mean_y = sum(x) / n, sum(y) / n\n",
    "cov_xy = sum((x[k] - mean_x) * (y[k] - mean_y) for k in range(n)) / (n - 1)\n",
    "cov_xy"
   ],
   "id": "84bac5c072faec17",
   "outputs": [
    {
     "data": {
      "text/plain": [
       "19.95"
      ]
     },
     "execution_count": 411,
     "metadata": {},
     "output_type": "execute_result"
    }
   ],
   "execution_count": 411
  },
  {
   "metadata": {
    "ExecuteTime": {
     "end_time": "2024-10-12T14:17:03.522417Z",
     "start_time": "2024-10-12T14:17:03.518044Z"
    }
   },
   "cell_type": "code",
   "source": [
    "cov_matrix = np.cov(x_, y_)\n",
    "cov_matrix"
   ],
   "id": "8b5886a07928572e",
   "outputs": [
    {
     "data": {
      "text/plain": [
       "array([[38.5       , 19.95      ],\n",
       "       [19.95      , 13.91428571]])"
      ]
     },
     "execution_count": 412,
     "metadata": {},
     "output_type": "execute_result"
    }
   ],
   "execution_count": 412
  },
  {
   "metadata": {
    "ExecuteTime": {
     "end_time": "2024-10-12T14:17:03.551070Z",
     "start_time": "2024-10-12T14:17:03.547584Z"
    }
   },
   "cell_type": "code",
   "source": "x_.var(ddof=1)",
   "id": "82b98fccbf5f502c",
   "outputs": [
    {
     "data": {
      "text/plain": [
       "np.float64(38.5)"
      ]
     },
     "execution_count": 413,
     "metadata": {},
     "output_type": "execute_result"
    }
   ],
   "execution_count": 413
  },
  {
   "metadata": {
    "ExecuteTime": {
     "end_time": "2024-10-12T14:17:03.564140Z",
     "start_time": "2024-10-12T14:17:03.560093Z"
    }
   },
   "cell_type": "code",
   "source": "y_.var(ddof=1)",
   "id": "cee3ceb772d26f4b",
   "outputs": [
    {
     "data": {
      "text/plain": [
       "np.float64(13.914285714285711)"
      ]
     },
     "execution_count": 414,
     "metadata": {},
     "output_type": "execute_result"
    }
   ],
   "execution_count": 414
  },
  {
   "metadata": {
    "ExecuteTime": {
     "end_time": "2024-10-12T14:17:03.616282Z",
     "start_time": "2024-10-12T14:17:03.612404Z"
    }
   },
   "cell_type": "code",
   "source": [
    "cov_xy = cov_matrix[0, 1]\n",
    "cov_xy"
   ],
   "id": "95fb3e830a2079a9",
   "outputs": [
    {
     "data": {
      "text/plain": [
       "np.float64(19.95)"
      ]
     },
     "execution_count": 415,
     "metadata": {},
     "output_type": "execute_result"
    }
   ],
   "execution_count": 415
  },
  {
   "metadata": {
    "ExecuteTime": {
     "end_time": "2024-10-12T14:17:03.659406Z",
     "start_time": "2024-10-12T14:17:03.655575Z"
    }
   },
   "cell_type": "code",
   "source": [
    "cov_xy = cov_matrix[1, 0]\n",
    "cov_xy"
   ],
   "id": "6374f9b38025b294",
   "outputs": [
    {
     "data": {
      "text/plain": [
       "np.float64(19.95)"
      ]
     },
     "execution_count": 416,
     "metadata": {},
     "output_type": "execute_result"
    }
   ],
   "execution_count": 416
  },
  {
   "metadata": {
    "ExecuteTime": {
     "end_time": "2024-10-12T14:17:03.697818Z",
     "start_time": "2024-10-12T14:17:03.693126Z"
    }
   },
   "cell_type": "code",
   "source": [
    "cov_xy = x__.cov(y__)\n",
    "cov_xy"
   ],
   "id": "7acc29e1d860ea78",
   "outputs": [
    {
     "data": {
      "text/plain": [
       "np.float64(19.95)"
      ]
     },
     "execution_count": 417,
     "metadata": {},
     "output_type": "execute_result"
    }
   ],
   "execution_count": 417
  },
  {
   "metadata": {
    "ExecuteTime": {
     "end_time": "2024-10-12T14:17:03.727862Z",
     "start_time": "2024-10-12T14:17:03.725006Z"
    }
   },
   "cell_type": "code",
   "source": "cov_xy = y__.cov(x__)",
   "id": "a7de93eb454a2c15",
   "outputs": [],
   "execution_count": 418
  },
  {
   "metadata": {
    "ExecuteTime": {
     "end_time": "2024-10-12T14:17:03.770716Z",
     "start_time": "2024-10-12T14:17:03.766803Z"
    }
   },
   "cell_type": "code",
   "source": "cov_xy",
   "id": "768c99cb8ec0300a",
   "outputs": [
    {
     "data": {
      "text/plain": [
       "np.float64(19.95)"
      ]
     },
     "execution_count": 419,
     "metadata": {},
     "output_type": "execute_result"
    }
   ],
   "execution_count": 419
  },
  {
   "metadata": {},
   "cell_type": "markdown",
   "source": "Współczynnik korelacji",
   "id": "667e0691645202ed"
  },
  {
   "metadata": {
    "ExecuteTime": {
     "end_time": "2024-10-12T14:17:03.827838Z",
     "start_time": "2024-10-12T14:17:03.819652Z"
    }
   },
   "cell_type": "code",
   "source": [
    "var_x = sum((item - mean_x) ** 2 for item in x) / (n - 1)\n",
    "var_y = sum((item - mean_y) ** 2 for item in y) / (n - 1)\n",
    "std_x, std_y = var_x ** 0.5, var_y ** 0.5\n",
    "r = cov_xy / (std_x * std_y)\n",
    "r"
   ],
   "id": "f14736b8976098ee",
   "outputs": [
    {
     "data": {
      "text/plain": [
       "np.float64(0.8619500056316058)"
      ]
     },
     "execution_count": 420,
     "metadata": {},
     "output_type": "execute_result"
    }
   ],
   "execution_count": 420
  },
  {
   "metadata": {
    "ExecuteTime": {
     "end_time": "2024-10-12T14:17:03.869831Z",
     "start_time": "2024-10-12T14:17:03.865763Z"
    }
   },
   "cell_type": "code",
   "source": [
    "r, p = scipy.stats.pearsonr(x_, y_)\n",
    "r"
   ],
   "id": "7f7d24e96ae03478",
   "outputs": [
    {
     "data": {
      "text/plain": [
       "np.float64(0.8619500056316061)"
      ]
     },
     "execution_count": 421,
     "metadata": {},
     "output_type": "execute_result"
    }
   ],
   "execution_count": 421
  },
  {
   "metadata": {
    "ExecuteTime": {
     "end_time": "2024-10-12T14:17:03.920064Z",
     "start_time": "2024-10-12T14:17:03.916742Z"
    }
   },
   "cell_type": "code",
   "source": "p",
   "id": "64168663b2f19a79",
   "outputs": [
    {
     "data": {
      "text/plain": [
       "np.float64(5.122760847201142e-07)"
      ]
     },
     "execution_count": 422,
     "metadata": {},
     "output_type": "execute_result"
    }
   ],
   "execution_count": 422
  },
  {
   "metadata": {},
   "cell_type": "markdown",
   "source": "Macierz współczynników korelacji",
   "id": "c71fdecfac9ab7b2"
  },
  {
   "metadata": {
    "ExecuteTime": {
     "end_time": "2024-10-12T14:17:03.952796Z",
     "start_time": "2024-10-12T14:17:03.949041Z"
    }
   },
   "cell_type": "code",
   "source": [
    "corr_matrix = np.corrcoef(x_, y_)\n",
    "corr_matrix"
   ],
   "id": "7c53cbd1c8a2abdb",
   "outputs": [
    {
     "data": {
      "text/plain": [
       "array([[1.        , 0.86195001],\n",
       "       [0.86195001, 1.        ]])"
      ]
     },
     "execution_count": 423,
     "metadata": {},
     "output_type": "execute_result"
    }
   ],
   "execution_count": 423
  },
  {
   "metadata": {
    "ExecuteTime": {
     "end_time": "2024-10-12T14:17:04.008655Z",
     "start_time": "2024-10-12T14:17:04.005255Z"
    }
   },
   "cell_type": "code",
   "source": [
    "r = corr_matrix[0, 1]\n",
    "r"
   ],
   "id": "85b018988dfa6c6f",
   "outputs": [
    {
     "data": {
      "text/plain": [
       "np.float64(0.8619500056316061)"
      ]
     },
     "execution_count": 424,
     "metadata": {},
     "output_type": "execute_result"
    }
   ],
   "execution_count": 424
  },
  {
   "metadata": {
    "ExecuteTime": {
     "end_time": "2024-10-12T14:17:04.021561Z",
     "start_time": "2024-10-12T14:17:04.018620Z"
    }
   },
   "cell_type": "code",
   "source": "r = corr_matrix[1, 0]",
   "id": "16cc5b81362b3882",
   "outputs": [],
   "execution_count": 425
  },
  {
   "metadata": {
    "ExecuteTime": {
     "end_time": "2024-10-12T14:17:04.038748Z",
     "start_time": "2024-10-12T14:17:04.035513Z"
    }
   },
   "cell_type": "code",
   "source": "r",
   "id": "6dcc0400e037a3ee",
   "outputs": [
    {
     "data": {
      "text/plain": [
       "np.float64(0.861950005631606)"
      ]
     },
     "execution_count": 426,
     "metadata": {},
     "output_type": "execute_result"
    }
   ],
   "execution_count": 426
  },
  {
   "metadata": {},
   "cell_type": "markdown",
   "source": "Współczynnik korelacji w module SciPy",
   "id": "f5ef7bc495dc68e"
  },
  {
   "metadata": {
    "ExecuteTime": {
     "end_time": "2024-10-12T14:17:04.056709Z",
     "start_time": "2024-10-12T14:17:04.051703Z"
    }
   },
   "cell_type": "code",
   "source": "scipy.stats.linregress(x_, y_)",
   "id": "6735ed381f8f1638",
   "outputs": [
    {
     "data": {
      "text/plain": [
       "LinregressResult(slope=np.float64(0.5181818181818181), intercept=np.float64(5.714285714285714), rvalue=np.float64(0.861950005631606), pvalue=np.float64(5.122760847201165e-07), stderr=np.float64(0.06992387660074979), intercept_stderr=np.float64(0.4234100995002589))"
      ]
     },
     "execution_count": 427,
     "metadata": {},
     "output_type": "execute_result"
    }
   ],
   "execution_count": 427
  },
  {
   "metadata": {
    "ExecuteTime": {
     "end_time": "2024-10-12T14:17:04.093816Z",
     "start_time": "2024-10-12T14:17:04.086587Z"
    }
   },
   "cell_type": "code",
   "source": [
    "result = scipy.stats.linregress(x_, y_)\n",
    "r = result.rvalue\n",
    "r"
   ],
   "id": "124434d918282116",
   "outputs": [
    {
     "data": {
      "text/plain": [
       "np.float64(0.861950005631606)"
      ]
     },
     "execution_count": 428,
     "metadata": {},
     "output_type": "execute_result"
    }
   ],
   "execution_count": 428
  },
  {
   "metadata": {},
   "cell_type": "markdown",
   "source": "Współczynnik korelacji w module Pandas",
   "id": "e934d94ae0e6462a"
  },
  {
   "metadata": {
    "ExecuteTime": {
     "end_time": "2024-10-12T14:17:04.130146Z",
     "start_time": "2024-10-12T14:17:04.125706Z"
    }
   },
   "cell_type": "code",
   "source": [
    "r = x__.corr(y__)\n",
    "r"
   ],
   "id": "286edc151b37d90a",
   "outputs": [
    {
     "data": {
      "text/plain": [
       "np.float64(0.8619500056316061)"
      ]
     },
     "execution_count": 429,
     "metadata": {},
     "output_type": "execute_result"
    }
   ],
   "execution_count": 429
  },
  {
   "metadata": {
    "ExecuteTime": {
     "end_time": "2024-10-12T14:17:04.185396Z",
     "start_time": "2024-10-12T14:17:04.181193Z"
    }
   },
   "cell_type": "code",
   "source": [
    "r = y__.corr(x__)\n",
    "r"
   ],
   "id": "1ea41444dc7306f4",
   "outputs": [
    {
     "data": {
      "text/plain": [
       "np.float64(0.861950005631606)"
      ]
     },
     "execution_count": 430,
     "metadata": {},
     "output_type": "execute_result"
    }
   ],
   "execution_count": 430
  },
  {
   "metadata": {},
   "cell_type": "markdown",
   "source": "### Praca z danymi 2D",
   "id": "e6b708eaff274296"
  },
  {
   "metadata": {},
   "cell_type": "markdown",
   "source": "Osie (axis)",
   "id": "d3c2f55dcb643b8e"
  },
  {
   "metadata": {
    "ExecuteTime": {
     "end_time": "2024-10-12T14:17:04.198340Z",
     "start_time": "2024-10-12T14:17:04.194364Z"
    }
   },
   "cell_type": "code",
   "source": [
    "a = np.array([\n",
    "    [1, 1, 1],\n",
    "    [2, 3, 1],\n",
    "    [4, 9, 2],\n",
    "    [8, 27, 4],\n",
    "    [16, 1, 1],\n",
    "])\n",
    "\n",
    "a"
   ],
   "id": "b58e9b6e124c85ac",
   "outputs": [
    {
     "data": {
      "text/plain": [
       "array([[ 1,  1,  1],\n",
       "       [ 2,  3,  1],\n",
       "       [ 4,  9,  2],\n",
       "       [ 8, 27,  4],\n",
       "       [16,  1,  1]])"
      ]
     },
     "execution_count": 431,
     "metadata": {},
     "output_type": "execute_result"
    }
   ],
   "execution_count": 431
  },
  {
   "metadata": {},
   "cell_type": "markdown",
   "source": "axis = None",
   "id": "d2ef8514c9dd0051"
  },
  {
   "metadata": {
    "ExecuteTime": {
     "end_time": "2024-10-12T14:17:04.215085Z",
     "start_time": "2024-10-12T14:17:04.211296Z"
    }
   },
   "cell_type": "code",
   "source": "np.mean(a)",
   "id": "42621c7586b01e1c",
   "outputs": [
    {
     "data": {
      "text/plain": [
       "np.float64(5.4)"
      ]
     },
     "execution_count": 432,
     "metadata": {},
     "output_type": "execute_result"
    }
   ],
   "execution_count": 432
  },
  {
   "metadata": {
    "ExecuteTime": {
     "end_time": "2024-10-12T14:17:04.277156Z",
     "start_time": "2024-10-12T14:17:04.272553Z"
    }
   },
   "cell_type": "code",
   "source": "a.mean()",
   "id": "a0260b833527e103",
   "outputs": [
    {
     "data": {
      "text/plain": [
       "np.float64(5.4)"
      ]
     },
     "execution_count": 433,
     "metadata": {},
     "output_type": "execute_result"
    }
   ],
   "execution_count": 433
  },
  {
   "metadata": {
    "ExecuteTime": {
     "end_time": "2024-10-12T14:17:04.292805Z",
     "start_time": "2024-10-12T14:17:04.289163Z"
    }
   },
   "cell_type": "code",
   "source": "np.median(a)",
   "id": "6edf2325d39fcc4e",
   "outputs": [
    {
     "data": {
      "text/plain": [
       "np.float64(2.0)"
      ]
     },
     "execution_count": 434,
     "metadata": {},
     "output_type": "execute_result"
    }
   ],
   "execution_count": 434
  },
  {
   "metadata": {
    "ExecuteTime": {
     "end_time": "2024-10-12T14:17:04.308718Z",
     "start_time": "2024-10-12T14:17:04.304789Z"
    }
   },
   "cell_type": "code",
   "source": "a.var(ddof=1)",
   "id": "4532df3bc5875d33",
   "outputs": [
    {
     "data": {
      "text/plain": [
       "np.float64(53.40000000000001)"
      ]
     },
     "execution_count": 435,
     "metadata": {},
     "output_type": "execute_result"
    }
   ],
   "execution_count": 435
  },
  {
   "metadata": {},
   "cell_type": "markdown",
   "source": "axis = 0 - dla każdej kolumny",
   "id": "b2b257dfd783cf91"
  },
  {
   "metadata": {
    "ExecuteTime": {
     "end_time": "2024-10-12T14:17:04.356195Z",
     "start_time": "2024-10-12T14:17:04.351679Z"
    }
   },
   "cell_type": "code",
   "source": "np.mean(a, axis=0)",
   "id": "7660d8518cdb4da6",
   "outputs": [
    {
     "data": {
      "text/plain": [
       "array([6.2, 8.2, 1.8])"
      ]
     },
     "execution_count": 436,
     "metadata": {},
     "output_type": "execute_result"
    }
   ],
   "execution_count": 436
  },
  {
   "metadata": {
    "ExecuteTime": {
     "end_time": "2024-10-12T14:17:04.368092Z",
     "start_time": "2024-10-12T14:17:04.364183Z"
    }
   },
   "cell_type": "code",
   "source": "a.mean(axis=0)",
   "id": "72e9af1f89862c70",
   "outputs": [
    {
     "data": {
      "text/plain": [
       "array([6.2, 8.2, 1.8])"
      ]
     },
     "execution_count": 437,
     "metadata": {},
     "output_type": "execute_result"
    }
   ],
   "execution_count": 437
  },
  {
   "metadata": {},
   "cell_type": "markdown",
   "source": "axis = 1 - dla każdego wiersza",
   "id": "f11eb2a44a00bfe"
  },
  {
   "metadata": {
    "ExecuteTime": {
     "end_time": "2024-10-12T14:17:04.401719Z",
     "start_time": "2024-10-12T14:17:04.398154Z"
    }
   },
   "cell_type": "code",
   "source": "np.mean(a, axis=1)",
   "id": "9623f201729feda1",
   "outputs": [
    {
     "data": {
      "text/plain": [
       "array([ 1.,  2.,  5., 13.,  6.])"
      ]
     },
     "execution_count": 438,
     "metadata": {},
     "output_type": "execute_result"
    }
   ],
   "execution_count": 438
  },
  {
   "metadata": {
    "ExecuteTime": {
     "end_time": "2024-10-12T14:17:04.441534Z",
     "start_time": "2024-10-12T14:17:04.437179Z"
    }
   },
   "cell_type": "code",
   "source": "a.mean(axis=1)",
   "id": "80a72943cb12a1ee",
   "outputs": [
    {
     "data": {
      "text/plain": [
       "array([ 1.,  2.,  5., 13.,  6.])"
      ]
     },
     "execution_count": 439,
     "metadata": {},
     "output_type": "execute_result"
    }
   ],
   "execution_count": 439
  },
  {
   "metadata": {},
   "cell_type": "markdown",
   "source": "Działa tak samo w innych funkcjach",
   "id": "bf171a7a5278a2f7"
  },
  {
   "metadata": {
    "ExecuteTime": {
     "end_time": "2024-10-12T14:17:04.479112Z",
     "start_time": "2024-10-12T14:17:04.475458Z"
    }
   },
   "cell_type": "code",
   "source": "np.median(a, axis=0)",
   "id": "b1c6cbe6aede1ae3",
   "outputs": [
    {
     "data": {
      "text/plain": [
       "array([4., 3., 1.])"
      ]
     },
     "execution_count": 440,
     "metadata": {},
     "output_type": "execute_result"
    }
   ],
   "execution_count": 440
  },
  {
   "metadata": {
    "ExecuteTime": {
     "end_time": "2024-10-12T14:17:04.520231Z",
     "start_time": "2024-10-12T14:17:04.516026Z"
    }
   },
   "cell_type": "code",
   "source": "np.median(a, axis=1)",
   "id": "a4d956e07b124021",
   "outputs": [
    {
     "data": {
      "text/plain": [
       "array([1., 2., 4., 8., 1.])"
      ]
     },
     "execution_count": 441,
     "metadata": {},
     "output_type": "execute_result"
    }
   ],
   "execution_count": 441
  },
  {
   "metadata": {
    "ExecuteTime": {
     "end_time": "2024-10-12T14:17:04.533215Z",
     "start_time": "2024-10-12T14:17:04.529194Z"
    }
   },
   "cell_type": "code",
   "source": "a.var(axis=0, ddof=1)",
   "id": "582e540803cfeae1",
   "outputs": [
    {
     "data": {
      "text/plain": [
       "array([ 37.2, 121.2,   1.7])"
      ]
     },
     "execution_count": 442,
     "metadata": {},
     "output_type": "execute_result"
    }
   ],
   "execution_count": 442
  },
  {
   "metadata": {
    "ExecuteTime": {
     "end_time": "2024-10-12T14:17:04.550414Z",
     "start_time": "2024-10-12T14:17:04.546186Z"
    }
   },
   "cell_type": "code",
   "source": "a.var(axis=1, ddof=1)",
   "id": "22c80f29bfa49f53",
   "outputs": [
    {
     "data": {
      "text/plain": [
       "array([  0.,   1.,  13., 151.,  75.])"
      ]
     },
     "execution_count": 443,
     "metadata": {},
     "output_type": "execute_result"
    }
   ],
   "execution_count": 443
  },
  {
   "metadata": {},
   "cell_type": "markdown",
   "source": "Axis w module Scipy",
   "id": "f03ef325c6298aa5"
  },
  {
   "metadata": {
    "ExecuteTime": {
     "end_time": "2024-10-12T14:17:04.569977Z",
     "start_time": "2024-10-12T14:17:04.565357Z"
    }
   },
   "cell_type": "code",
   "source": "scipy.stats.gmean(a)  # Default: axis = 0",
   "id": "a45e2dbd80a34dab",
   "outputs": [
    {
     "data": {
      "text/plain": [
       "array([4.        , 3.73719282, 1.51571657])"
      ]
     },
     "execution_count": 444,
     "metadata": {},
     "output_type": "execute_result"
    }
   ],
   "execution_count": 444
  },
  {
   "metadata": {
    "ExecuteTime": {
     "end_time": "2024-10-12T14:17:04.615025Z",
     "start_time": "2024-10-12T14:17:04.610970Z"
    }
   },
   "cell_type": "code",
   "source": "scipy.stats.gmean(a, axis=0)",
   "id": "6fee854e97a86316",
   "outputs": [
    {
     "data": {
      "text/plain": [
       "array([4.        , 3.73719282, 1.51571657])"
      ]
     },
     "execution_count": 445,
     "metadata": {},
     "output_type": "execute_result"
    }
   ],
   "execution_count": 445
  },
  {
   "metadata": {
    "ExecuteTime": {
     "end_time": "2024-10-12T14:17:04.641982Z",
     "start_time": "2024-10-12T14:17:04.636949Z"
    }
   },
   "cell_type": "code",
   "source": "scipy.stats.gmean(a, axis=1)",
   "id": "dcd02df12631118a",
   "outputs": [
    {
     "data": {
      "text/plain": [
       "array([1.        , 1.81712059, 4.16016765, 9.52440631, 2.5198421 ])"
      ]
     },
     "execution_count": 446,
     "metadata": {},
     "output_type": "execute_result"
    }
   ],
   "execution_count": 446
  },
  {
   "metadata": {
    "ExecuteTime": {
     "end_time": "2024-10-12T14:17:04.692173Z",
     "start_time": "2024-10-12T14:17:04.688032Z"
    }
   },
   "cell_type": "code",
   "source": "scipy.stats.gmean(a, axis=None)",
   "id": "47822380764631d4",
   "outputs": [
    {
     "data": {
      "text/plain": [
       "np.float64(2.829705017016332)"
      ]
     },
     "execution_count": 447,
     "metadata": {},
     "output_type": "execute_result"
    }
   ],
   "execution_count": 447
  },
  {
   "metadata": {},
   "cell_type": "markdown",
   "source": "Podsumowanie statystyk z użyciem axis",
   "id": "f145920836b6d920"
  },
  {
   "metadata": {
    "ExecuteTime": {
     "end_time": "2024-10-12T14:17:04.707392Z",
     "start_time": "2024-10-12T14:17:04.702171Z"
    }
   },
   "cell_type": "code",
   "source": "scipy.stats.describe(a, axis=None, ddof=1, bias=False)",
   "id": "c6507dd77d079aa5",
   "outputs": [
    {
     "data": {
      "text/plain": [
       "DescribeResult(nobs=15, minmax=(np.int64(1), np.int64(27)), mean=np.float64(5.4), variance=np.float64(53.40000000000001), skewness=np.float64(2.264965290423389), kurtosis=np.float64(5.212690982795767))"
      ]
     },
     "execution_count": 448,
     "metadata": {},
     "output_type": "execute_result"
    }
   ],
   "execution_count": 448
  },
  {
   "metadata": {
    "ExecuteTime": {
     "end_time": "2024-10-12T14:17:04.723406Z",
     "start_time": "2024-10-12T14:17:04.718392Z"
    }
   },
   "cell_type": "code",
   "source": "scipy.stats.describe(a, ddof=1, bias=False)  # Default: axis = 0",
   "id": "30b2c7f0eb1c3d5e",
   "outputs": [
    {
     "data": {
      "text/plain": [
       "DescribeResult(nobs=5, minmax=(array([1, 1, 1]), array([16, 27,  4])), mean=array([6.2, 8.2, 1.8]), variance=array([ 37.2, 121.2,   1.7]), skewness=array([1.32531471, 1.79809454, 1.71439233]), kurtosis=array([1.30376344, 3.14969121, 2.66435986]))"
      ]
     },
     "execution_count": 449,
     "metadata": {},
     "output_type": "execute_result"
    }
   ],
   "execution_count": 449
  },
  {
   "metadata": {
    "ExecuteTime": {
     "end_time": "2024-10-12T14:17:04.771057Z",
     "start_time": "2024-10-12T14:17:04.765296Z"
    }
   },
   "cell_type": "code",
   "source": "scipy.stats.describe(a, axis=1, ddof=1, bias=False)",
   "id": "21a4ebcc3de9f38c",
   "outputs": [
    {
     "name": "stderr",
     "output_type": "stream",
     "text": [
      "C:\\Users\\Arek\\AppData\\Local\\Temp\\ipykernel_4304\\2822311962.py:1: RuntimeWarning: Precision loss occurred in moment calculation due to catastrophic cancellation. This occurs when the data are nearly identical. Results may be unreliable.\n",
      "  scipy.stats.describe(a, axis=1, ddof=1, bias=False)\n",
      "C:\\Users\\Arek\\PycharmProjects\\Statistics-Algebra\\.venv\\Lib\\site-packages\\scipy\\stats\\_stats_py.py:1418: RuntimeWarning: Precision loss occurred in moment calculation due to catastrophic cancellation. This occurs when the data are nearly identical. Results may be unreliable.\n",
      "  sk = skew(a, axis, bias=bias)\n",
      "C:\\Users\\Arek\\PycharmProjects\\Statistics-Algebra\\.venv\\Lib\\site-packages\\scipy\\stats\\_stats_py.py:1419: RuntimeWarning: Precision loss occurred in moment calculation due to catastrophic cancellation. This occurs when the data are nearly identical. Results may be unreliable.\n",
      "  kurt = kurtosis(a, axis, bias=bias)\n"
     ]
    },
    {
     "data": {
      "text/plain": [
       "DescribeResult(nobs=3, minmax=(array([1, 1, 2, 4, 1]), array([ 1,  3,  9, 27, 16])), mean=array([ 1.,  2.,  5., 13.,  6.]), variance=array([  0.,   1.,  13., 151.,  75.]), skewness=array([       nan, 0.        , 1.15206964, 1.52787436, 1.73205081]), kurtosis=array([ nan, -1.5, -1.5, -1.5, -1.5]))"
      ]
     },
     "execution_count": 450,
     "metadata": {},
     "output_type": "execute_result"
    }
   ],
   "execution_count": 450
  },
  {
   "metadata": {
    "ExecuteTime": {
     "end_time": "2024-10-12T14:17:04.793270Z",
     "start_time": "2024-10-12T14:17:04.787490Z"
    }
   },
   "cell_type": "code",
   "source": [
    "result = scipy.stats.describe(a, axis=1, ddof=1, bias=False)\n",
    "result.mean"
   ],
   "id": "2a8b7f290572d561",
   "outputs": [
    {
     "name": "stderr",
     "output_type": "stream",
     "text": [
      "C:\\Users\\Arek\\AppData\\Local\\Temp\\ipykernel_4304\\1697279159.py:1: RuntimeWarning: Precision loss occurred in moment calculation due to catastrophic cancellation. This occurs when the data are nearly identical. Results may be unreliable.\n",
      "  result = scipy.stats.describe(a, axis=1, ddof=1, bias=False)\n"
     ]
    },
    {
     "data": {
      "text/plain": [
       "array([ 1.,  2.,  5., 13.,  6.])"
      ]
     },
     "execution_count": 451,
     "metadata": {},
     "output_type": "execute_result"
    }
   ],
   "execution_count": 451
  },
  {
   "metadata": {},
   "cell_type": "markdown",
   "source": "Ramki danych (Data Frames)",
   "id": "4ce8f2861a5b8457"
  },
  {
   "metadata": {
    "ExecuteTime": {
     "end_time": "2024-10-12T14:17:04.835569Z",
     "start_time": "2024-10-12T14:17:04.830160Z"
    }
   },
   "cell_type": "code",
   "source": [
    "row_names = ['first', 'second', 'third', 'fourth', 'fifth']\n",
    "col_names = ['A', 'B', 'C']\n",
    "df = pd.DataFrame(a, index=row_names, columns=col_names)\n",
    "df"
   ],
   "id": "e5617fd4fb18664b",
   "outputs": [
    {
     "data": {
      "text/plain": [
       "         A   B  C\n",
       "first    1   1  1\n",
       "second   2   3  1\n",
       "third    4   9  2\n",
       "fourth   8  27  4\n",
       "fifth   16   1  1"
      ],
      "text/html": [
       "<div>\n",
       "<style scoped>\n",
       "    .dataframe tbody tr th:only-of-type {\n",
       "        vertical-align: middle;\n",
       "    }\n",
       "\n",
       "    .dataframe tbody tr th {\n",
       "        vertical-align: top;\n",
       "    }\n",
       "\n",
       "    .dataframe thead th {\n",
       "        text-align: right;\n",
       "    }\n",
       "</style>\n",
       "<table border=\"1\" class=\"dataframe\">\n",
       "  <thead>\n",
       "    <tr style=\"text-align: right;\">\n",
       "      <th></th>\n",
       "      <th>A</th>\n",
       "      <th>B</th>\n",
       "      <th>C</th>\n",
       "    </tr>\n",
       "  </thead>\n",
       "  <tbody>\n",
       "    <tr>\n",
       "      <th>first</th>\n",
       "      <td>1</td>\n",
       "      <td>1</td>\n",
       "      <td>1</td>\n",
       "    </tr>\n",
       "    <tr>\n",
       "      <th>second</th>\n",
       "      <td>2</td>\n",
       "      <td>3</td>\n",
       "      <td>1</td>\n",
       "    </tr>\n",
       "    <tr>\n",
       "      <th>third</th>\n",
       "      <td>4</td>\n",
       "      <td>9</td>\n",
       "      <td>2</td>\n",
       "    </tr>\n",
       "    <tr>\n",
       "      <th>fourth</th>\n",
       "      <td>8</td>\n",
       "      <td>27</td>\n",
       "      <td>4</td>\n",
       "    </tr>\n",
       "    <tr>\n",
       "      <th>fifth</th>\n",
       "      <td>16</td>\n",
       "      <td>1</td>\n",
       "      <td>1</td>\n",
       "    </tr>\n",
       "  </tbody>\n",
       "</table>\n",
       "</div>"
      ]
     },
     "execution_count": 452,
     "metadata": {},
     "output_type": "execute_result"
    }
   ],
   "execution_count": 452
  },
  {
   "metadata": {
    "ExecuteTime": {
     "end_time": "2024-10-12T14:17:04.855614Z",
     "start_time": "2024-10-12T14:17:04.850588Z"
    }
   },
   "cell_type": "code",
   "source": "df.mean()",
   "id": "508a5aefed3d8176",
   "outputs": [
    {
     "data": {
      "text/plain": [
       "A    6.2\n",
       "B    8.2\n",
       "C    1.8\n",
       "dtype: float64"
      ]
     },
     "execution_count": 453,
     "metadata": {},
     "output_type": "execute_result"
    }
   ],
   "execution_count": 453
  },
  {
   "metadata": {
    "ExecuteTime": {
     "end_time": "2024-10-12T14:17:04.884017Z",
     "start_time": "2024-10-12T14:17:04.879708Z"
    }
   },
   "cell_type": "code",
   "source": "df.var()",
   "id": "392c5a46c31bc0de",
   "outputs": [
    {
     "data": {
      "text/plain": [
       "A     37.2\n",
       "B    121.2\n",
       "C      1.7\n",
       "dtype: float64"
      ]
     },
     "execution_count": 454,
     "metadata": {},
     "output_type": "execute_result"
    }
   ],
   "execution_count": 454
  },
  {
   "metadata": {
    "ExecuteTime": {
     "end_time": "2024-10-12T14:17:04.932156Z",
     "start_time": "2024-10-12T14:17:04.927096Z"
    }
   },
   "cell_type": "code",
   "source": "df.mean(axis=1)",
   "id": "c23e8fa7d661db4f",
   "outputs": [
    {
     "data": {
      "text/plain": [
       "first      1.0\n",
       "second     2.0\n",
       "third      5.0\n",
       "fourth    13.0\n",
       "fifth      6.0\n",
       "dtype: float64"
      ]
     },
     "execution_count": 455,
     "metadata": {},
     "output_type": "execute_result"
    }
   ],
   "execution_count": 455
  },
  {
   "metadata": {
    "ExecuteTime": {
     "end_time": "2024-10-12T14:17:04.973337Z",
     "start_time": "2024-10-12T14:17:04.968282Z"
    }
   },
   "cell_type": "code",
   "source": "df.var(axis=1)",
   "id": "5f084cce1923f0cd",
   "outputs": [
    {
     "data": {
      "text/plain": [
       "first       0.0\n",
       "second      1.0\n",
       "third      13.0\n",
       "fourth    151.0\n",
       "fifth      75.0\n",
       "dtype: float64"
      ]
     },
     "execution_count": 456,
     "metadata": {},
     "output_type": "execute_result"
    }
   ],
   "execution_count": 456
  },
  {
   "metadata": {},
   "cell_type": "markdown",
   "source": "Wyizolowanie kolumny",
   "id": "e6ccefd5ddb5b939"
  },
  {
   "metadata": {
    "ExecuteTime": {
     "end_time": "2024-10-12T14:17:05.000887Z",
     "start_time": "2024-10-12T14:17:04.997256Z"
    }
   },
   "cell_type": "code",
   "source": "df['A']",
   "id": "692bdfe1db1f0c77",
   "outputs": [
    {
     "data": {
      "text/plain": [
       "first      1\n",
       "second     2\n",
       "third      4\n",
       "fourth     8\n",
       "fifth     16\n",
       "Name: A, dtype: int64"
      ]
     },
     "execution_count": 457,
     "metadata": {},
     "output_type": "execute_result"
    }
   ],
   "execution_count": 457
  },
  {
   "metadata": {
    "ExecuteTime": {
     "end_time": "2024-10-12T14:17:05.069780Z",
     "start_time": "2024-10-12T14:17:05.065746Z"
    }
   },
   "cell_type": "code",
   "source": "df['A'].mean()",
   "id": "1239f6b4f9401fdc",
   "outputs": [
    {
     "data": {
      "text/plain": [
       "np.float64(6.2)"
      ]
     },
     "execution_count": 458,
     "metadata": {},
     "output_type": "execute_result"
    }
   ],
   "execution_count": 458
  },
  {
   "metadata": {
    "ExecuteTime": {
     "end_time": "2024-10-12T14:17:05.100356Z",
     "start_time": "2024-10-12T14:17:05.095869Z"
    }
   },
   "cell_type": "code",
   "source": "df['A'].var()",
   "id": "8f7a888f8b363578",
   "outputs": [
    {
     "data": {
      "text/plain": [
       "np.float64(37.20000000000001)"
      ]
     },
     "execution_count": 459,
     "metadata": {},
     "output_type": "execute_result"
    }
   ],
   "execution_count": 459
  },
  {
   "metadata": {},
   "cell_type": "markdown",
   "source": "Data Frame jako tablica NumPy",
   "id": "5da430f0336d6c79"
  },
  {
   "metadata": {
    "ExecuteTime": {
     "end_time": "2024-10-12T14:17:05.128422Z",
     "start_time": "2024-10-12T14:17:05.124592Z"
    }
   },
   "cell_type": "code",
   "source": "df.values",
   "id": "1070f31df7873075",
   "outputs": [
    {
     "data": {
      "text/plain": [
       "array([[ 1,  1,  1],\n",
       "       [ 2,  3,  1],\n",
       "       [ 4,  9,  2],\n",
       "       [ 8, 27,  4],\n",
       "       [16,  1,  1]])"
      ]
     },
     "execution_count": 460,
     "metadata": {},
     "output_type": "execute_result"
    }
   ],
   "execution_count": 460
  },
  {
   "metadata": {
    "ExecuteTime": {
     "end_time": "2024-10-12T14:17:05.164894Z",
     "start_time": "2024-10-12T14:17:05.161310Z"
    }
   },
   "cell_type": "code",
   "source": "df.to_numpy()",
   "id": "338346b24299fc83",
   "outputs": [
    {
     "data": {
      "text/plain": [
       "array([[ 1,  1,  1],\n",
       "       [ 2,  3,  1],\n",
       "       [ 4,  9,  2],\n",
       "       [ 8, 27,  4],\n",
       "       [16,  1,  1]])"
      ]
     },
     "execution_count": 461,
     "metadata": {},
     "output_type": "execute_result"
    }
   ],
   "execution_count": 461
  },
  {
   "metadata": {},
   "cell_type": "markdown",
   "source": "Kod podsumowania",
   "id": "7fd1a18335b3731d"
  },
  {
   "metadata": {
    "ExecuteTime": {
     "end_time": "2024-10-12T14:17:05.195334Z",
     "start_time": "2024-10-12T14:17:05.187881Z"
    }
   },
   "cell_type": "code",
   "source": "df.describe()",
   "id": "9b902fc66996597a",
   "outputs": [
    {
     "data": {
      "text/plain": [
       "              A          B        C\n",
       "count   5.00000   5.000000  5.00000\n",
       "mean    6.20000   8.200000  1.80000\n",
       "std     6.09918  11.009087  1.30384\n",
       "min     1.00000   1.000000  1.00000\n",
       "25%     2.00000   1.000000  1.00000\n",
       "50%     4.00000   3.000000  1.00000\n",
       "75%     8.00000   9.000000  2.00000\n",
       "max    16.00000  27.000000  4.00000"
      ],
      "text/html": [
       "<div>\n",
       "<style scoped>\n",
       "    .dataframe tbody tr th:only-of-type {\n",
       "        vertical-align: middle;\n",
       "    }\n",
       "\n",
       "    .dataframe tbody tr th {\n",
       "        vertical-align: top;\n",
       "    }\n",
       "\n",
       "    .dataframe thead th {\n",
       "        text-align: right;\n",
       "    }\n",
       "</style>\n",
       "<table border=\"1\" class=\"dataframe\">\n",
       "  <thead>\n",
       "    <tr style=\"text-align: right;\">\n",
       "      <th></th>\n",
       "      <th>A</th>\n",
       "      <th>B</th>\n",
       "      <th>C</th>\n",
       "    </tr>\n",
       "  </thead>\n",
       "  <tbody>\n",
       "    <tr>\n",
       "      <th>count</th>\n",
       "      <td>5.00000</td>\n",
       "      <td>5.000000</td>\n",
       "      <td>5.00000</td>\n",
       "    </tr>\n",
       "    <tr>\n",
       "      <th>mean</th>\n",
       "      <td>6.20000</td>\n",
       "      <td>8.200000</td>\n",
       "      <td>1.80000</td>\n",
       "    </tr>\n",
       "    <tr>\n",
       "      <th>std</th>\n",
       "      <td>6.09918</td>\n",
       "      <td>11.009087</td>\n",
       "      <td>1.30384</td>\n",
       "    </tr>\n",
       "    <tr>\n",
       "      <th>min</th>\n",
       "      <td>1.00000</td>\n",
       "      <td>1.000000</td>\n",
       "      <td>1.00000</td>\n",
       "    </tr>\n",
       "    <tr>\n",
       "      <th>25%</th>\n",
       "      <td>2.00000</td>\n",
       "      <td>1.000000</td>\n",
       "      <td>1.00000</td>\n",
       "    </tr>\n",
       "    <tr>\n",
       "      <th>50%</th>\n",
       "      <td>4.00000</td>\n",
       "      <td>3.000000</td>\n",
       "      <td>1.00000</td>\n",
       "    </tr>\n",
       "    <tr>\n",
       "      <th>75%</th>\n",
       "      <td>8.00000</td>\n",
       "      <td>9.000000</td>\n",
       "      <td>2.00000</td>\n",
       "    </tr>\n",
       "    <tr>\n",
       "      <th>max</th>\n",
       "      <td>16.00000</td>\n",
       "      <td>27.000000</td>\n",
       "      <td>4.00000</td>\n",
       "    </tr>\n",
       "  </tbody>\n",
       "</table>\n",
       "</div>"
      ]
     },
     "execution_count": 462,
     "metadata": {},
     "output_type": "execute_result"
    }
   ],
   "execution_count": 462
  },
  {
   "metadata": {},
   "cell_type": "markdown",
   "source": "Wybór percentyli",
   "id": "290230a703a5a999"
  },
  {
   "metadata": {
    "ExecuteTime": {
     "end_time": "2024-10-12T14:17:05.227756Z",
     "start_time": "2024-10-12T14:17:05.221272Z"
    }
   },
   "cell_type": "code",
   "source": "df.describe().at['mean', 'A']",
   "id": "17047fc0b0000cf6",
   "outputs": [
    {
     "data": {
      "text/plain": [
       "np.float64(6.2)"
      ]
     },
     "execution_count": 463,
     "metadata": {},
     "output_type": "execute_result"
    }
   ],
   "execution_count": 463
  },
  {
   "metadata": {
    "ExecuteTime": {
     "end_time": "2024-10-12T14:17:05.255121Z",
     "start_time": "2024-10-12T14:17:05.248685Z"
    }
   },
   "cell_type": "code",
   "source": "df.describe().at['50%', 'B']",
   "id": "3716f11b27561ec9",
   "outputs": [
    {
     "data": {
      "text/plain": [
       "np.float64(3.0)"
      ]
     },
     "execution_count": 464,
     "metadata": {},
     "output_type": "execute_result"
    }
   ],
   "execution_count": 464
  },
  {
   "metadata": {},
   "cell_type": "markdown",
   "source": "Macierz korelacji wielu zmiennych",
   "id": "91b9fbda61dfdb12"
  },
  {
   "metadata": {
    "ExecuteTime": {
     "end_time": "2024-10-12T14:17:05.281442Z",
     "start_time": "2024-10-12T14:17:05.275052Z"
    }
   },
   "cell_type": "code",
   "source": [
    "data = {\n",
    "    'x': [45, 37, 42, 35, 39],\n",
    "    'y': [38, 31, 26, 28, 33],\n",
    "    'z': [10, 15, 17, 21, 12]\n",
    "}\n",
    "\n",
    "dataframe = pd.DataFrame(data, columns=['x', 'y', 'z'])\n",
    "print(f'Dataframe is:')\n",
    "print(dataframe)\n",
    "\n",
    "matrix = dataframe.corr()\n",
    "print(f'Correlation matrix is:')\n",
    "print(matrix)"
   ],
   "id": "e9abcdd6a5bf405f",
   "outputs": [
    {
     "name": "stdout",
     "output_type": "stream",
     "text": [
      "Dataframe is:\n",
      "    x   y   z\n",
      "0  45  38  10\n",
      "1  37  31  15\n",
      "2  42  26  17\n",
      "3  35  28  21\n",
      "4  39  33  12\n",
      "Correlation matrix is:\n",
      "          x         y         z\n",
      "x  1.000000  0.518457 -0.701886\n",
      "y  0.518457  1.000000 -0.860941\n",
      "z -0.701886 -0.860941  1.000000\n"
     ]
    }
   ],
   "execution_count": 465
  },
  {
   "metadata": {
    "ExecuteTime": {
     "end_time": "2024-10-12T14:17:05.313005Z",
     "start_time": "2024-10-12T14:17:05.307102Z"
    }
   },
   "cell_type": "code",
   "source": [
    "from sklearn import datasets\n",
    "\n",
    "dataset = datasets.load_iris()\n",
    "dataframe = pd.DataFrame(data=dataset.data, columns=dataset.feature_names)\n",
    "dataframe['target'] = dataset.target\n",
    "\n",
    "matrix = dataframe.corr()\n",
    "print(matrix)"
   ],
   "id": "c5a93a9ef048c2c3",
   "outputs": [
    {
     "name": "stdout",
     "output_type": "stream",
     "text": [
      "                   sepal length (cm)  sepal width (cm)  petal length (cm)  \\\n",
      "sepal length (cm)           1.000000         -0.117570           0.871754   \n",
      "sepal width (cm)           -0.117570          1.000000          -0.428440   \n",
      "petal length (cm)           0.871754         -0.428440           1.000000   \n",
      "petal width (cm)            0.817941         -0.366126           0.962865   \n",
      "target                      0.782561         -0.426658           0.949035   \n",
      "\n",
      "                   petal width (cm)    target  \n",
      "sepal length (cm)          0.817941  0.782561  \n",
      "sepal width (cm)          -0.366126 -0.426658  \n",
      "petal length (cm)          0.962865  0.949035  \n",
      "petal width (cm)           1.000000  0.956547  \n",
      "target                     0.956547  1.000000  \n"
     ]
    }
   ],
   "execution_count": 466
  },
  {
   "metadata": {},
   "cell_type": "markdown",
   "source": "Wizualizacja macierzy korelacji",
   "id": "9b07ba0e28a88ebb"
  },
  {
   "metadata": {
    "ExecuteTime": {
     "end_time": "2024-10-12T14:17:05.482632Z",
     "start_time": "2024-10-12T14:17:05.349898Z"
    }
   },
   "cell_type": "code",
   "source": [
    "import seaborn as sns\n",
    "\n",
    "dataset = datasets.load_iris()\n",
    "dataframe = pd.DataFrame(data=dataset.data, columns=dataset.feature_names)\n",
    "dataframe['target'] = dataset.target\n",
    "matrix = dataframe.corr()\n",
    "\n",
    "sns.heatmap(matrix, cmap='Greens', annot=True)"
   ],
   "id": "b1dc8ca89186b168",
   "outputs": [
    {
     "data": {
      "text/plain": [
       "<Axes: >"
      ]
     },
     "execution_count": 467,
     "metadata": {},
     "output_type": "execute_result"
    },
    {
     "data": {
      "text/plain": [
       "<Figure size 640x480 with 2 Axes>"
      ],
      "image/png": "[encoded data removed]"
     },
     "metadata": {},
     "output_type": "display_data"
    }
   ],
   "execution_count": 467
  },
  {
   "metadata": {},
   "cell_type": "markdown",
   "source": "### Wieloraka regresja liniowa",
   "id": "535fc46fc0e25e90"
  },
  {
   "metadata": {},
   "cell_type": "markdown",
   "source": "Przykład w NumPy i Statmodels",
   "id": "11eddc109de4acff"
  },
  {
   "metadata": {
    "ExecuteTime": {
     "end_time": "2024-10-12T14:17:05.488666Z",
     "start_time": "2024-10-12T14:17:05.484140Z"
    }
   },
   "cell_type": "code",
   "source": [
    "import statsmodels.api as sm\n",
    "\n",
    "y = [1, 2, 3, 4, 3, 4, 5, 4, 5, 5, 4, 5, 4, 5, 4, 5, 6, 5, 4, 5, 4, 3, 4]\n",
    "\n",
    "x = [\n",
    "    [4, 2, 3, 4, 5, 4, 5, 6, 7, 4, 8, 9, 8, 8, 6, 6, 5, 5, 5, 5, 5, 5, 5],\n",
    "    [4, 1, 2, 3, 4, 5, 6, 7, 5, 8, 7, 8, 7, 8, 7, 1, 8, 7, 7, 7, 7, 6, 5],\n",
    "    [4, 1, 2, 5, 6, 7, 8, 9, 7, 8, 7, 8, 7, 7, 7, 7, 7, 7, 6, 6, 4, 4, 4]\n",
    "]\n",
    "\n",
    "\n",
    "def reg_m(y, x):\n",
    "    ones = np.ones(len(x[0]))\n",
    "    X = sm.add_constant(np.column_stack((x[0], ones)))\n",
    "    for ele in x[1:]:\n",
    "        X = sm.add_constant(np.column_stack((ele, X)))\n",
    "    results = sm.OLS(y, X).fit()\n",
    "    return results"
   ],
   "id": "bfc84e6d9e2259ec",
   "outputs": [],
   "execution_count": 468
  },
  {
   "metadata": {
    "ExecuteTime": {
     "end_time": "2024-10-12T14:17:05.513625Z",
     "start_time": "2024-10-12T14:17:05.501773Z"
    }
   },
   "cell_type": "code",
   "source": "print(reg_m(y, x).summary())",
   "id": "782fe1cb1ae90470",
   "outputs": [
    {
     "name": "stdout",
     "output_type": "stream",
     "text": [
      "                            OLS Regression Results                            \n",
      "==============================================================================\n",
      "Dep. Variable:                      y   R-squared:                       0.489\n",
      "Model:                            OLS   Adj. R-squared:                  0.408\n",
      "Method:                 Least Squares   F-statistic:                     6.050\n",
      "Date:                Sat, 12 Oct 2024   Prob (F-statistic):            0.00453\n",
      "Time:                        16:17:05   Log-Likelihood:                -27.115\n",
      "No. Observations:                  23   AIC:                             62.23\n",
      "Df Residuals:                      19   BIC:                             66.77\n",
      "Df Model:                           3                                         \n",
      "Covariance Type:            nonrobust                                         \n",
      "==============================================================================\n",
      "                 coef    std err          t      P>|t|      [0.025      0.975]\n",
      "------------------------------------------------------------------------------\n",
      "x1             0.3300      0.131      2.523      0.021       0.056       0.604\n",
      "x2             0.0833      0.110      0.757      0.458      -0.147       0.314\n",
      "x3            -0.0008      0.145     -0.006      0.995      -0.304       0.302\n",
      "const          1.6405      0.664      2.472      0.023       0.252       3.029\n",
      "==============================================================================\n",
      "Omnibus:                        6.494   Durbin-Watson:                   1.635\n",
      "Prob(Omnibus):                  0.039   Jarque-Bera (JB):                4.250\n",
      "Skew:                          -0.895   Prob(JB):                        0.119\n",
      "Kurtosis:                       4.111   Cond. No.                         38.1\n",
      "==============================================================================\n",
      "\n",
      "Notes:\n",
      "[1] Standard Errors assume that the covariance matrix of the errors is correctly specified.\n"
     ]
    }
   ],
   "execution_count": 469
  },
  {
   "metadata": {},
   "cell_type": "markdown",
   "source": "Przykład w scikit-learn i Statmodels",
   "id": "9923f7d1784f8e42"
  },
  {
   "metadata": {
    "ExecuteTime": {
     "end_time": "2024-10-12T14:17:05.616315Z",
     "start_time": "2024-10-12T14:17:05.609258Z"
    }
   },
   "cell_type": "code",
   "source": [
    "data = {\n",
    "    \"year\": [2017, 2017, 2017, 2017, 2017, 2017, 2017, 2017, 2017, 2017, 2017, 2017,\n",
    "             2016, 2016, 2016, 2016, 2016, 2016, 2016, 2016, 2016, 2016, 2016, 2016],\n",
    "    \"month\": [12, 11, 10, 9, 8, 7, 6, 5, 4, 3, 2, 1, 12, 11, 10, 9, 8, 7, 6, 5, 4, 3, 2, 1],\n",
    "    \"interest_rate\": [2.75, 2.5, 2.5, 2.5, 2.5, 2.5, 2.5, 2.25, 2.25, 2.25, 2, 2, 2,\n",
    "                      1.75, 1.75, 1.75, 1.75, 1.75, 1.75, 1.75, 1.75, 1.75, 1.75, 1.75],\n",
    "    \"unemployment_rate\": [5.3, 5.3, 5.3, 5.3, 5.4, 5.6, 5.5, 5.5, 5.5, 5.6, 5.7, 5.9,\n",
    "                          6, 5.9, 5.8, 6.1, 6.2, 6.1, 6.1, 6.1, 5.9, 6.2, 6.2, 6.1],\n",
    "    \"index_price\": [1464, 1394, 1357, 1293, 1256, 1254, 1234, 1195, 1159, 1167, 1130,\n",
    "                    1075, 1047, 965, 943, 958, 971, 949, 884, 866, 876, 822, 704, 719]\n",
    "}\n",
    "\n",
    "df = pd.DataFrame(data)\n",
    "\n",
    "print(df)"
   ],
   "id": "ced8f1d25cbca175",
   "outputs": [
    {
     "name": "stdout",
     "output_type": "stream",
     "text": [
      "    year  month  interest_rate  unemployment_rate  index_price\n",
      "0   2017     12           2.75                5.3         1464\n",
      "1   2017     11           2.50                5.3         1394\n",
      "2   2017     10           2.50                5.3         1357\n",
      "3   2017      9           2.50                5.3         1293\n",
      "4   2017      8           2.50                5.4         1256\n",
      "5   2017      7           2.50                5.6         1254\n",
      "6   2017      6           2.50                5.5         1234\n",
      "7   2017      5           2.25                5.5         1195\n",
      "8   2017      4           2.25                5.5         1159\n",
      "9   2017      3           2.25                5.6         1167\n",
      "10  2017      2           2.00                5.7         1130\n",
      "11  2017      1           2.00                5.9         1075\n",
      "12  2016     12           2.00                6.0         1047\n",
      "13  2016     11           1.75                5.9          965\n",
      "14  2016     10           1.75                5.8          943\n",
      "15  2016      9           1.75                6.1          958\n",
      "16  2016      8           1.75                6.2          971\n",
      "17  2016      7           1.75                6.1          949\n",
      "18  2016      6           1.75                6.1          884\n",
      "19  2016      5           1.75                6.1          866\n",
      "20  2016      4           1.75                5.9          876\n",
      "21  2016      3           1.75                6.2          822\n",
      "22  2016      2           1.75                6.2          704\n",
      "23  2016      1           1.75                6.1          719\n"
     ]
    }
   ],
   "execution_count": 470
  },
  {
   "metadata": {},
   "cell_type": "markdown",
   "source": "Sprawdzanie liniowości",
   "id": "42ce3d8f4cb78600"
  },
  {
   "metadata": {
    "ExecuteTime": {
     "end_time": "2024-10-12T14:17:05.761377Z",
     "start_time": "2024-10-12T14:17:05.663693Z"
    }
   },
   "cell_type": "code",
   "source": [
    "import matplotlib.pyplot as plt\n",
    "\n",
    "plt.scatter(df['interest_rate'], df['index_price'], color='red')\n",
    "plt.title('Index Price vs Interest Rate', fontsize=14)\n",
    "plt.xlabel('Interest Rate', fontsize=14)\n",
    "plt.ylabel('Index Price', fontsize=14)\n",
    "plt.grid(True)\n",
    "plt.show()"
   ],
   "id": "d1b590fb78b721bf",
   "outputs": [
    {
     "data": {
      "text/plain": [
       "<Figure size 640x480 with 1 Axes>"
      ],
      "image/png": "[encoded data removed]"
     },
     "metadata": {},
     "output_type": "display_data"
    }
   ],
   "execution_count": 471
  },
  {
   "metadata": {
    "ExecuteTime": {
     "end_time": "2024-10-12T14:17:05.883563Z",
     "start_time": "2024-10-12T14:17:05.763356Z"
    }
   },
   "cell_type": "code",
   "source": [
    "plt.scatter(df['unemployment_rate'], df['index_price'], color='green')\n",
    "plt.title('Index Price vs Unemployment Rate', fontsize=14)\n",
    "plt.xlabel('Unemployment Rate', fontsize=14)\n",
    "plt.ylabel('Index Price', fontsize=14)\n",
    "plt.grid(True)\n",
    "plt.show()"
   ],
   "id": "12125334d61b2d38",
   "outputs": [
    {
     "data": {
      "text/plain": [
       "<Figure size 640x480 with 1 Axes>"
      ],
      "image/png": "[encoded data removed]"
     },
     "metadata": {},
     "output_type": "display_data"
    }
   ],
   "execution_count": 472
  },
  {
   "metadata": {},
   "cell_type": "markdown",
   "source": "Dwie badane zależności wyglądają na liniowe.",
   "id": "ed876d818a021aae"
  },
  {
   "metadata": {},
   "cell_type": "markdown",
   "source": "### Wykonywanie wielorakiej regresji liniowej",
   "id": "369024e6ef2c21e7"
  },
  {
   "metadata": {},
   "cell_type": "markdown",
   "source": "Sklearn",
   "id": "31894f5139a7d037"
  },
  {
   "metadata": {
    "ExecuteTime": {
     "end_time": "2024-10-12T14:17:05.893312Z",
     "start_time": "2024-10-12T14:17:05.885543Z"
    }
   },
   "cell_type": "code",
   "source": [
    "from sklearn import linear_model\n",
    "\n",
    "x = df[['interest_rate', 'unemployment_rate']]\n",
    "y = df['index_price']\n",
    "\n",
    "regression = linear_model.LinearRegression()\n",
    "regression.fit(x, y)\n",
    "predictions_sklearn = regression.predict(x)\n",
    "print('Intercept: \\n', regression.intercept_)\n",
    "print('Coefficients: \\n', regression.coef_)\n",
    "# print('Correlation r: \\n', r_regression(x, y))\n",
    "# nie istnieje metoda r_regression"
   ],
   "id": "7680efca34ea1a9b",
   "outputs": [
    {
     "name": "stdout",
     "output_type": "stream",
     "text": [
      "Intercept: \n",
      " 1798.4039776258544\n",
      "Coefficients: \n",
      " [ 345.54008701 -250.14657137]\n"
     ]
    }
   ],
   "execution_count": 473
  },
  {
   "metadata": {},
   "cell_type": "markdown",
   "source": "Statsmodels",
   "id": "9a0d489035bf78a1"
  },
  {
   "metadata": {
    "ExecuteTime": {
     "end_time": "2024-10-12T14:17:05.905815Z",
     "start_time": "2024-10-12T14:17:05.894306Z"
    }
   },
   "cell_type": "code",
   "source": [
    "x = sm.add_constant(x)\n",
    "\n",
    "model = sm.OLS(y, x).fit()\n",
    "predictions_statsmodels = model.predict(x)\n",
    "summary = model.summary()\n",
    "\n",
    "print(summary)"
   ],
   "id": "77a3cb093f59f9d",
   "outputs": [
    {
     "name": "stdout",
     "output_type": "stream",
     "text": [
      "                            OLS Regression Results                            \n",
      "==============================================================================\n",
      "Dep. Variable:            index_price   R-squared:                       0.898\n",
      "Model:                            OLS   Adj. R-squared:                  0.888\n",
      "Method:                 Least Squares   F-statistic:                     92.07\n",
      "Date:                Sat, 12 Oct 2024   Prob (F-statistic):           4.04e-11\n",
      "Time:                        16:17:05   Log-Likelihood:                -134.61\n",
      "No. Observations:                  24   AIC:                             275.2\n",
      "Df Residuals:                      21   BIC:                             278.8\n",
      "Df Model:                           2                                         \n",
      "Covariance Type:            nonrobust                                         \n",
      "=====================================================================================\n",
      "                        coef    std err          t      P>|t|      [0.025      0.975]\n",
      "-------------------------------------------------------------------------------------\n",
      "const              1798.4040    899.248      2.000      0.059     -71.685    3668.493\n",
      "interest_rate       345.5401    111.367      3.103      0.005     113.940     577.140\n",
      "unemployment_rate  -250.1466    117.950     -2.121      0.046    -495.437      -4.856\n",
      "==============================================================================\n",
      "Omnibus:                        2.691   Durbin-Watson:                   0.530\n",
      "Prob(Omnibus):                  0.260   Jarque-Bera (JB):                1.551\n",
      "Skew:                          -0.612   Prob(JB):                        0.461\n",
      "Kurtosis:                       3.226   Cond. No.                         394.\n",
      "==============================================================================\n",
      "\n",
      "Notes:\n",
      "[1] Standard Errors assume that the covariance matrix of the errors is correctly specified.\n"
     ]
    }
   ],
   "execution_count": 474
  }
 ],
 "metadata": {
  "kernelspec": {
   "display_name": "Python 3",
   "language": "python",
   "name": "python3"
  },
  "language_info": {
   "codemirror_mode": {
    "name": "ipython",
    "version": 2
   },
   "file_extension": ".py",
   "mimetype": "text/x-python",
   "name": "python",
   "nbconvert_exporter": "python",
   "pygments_lexer": "ipython2",
   "version": "2.7.6"
  }
 },
 "nbformat": 4,
 "nbformat_minor": 5
}
