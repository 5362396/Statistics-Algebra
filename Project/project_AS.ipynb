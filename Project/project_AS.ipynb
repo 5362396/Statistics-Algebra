{
 "cells": [
  {
   "metadata": {},
   "cell_type": "markdown",
   "source": [
    "# Statystyczna analiza porównawcza \n",
    "### PARAMETRÓW JAKOŚCI WODY DWÓCH BASENÓW ZALEWU WIŚLANEGO: EAST i WEST"
   ],
   "id": "9ec6b3eac2b739ea"
  },
  {
   "cell_type": "code",
   "id": "initial_id",
   "metadata": {
    "collapsed": true,
    "ExecuteTime": {
     "end_time": "2025-01-19T17:08:36.225205Z",
     "start_time": "2025-01-19T17:08:36.211602Z"
    }
   },
   "source": [
    "import pandas as pd\n",
    "from scipy.stats import skew, kurtosis"
   ],
   "outputs": [],
   "execution_count": 6
  },
  {
   "metadata": {},
   "cell_type": "markdown",
   "source": "Załadowanie danych",
   "id": "3f930bebc1f38aa7"
  },
  {
   "metadata": {
    "ExecuteTime": {
     "end_time": "2025-01-19T17:08:36.271970Z",
     "start_time": "2025-01-19T17:08:36.256585Z"
    }
   },
   "cell_type": "code",
   "source": [
    "east_data = pd.read_csv('./VLagun_East.csv')\n",
    "west_data = pd.read_csv('./VLagun_West.csv')\n",
    "common_data = pd.read_csv('./VLagun_East_West.csv')"
   ],
   "id": "7569894b10f7c2b9",
   "outputs": [],
   "execution_count": 7
  },
  {
   "metadata": {},
   "cell_type": "markdown",
   "source": "Funkcja pomocnicza do obliczania średniej, odchylenia standardowego, skośności i kurtozy.",
   "id": "85b5fc0808c8adaf"
  },
  {
   "metadata": {
    "ExecuteTime": {
     "end_time": "2025-01-19T17:08:36.277657Z",
     "start_time": "2025-01-19T17:08:36.271970Z"
    }
   },
   "cell_type": "code",
   "source": [
    "def calculate_mean_std_skewness_kurtosis(data):\n",
    "    summary = {\n",
    "        'mean': data.mean(),\n",
    "        'std': data.std(),\n",
    "        'skewness': data.apply(lambda x: skew(x, nan_policy='omit')),\n",
    "        'kurtosis': data.apply(lambda x: kurtosis(x, nan_policy='omit'))\n",
    "    }\n",
    "    return pd.DataFrame(summary)"
   ],
   "id": "7e3c11adeb020718",
   "outputs": [],
   "execution_count": 8
  }
 ],
 "metadata": {
  "kernelspec": {
   "display_name": "Python 3",
   "language": "python",
   "name": "python3"
  },
  "language_info": {
   "codemirror_mode": {
    "name": "ipython",
    "version": 2
   },
   "file_extension": ".py",
   "mimetype": "text/x-python",
   "name": "python",
   "nbconvert_exporter": "python",
   "pygments_lexer": "ipython2",
   "version": "2.7.6"
  }
 },
 "nbformat": 4,
 "nbformat_minor": 5
}
