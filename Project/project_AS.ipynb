{
 "cells": [
  {
   "metadata": {},
   "cell_type": "markdown",
   "source": [
    "# Statystyczna analiza porównawcza \n",
    "### PARAMETRÓW JAKOŚCI WODY DWÓCH BASENÓW ZALEWU WIŚLANEGO: EAST i WEST"
   ],
   "id": "9ec6b3eac2b739ea"
  },
  {
   "metadata": {},
   "cell_type": "markdown",
   "source": "Import potrzebnych bibliotek",
   "id": "e63bb31c246661f8"
  },
  {
   "cell_type": "code",
   "id": "initial_id",
   "metadata": {
    "collapsed": true,
    "ExecuteTime": {
     "end_time": "2025-01-19T19:49:42.177092Z",
     "start_time": "2025-01-19T19:49:42.167082Z"
    }
   },
   "source": [
    "import pandas as pd\n",
    "from scipy.stats import f_oneway, kruskal, shapiro"
   ],
   "outputs": [],
   "execution_count": 400
  },
  {
   "metadata": {},
   "cell_type": "markdown",
   "source": "Załadowanie danych, usunięcie pustych kolumn i dopasowanie nazw kolumn",
   "id": "3f930bebc1f38aa7"
  },
  {
   "metadata": {
    "ExecuteTime": {
     "end_time": "2025-01-19T19:49:42.223134Z",
     "start_time": "2025-01-19T19:49:42.214125Z"
    }
   },
   "cell_type": "code",
   "source": [
    "east_data = pd.read_csv('./VLagun_East.csv')\n",
    "west_data = pd.read_csv('./VLagun_West.csv')\n",
    "east_data = east_data.dropna(axis=1, how='all')\n",
    "west_data = west_data.dropna(axis=1, how='all')\n",
    "east_data.columns = east_data.columns.str.replace('_E', '')\n",
    "west_data.columns = west_data.columns.str.replace('_W', '')"
   ],
   "id": "7569894b10f7c2b9",
   "outputs": [],
   "execution_count": 401
  },
  {
   "metadata": {},
   "cell_type": "markdown",
   "source": "### 1. Oblicz średnie arytmetyczne dla wszystkich zmiennych EAST i WEST",
   "id": "2a6fc6b993097883"
  },
  {
   "metadata": {
    "ExecuteTime": {
     "end_time": "2025-01-19T19:49:42.239148Z",
     "start_time": "2025-01-19T19:49:42.225135Z"
    }
   },
   "cell_type": "code",
   "source": [
    "east_means = east_data.mean()\n",
    "west_means = west_data.mean()\n",
    "print('Średnie dla EAST:\\n', east_means)\n",
    "print('\\nŚrednie dla WEST:\\n', west_means)"
   ],
   "id": "26231a9e2ea3fbae",
   "outputs": [
    {
     "name": "stdout",
     "output_type": "stream",
     "text": [
      "Średnie dla EAST:\n",
      " Salinity       3.530087\n",
      "O2             9.978242\n",
      "Watertemp     17.181319\n",
      "SS            87.982198\n",
      "chla          55.123297\n",
      "SRP           13.395604\n",
      "DOP           22.474725\n",
      "TP           168.264835\n",
      "NH4N           0.030758\n",
      "NO3N           0.036154\n",
      "DON            0.538396\n",
      "TN             1.349088\n",
      "TOC           17.533224\n",
      "DOC            8.031216\n",
      "Windspeed      4.981319\n",
      "Depth          3.171429\n",
      "dtype: float64\n",
      "\n",
      "Średnie dla WEST:\n",
      " Salinity       3.114568\n",
      "O2            10.464154\n",
      "Watertemp     17.586154\n",
      "SS            85.474000\n",
      "chla          62.054923\n",
      "SRP           17.344615\n",
      "DOP           22.346154\n",
      "TP           177.236923\n",
      "NH4N           0.027569\n",
      "NO3N           0.038354\n",
      "DON            0.623600\n",
      "TN             1.486138\n",
      "TOC           18.443195\n",
      "DOC            8.451420\n",
      "Windspeed      4.992308\n",
      "Depth          2.816923\n",
      "dtype: float64\n"
     ]
    }
   ],
   "execution_count": 402
  },
  {
   "metadata": {},
   "cell_type": "markdown",
   "source": "Pytanie: wskaż zmienne, których różnice w średnich są największe.",
   "id": "1502f2de6fafcadf"
  },
  {
   "metadata": {
    "ExecuteTime": {
     "end_time": "2025-01-19T19:49:42.255163Z",
     "start_time": "2025-01-19T19:49:42.240149Z"
    }
   },
   "cell_type": "code",
   "source": [
    "mean_differences = abs(east_means - west_means)\n",
    "top_mean_differences = mean_differences.sort_values(ascending=False).head(5)\n",
    "print('Największe różnice w średnich\\n', top_mean_differences)"
   ],
   "id": "3e038ec883635ec",
   "outputs": [
    {
     "name": "stdout",
     "output_type": "stream",
     "text": [
      "Największe różnice w średnich\n",
      " TP      8.972088\n",
      "chla    6.931626\n",
      "SRP     3.949011\n",
      "SS      2.508198\n",
      "TOC     0.909971\n",
      "dtype: float64\n"
     ]
    }
   ],
   "execution_count": 403
  },
  {
   "metadata": {},
   "cell_type": "markdown",
   "source": "### 2. Oblicz odchylenie standardowe próby dla wszystkich zmiennych EAST i WEST",
   "id": "7e07d005d1bc62e6"
  },
  {
   "metadata": {
    "ExecuteTime": {
     "end_time": "2025-01-19T19:49:42.271177Z",
     "start_time": "2025-01-19T19:49:42.257164Z"
    }
   },
   "cell_type": "code",
   "source": [
    "east_stds = east_data.std()\n",
    "west_stds = west_data.std()\n",
    "print('Odchylenia dla EAST:\\n', east_means)\n",
    "print('\\nOdchylenia dla WEST:\\n', west_means)"
   ],
   "id": "b64167c0d493c93d",
   "outputs": [
    {
     "name": "stdout",
     "output_type": "stream",
     "text": [
      "Odchylenia dla EAST:\n",
      " Salinity       3.530087\n",
      "O2             9.978242\n",
      "Watertemp     17.181319\n",
      "SS            87.982198\n",
      "chla          55.123297\n",
      "SRP           13.395604\n",
      "DOP           22.474725\n",
      "TP           168.264835\n",
      "NH4N           0.030758\n",
      "NO3N           0.036154\n",
      "DON            0.538396\n",
      "TN             1.349088\n",
      "TOC           17.533224\n",
      "DOC            8.031216\n",
      "Windspeed      4.981319\n",
      "Depth          3.171429\n",
      "dtype: float64\n",
      "\n",
      "Odchylenia dla WEST:\n",
      " Salinity       3.114568\n",
      "O2            10.464154\n",
      "Watertemp     17.586154\n",
      "SS            85.474000\n",
      "chla          62.054923\n",
      "SRP           17.344615\n",
      "DOP           22.346154\n",
      "TP           177.236923\n",
      "NH4N           0.027569\n",
      "NO3N           0.038354\n",
      "DON            0.623600\n",
      "TN             1.486138\n",
      "TOC           18.443195\n",
      "DOC            8.451420\n",
      "Windspeed      4.992308\n",
      "Depth          2.816923\n",
      "dtype: float64\n"
     ]
    }
   ],
   "execution_count": 404
  },
  {
   "metadata": {},
   "cell_type": "markdown",
   "source": "Pytanie: wskaż zmienne, których różnice w odchyleniu std. są największe.",
   "id": "a4ea9b94aab6996d"
  },
  {
   "metadata": {
    "ExecuteTime": {
     "end_time": "2025-01-19T19:49:42.287192Z",
     "start_time": "2025-01-19T19:49:42.273179Z"
    }
   },
   "cell_type": "code",
   "source": [
    "std_differences = abs(east_stds - west_stds)\n",
    "top_std_differences = std_differences.sort_values(ascending=False).head(5)\n",
    "print('Największe różnice w odchyleniach\\n', top_std_differences)"
   ],
   "id": "b410d87388fd841d",
   "outputs": [
    {
     "name": "stdout",
     "output_type": "stream",
     "text": [
      "Największe różnice w odchyleniach\n",
      " SRP     6.763388\n",
      "SS      5.932693\n",
      "TP      3.779099\n",
      "DOP     1.862870\n",
      "chla    1.734608\n",
      "dtype: float64\n"
     ]
    }
   ],
   "execution_count": 405
  },
  {
   "metadata": {},
   "cell_type": "markdown",
   "source": "### 3. Oblicz skośność i kurtozę dla wszystkich zmiennych EAST i WEST",
   "id": "bcbcf75ed5b2fca5"
  },
  {
   "metadata": {
    "ExecuteTime": {
     "end_time": "2025-01-19T19:49:42.303206Z",
     "start_time": "2025-01-19T19:49:42.288193Z"
    }
   },
   "cell_type": "code",
   "source": [
    "east_skewness = east_data.skew()\n",
    "east_kurtosis = east_data.kurtosis()\n",
    "west_skewness = west_data.skew()\n",
    "west_kurtosis = west_data.kurtosis()"
   ],
   "id": "90d7fac69a03088e",
   "outputs": [],
   "execution_count": 406
  },
  {
   "metadata": {},
   "cell_type": "markdown",
   "source": "Pytanie: Znajdź zmienne, które nie maja rozkładu normalnego (skew > 3 i kurtrosis > 10)",
   "id": "b9adb4b3a91a08c4"
  },
  {
   "metadata": {
    "ExecuteTime": {
     "end_time": "2025-01-19T19:49:42.319221Z",
     "start_time": "2025-01-19T19:49:42.305208Z"
    }
   },
   "cell_type": "code",
   "source": [
    "non_normal_east = east_data.columns[(east_skewness > 3) | (east_kurtosis > 10)]\n",
    "non_normal_west = west_data.columns[(west_skewness > 3) | (west_kurtosis > 10)]\n",
    "print('Zmienne bez rozkładu normalnego w EAST:\\n', non_normal_east.values)\n",
    "print('Zmienne bez rozkładu normalnego w WEST:\\n', non_normal_west.values)"
   ],
   "id": "2e7a9bb948291a9c",
   "outputs": [
    {
     "name": "stdout",
     "output_type": "stream",
     "text": [
      "Zmienne bez rozkładu normalnego w EAST:\n",
      " ['NO3N']\n",
      "Zmienne bez rozkładu normalnego w WEST:\n",
      " ['NH4N']\n"
     ]
    }
   ],
   "execution_count": 407
  },
  {
   "metadata": {},
   "cell_type": "markdown",
   "source": "### 4. Przeprowadź test na normalność rozkładu Shapiro-Wilka dla wszystkich zmiennych EAST i WEST",
   "id": "1769a7bbae26a3c4"
  },
  {
   "metadata": {
    "ExecuteTime": {
     "end_time": "2025-01-19T19:49:42.335235Z",
     "start_time": "2025-01-19T19:49:42.321223Z"
    }
   },
   "cell_type": "code",
   "source": [
    "shapiro_east = east_data.apply(lambda x: shapiro(x)[1])\n",
    "shapiro_west = west_data.apply(lambda x: shapiro(x)[1])"
   ],
   "id": "bd79c195299c1c92",
   "outputs": [],
   "execution_count": 408
  },
  {
   "metadata": {},
   "cell_type": "markdown",
   "source": "Sprawdź, czy ocena normalności rozkładu jest taka sama jak po obliczeniu skośności i kurtozy.",
   "id": "869707ce74ef3325"
  },
  {
   "metadata": {
    "ExecuteTime": {
     "end_time": "2025-01-19T19:49:42.351250Z",
     "start_time": "2025-01-19T19:49:42.337237Z"
    }
   },
   "cell_type": "code",
   "source": [
    "normal_shapiro_east = shapiro_east[shapiro_east > 0.05].index.tolist()\n",
    "normal_shapiro_west = shapiro_west[shapiro_west > 0.05].index.tolist()\n",
    "non_normal_shapiro_east = shapiro_east[shapiro_east <= 0.05].index.tolist()\n",
    "non_normal_shapiro_west = shapiro_west[shapiro_west <= 0.05].index.tolist()\n",
    "print('Zmienne bez rozkładu normalnego w EAST:\\n', non_normal_shapiro_east)\n",
    "print('Zmienne bez rozkładu normalnego w WEST:\\n', non_normal_shapiro_west)"
   ],
   "id": "54688e59f747aebf",
   "outputs": [
    {
     "name": "stdout",
     "output_type": "stream",
     "text": [
      "Zmienne bez rozkładu normalnego w EAST:\n",
      " ['Salinity', 'O2', 'Watertemp', 'SS', 'chla', 'SRP', 'DOP', 'NH4N', 'NO3N', 'DON', 'DOC', 'Depth']\n",
      "Zmienne bez rozkładu normalnego w WEST:\n",
      " ['O2', 'Watertemp', 'SS', 'SRP', 'DOP', 'NH4N', 'NO3N', 'TN', 'Depth']\n"
     ]
    }
   ],
   "execution_count": 409
  },
  {
   "metadata": {},
   "cell_type": "markdown",
   "source": "Dla zmiennych NO3N w EAST i NH4N w WEST jest faktycznie taka sama, ale jednak test Shapiro-Wilka znalazł dużo więcej zmiennych bez rozkładu normalnego.",
   "id": "db5da7c0ee6d1288"
  },
  {
   "metadata": {},
   "cell_type": "markdown",
   "source": "### 5. Przeprowadź dla par tych samych zmiennych dla zbiorów EAST i WEST test ANOVA dla z par zmiennych o rozkładzie normalnym i test Kruskala-Wallisa dla par zmiennych, w których obie zmienne mają rozkład inny niż Gaussa, lub jedna ze zmiennych ma taki rozkład.",
   "id": "ae45232602591453"
  },
  {
   "metadata": {
    "ExecuteTime": {
     "end_time": "2025-01-19T19:49:42.383279Z",
     "start_time": "2025-01-19T19:49:42.353252Z"
    }
   },
   "cell_type": "code",
   "source": [
    "anova_results = {}\n",
    "kruskal_results = {}\n",
    "\n",
    "for column in east_data.columns:\n",
    "    east_vals = east_data[column]\n",
    "    west_vals = west_data[column]\n",
    "    if column in normal_shapiro_east and column in normal_shapiro_west:\n",
    "        anova_results[column] = f_oneway(east_vals, west_vals).pvalue\n",
    "    else:\n",
    "        kruskal_results[column] = kruskal(east_vals, west_vals).pvalue\n",
    "\n",
    "anova_df = pd.DataFrame(list(anova_results.items()), columns=['column', 'p-value']).set_index('column')\n",
    "kruskal_df = pd.DataFrame(list(kruskal_results.items()), columns=['column', 'p-value']).set_index('column')\n",
    "\n",
    "print('Test ANOVA dla par zmiennych o rozkładzie normalnym:\\n', anova_df)\n",
    "print('\\nTest Kruskala-Wallisa dla pozostałych par zmiennych:\\n', kruskal_df)"
   ],
   "id": "80b3c981657798a",
   "outputs": [
    {
     "name": "stdout",
     "output_type": "stream",
     "text": [
      "Test ANOVA dla par zmiennych o rozkładzie normalnym:\n",
      "             p-value\n",
      "column             \n",
      "TP         0.286671\n",
      "TOC        0.071637\n",
      "Windspeed  0.979503\n",
      "\n",
      "Test Kruskala-Wallisa dla pozostałych par zmiennych:\n",
      "             p-value\n",
      "column             \n",
      "Salinity   0.001037\n",
      "O2         0.004538\n",
      "Watertemp  0.367638\n",
      "SS         0.843261\n",
      "chla       0.161839\n",
      "SRP        0.262780\n",
      "DOP        0.798544\n",
      "NH4N       0.602036\n",
      "NO3N       0.716419\n",
      "DON        0.001638\n",
      "TN         0.019934\n",
      "DOC        0.003164\n",
      "Depth      0.000030\n"
     ]
    }
   ],
   "execution_count": 410
  }
 ],
 "metadata": {
  "kernelspec": {
   "display_name": "Python 3",
   "language": "python",
   "name": "python3"
  },
  "language_info": {
   "codemirror_mode": {
    "name": "ipython",
    "version": 2
   },
   "file_extension": ".py",
   "mimetype": "text/x-python",
   "name": "python",
   "nbconvert_exporter": "python",
   "pygments_lexer": "ipython2",
   "version": "2.7.6"
  }
 },
 "nbformat": 4,
 "nbformat_minor": 5
}
