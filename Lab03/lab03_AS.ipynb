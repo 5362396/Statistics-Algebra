{
 "cells": [
  {
   "cell_type": "code",
   "id": "initial_id",
   "metadata": {
    "collapsed": true,
    "ExecuteTime": {
     "end_time": "2024-10-16T18:09:21.347953Z",
     "start_time": "2024-10-16T18:09:21.344242Z"
    }
   },
   "source": [
    "import numpy as np\n",
    "import pandas as pd"
   ],
   "outputs": [],
   "execution_count": 23
  },
  {
   "metadata": {},
   "cell_type": "markdown",
   "source": "## Testy normalności",
   "id": "949f846df8928c31"
  },
  {
   "metadata": {},
   "cell_type": "markdown",
   "source": "Test Shapiro-Wilka",
   "id": "365d3821010b811a"
  },
  {
   "metadata": {
    "ExecuteTime": {
     "end_time": "2024-10-16T18:09:21.408903Z",
     "start_time": "2024-10-16T18:09:21.404244Z"
    }
   },
   "cell_type": "code",
   "source": [
    "from scipy.stats import shapiro\n",
    "\n",
    "data = [0.873, 2.817, 0.121, -0.945, -0.055, -1.436, 0.360, -1.478, -1.637, -1.869]\n",
    "stat, p = shapiro(data)\n",
    "print(f'stat={stat:.3f}, p={p:.3f}')\n",
    "if p > 0.05:\n",
    "    print('Probably Gaussian')\n",
    "else:\n",
    "    print('Probably not Gaussian')"
   ],
   "id": "a94709ac5484382c",
   "outputs": [
    {
     "name": "stdout",
     "output_type": "stream",
     "text": [
      "stat=0.895, p=0.193\n",
      "Probably Gaussian\n"
     ]
    }
   ],
   "execution_count": 24
  },
  {
   "metadata": {},
   "cell_type": "markdown",
   "source": "Test K^2 D'Agostino",
   "id": "3fda2d550e5787da"
  },
  {
   "metadata": {
    "ExecuteTime": {
     "end_time": "2024-10-16T18:09:21.419128Z",
     "start_time": "2024-10-16T18:09:21.413923Z"
    }
   },
   "cell_type": "code",
   "source": [
    "from scipy.stats import normaltest\n",
    "\n",
    "stat, p = normaltest(data)\n",
    "print(f'stat={stat:.3f}, p={p:.3f}')\n",
    "if p > 0.05:\n",
    "    print('Probably Gaussian')\n",
    "else:\n",
    "    print('Probably not Gaussian')"
   ],
   "id": "aa12463cb3a7ef8e",
   "outputs": [
    {
     "name": "stdout",
     "output_type": "stream",
     "text": [
      "stat=3.392, p=0.183\n",
      "Probably Gaussian\n"
     ]
    },
    {
     "name": "stderr",
     "output_type": "stream",
     "text": [
      "C:\\Users\\Arek\\PycharmProjects\\Statistics-Algebra\\.venv\\Lib\\site-packages\\scipy\\stats\\_axis_nan_policy.py:418: UserWarning: `kurtosistest` p-value may be inaccurate with fewer than 20 observations; only n=10 observations were given.\n",
      "  return hypotest_fun_in(*args, **kwds)\n"
     ]
    }
   ],
   "execution_count": 25
  },
  {
   "metadata": {},
   "cell_type": "markdown",
   "source": "Test Andersona-Darlinga",
   "id": "87a042ff179076e3"
  },
  {
   "metadata": {
    "ExecuteTime": {
     "end_time": "2024-10-16T18:09:21.424174Z",
     "start_time": "2024-10-16T18:09:21.419128Z"
    }
   },
   "cell_type": "code",
   "source": [
    "from scipy.stats import anderson\n",
    "\n",
    "result = anderson(data)\n",
    "print(f'stat={result.statistic:.3f}')\n",
    "for i in range(len(result.critical_values)):\n",
    "    sl, cv = result.significance_level[i], result.critical_values[i]\n",
    "    if result.statistic < cv:\n",
    "        print(f'Probably Gaussian at the {sl:.1f} level')\n",
    "    else:\n",
    "        print(f'Probably not Gaussian at the {sl:.1f} level')"
   ],
   "id": "beffe3d425924d36",
   "outputs": [
    {
     "name": "stdout",
     "output_type": "stream",
     "text": [
      "stat=0.424\n",
      "Probably Gaussian at the 15.0 level\n",
      "Probably Gaussian at the 10.0 level\n",
      "Probably Gaussian at the 5.0 level\n",
      "Probably Gaussian at the 2.5 level\n",
      "Probably Gaussian at the 1.0 level\n"
     ]
    }
   ],
   "execution_count": 26
  },
  {
   "metadata": {},
   "cell_type": "markdown",
   "source": "## Testy korelacji",
   "id": "d2d9215df1781625"
  },
  {
   "metadata": {},
   "cell_type": "markdown",
   "source": "Współczynnik korelacji Pearsona",
   "id": "b85569ab1aff804c"
  },
  {
   "metadata": {
    "ExecuteTime": {
     "end_time": "2024-10-16T18:09:21.438479Z",
     "start_time": "2024-10-16T18:09:21.434250Z"
    }
   },
   "cell_type": "code",
   "source": [
    "from scipy.stats import pearsonr\n",
    "\n",
    "data2 = [0.353, 3.517, 0.125, -7.545, -0.555, -1.536, 3.350, -1.578, -3.537, -1.579]\n",
    "stat, p = pearsonr(data, data2)\n",
    "print(f'stat={stat:.3f}, p={p:.3f}')\n",
    "if p > 0.05:\n",
    "    print('Probably independent')\n",
    "else:\n",
    "    print('Probably dependent')"
   ],
   "id": "4c729d61126ddf26",
   "outputs": [
    {
     "name": "stdout",
     "output_type": "stream",
     "text": [
      "stat=0.688, p=0.028\n",
      "Probably dependent\n"
     ]
    }
   ],
   "execution_count": 27
  },
  {
   "metadata": {},
   "cell_type": "markdown",
   "source": "Korelacja rang Spearmana",
   "id": "bbebae8268503f36"
  },
  {
   "metadata": {
    "ExecuteTime": {
     "end_time": "2024-10-16T18:09:21.444783Z",
     "start_time": "2024-10-16T18:09:21.438479Z"
    }
   },
   "cell_type": "code",
   "source": [
    "from scipy.stats import spearmanr\n",
    "\n",
    "stat, p = spearmanr(data, data2)\n",
    "print(f'stat={stat:.3f}, p={p:.3f}')\n",
    "if p > 0.05:\n",
    "    print('Probably independent')\n",
    "else:\n",
    "    print('Probably dependent')"
   ],
   "id": "789061dec64b49b8",
   "outputs": [
    {
     "name": "stdout",
     "output_type": "stream",
     "text": [
      "stat=0.855, p=0.002\n",
      "Probably dependent\n"
     ]
    }
   ],
   "execution_count": 28
  },
  {
   "metadata": {},
   "cell_type": "markdown",
   "source": "Korelacja rang Kendalla",
   "id": "e456b7a3c347b0e2"
  },
  {
   "metadata": {
    "ExecuteTime": {
     "end_time": "2024-10-16T18:09:21.451199Z",
     "start_time": "2024-10-16T18:09:21.444783Z"
    }
   },
   "cell_type": "code",
   "source": [
    "from scipy.stats import kendalltau\n",
    "\n",
    "stat, p = kendalltau(data, data2)\n",
    "print(f'stat={stat:.3f}, p={p:.3f}')\n",
    "if p > 0.05:\n",
    "    print('Probably independent')\n",
    "else:\n",
    "    print('Probably dependent')"
   ],
   "id": "b39a5a9000c89044",
   "outputs": [
    {
     "name": "stdout",
     "output_type": "stream",
     "text": [
      "stat=0.733, p=0.002\n",
      "Probably dependent\n"
     ]
    }
   ],
   "execution_count": 29
  },
  {
   "metadata": {},
   "cell_type": "markdown",
   "source": "Test chi-kwadrat pearsona",
   "id": "768e3d941fca7f93"
  },
  {
   "metadata": {
    "ExecuteTime": {
     "end_time": "2024-10-16T18:09:21.486354Z",
     "start_time": "2024-10-16T18:09:21.479346Z"
    }
   },
   "cell_type": "code",
   "source": [
    "from scipy.stats import chi2_contingency\n",
    "\n",
    "table = [[10, 20, 30], [6, 9, 17]]\n",
    "stat, p, dof, expected = chi2_contingency(table)\n",
    "print(f'stat={stat:.3f}, p={p:.3f}')\n",
    "if p > 0.05:\n",
    "    print('Probably independent')\n",
    "else:\n",
    "    print('Probably dependent')"
   ],
   "id": "e403df88b0412f63",
   "outputs": [
    {
     "name": "stdout",
     "output_type": "stream",
     "text": [
      "stat=0.272, p=0.873\n",
      "Probably independent\n"
     ]
    }
   ],
   "execution_count": 30
  },
  {
   "metadata": {},
   "cell_type": "markdown",
   "source": "## Testy stacjonarne",
   "id": "ebc823a834b428ec"
  },
  {
   "metadata": {},
   "cell_type": "markdown",
   "source": "Rozszerzony test pierwiastka jednostkowego Dickeya-Fullera",
   "id": "888334fb14e6fb40"
  },
  {
   "metadata": {
    "ExecuteTime": {
     "end_time": "2024-10-16T18:09:21.497599Z",
     "start_time": "2024-10-16T18:09:21.486354Z"
    }
   },
   "cell_type": "code",
   "source": [
    "from statsmodels.tsa.stattools import adfuller\n",
    "\n",
    "data = [0, 1, 2, 3, 4, 5, 6, 7, 8, 9]\n",
    "stat, p, lags, obs, crit, t = adfuller(data)\n",
    "print(f'stat={stat:.3f}, p={p:.3f}')\n",
    "if p > 0.05:\n",
    "    print('Probably not Stationary')\n",
    "else:\n",
    "    print('Probably Stationary')"
   ],
   "id": "a960c151be3376f",
   "outputs": [
    {
     "name": "stdout",
     "output_type": "stream",
     "text": [
      "stat=0.517, p=0.985\n",
      "Probably not Stationary\n"
     ]
    }
   ],
   "execution_count": 31
  },
  {
   "metadata": {},
   "cell_type": "markdown",
   "source": "Kwiatkowski-Phillis-Schmidt-Shin (test KPSS)",
   "id": "3e883e0b36d9087a"
  },
  {
   "metadata": {
    "ExecuteTime": {
     "end_time": "2024-10-16T18:09:21.505648Z",
     "start_time": "2024-10-16T18:09:21.497599Z"
    }
   },
   "cell_type": "code",
   "source": [
    "from statsmodels.tsa.stattools import kpss\n",
    "\n",
    "data = [0, 1, 2, 3, 4, 5, 6, 7, 8, 9]\n",
    "stat, p, lags, crit = kpss(data)\n",
    "print(f'stat={stat:.3f}, p={p:.3f}')\n",
    "if p > 0.05:\n",
    "    print('Probably Stationary')\n",
    "else:\n",
    "    print('Probably not Stationary')"
   ],
   "id": "9146e3d1a023a515",
   "outputs": [
    {
     "name": "stdout",
     "output_type": "stream",
     "text": [
      "stat=0.594, p=0.023\n",
      "Probably not Stationary\n"
     ]
    }
   ],
   "execution_count": 32
  },
  {
   "metadata": {},
   "cell_type": "markdown",
   "source": "## Parametryczne testy hipotez statystycznych",
   "id": "70a6a2e9f895a678"
  },
  {
   "metadata": {},
   "cell_type": "markdown",
   "source": "Test t-Studenta",
   "id": "aeeba72033536d58"
  },
  {
   "metadata": {
    "ExecuteTime": {
     "end_time": "2024-10-16T18:09:21.511566Z",
     "start_time": "2024-10-16T18:09:21.505648Z"
    }
   },
   "cell_type": "code",
   "source": [
    "from scipy.stats import ttest_ind\n",
    "\n",
    "data = [0.873, 2.817, 0.121, -0.945, -0.055, -1.436, 0.360, -1.478, -1.637, -1.869]\n",
    "data2 = [1.142, -0.432, -0.938, -0.729, -0.846, -0.157, 0.500, 1.183, -1.075, -0.169]\n",
    "stat, p = ttest_ind(data, data2)\n",
    "print(f'stat={stat:.3f}, p={p:.3f}')\n",
    "if p > 0.05:\n",
    "    print('Probably the same distribution')\n",
    "else:\n",
    "    print('Probably different distributions')"
   ],
   "id": "991c1194262c6b04",
   "outputs": [
    {
     "name": "stdout",
     "output_type": "stream",
     "text": [
      "stat=-0.326, p=0.748\n",
      "Probably the same distribution\n"
     ]
    }
   ],
   "execution_count": 33
  },
  {
   "metadata": {},
   "cell_type": "markdown",
   "source": "Parzysty test t-Studenta",
   "id": "6822dd2d896d248e"
  },
  {
   "metadata": {
    "ExecuteTime": {
     "end_time": "2024-10-16T18:09:21.517215Z",
     "start_time": "2024-10-16T18:09:21.511566Z"
    }
   },
   "cell_type": "code",
   "source": [
    "from scipy.stats import ttest_rel\n",
    "\n",
    "stat, p = ttest_rel(data, data2)\n",
    "print(f'stat={stat:.3f}, p={p:.3f}')\n",
    "if p > 0.05:\n",
    "    print('Probably the same distribution')\n",
    "else:\n",
    "    print('Probably different distributions')"
   ],
   "id": "ae97fcab1d5253da",
   "outputs": [
    {
     "name": "stdout",
     "output_type": "stream",
     "text": [
      "stat=-0.334, p=0.746\n",
      "Probably the same distribution\n"
     ]
    }
   ],
   "execution_count": 34
  },
  {
   "metadata": {},
   "cell_type": "markdown",
   "source": "Jednopróbkowy test Z",
   "id": "f497f2f914be38ba"
  },
  {
   "metadata": {
    "ExecuteTime": {
     "end_time": "2024-10-16T18:09:21.521800Z",
     "start_time": "2024-10-16T18:09:21.517215Z"
    }
   },
   "cell_type": "code",
   "source": [
    "from statsmodels.stats.weightstats import ztest\n",
    "\n",
    "data = [88, 92, 94, 94, 96, 97, 97, 97, 99, 99, 105, 109, 109, 109, 110, 112, 112, 113, 114, 115]\n",
    "ztest(data, value=100)"
   ],
   "id": "9c32a9e48231788f",
   "outputs": [
    {
     "data": {
      "text/plain": [
       "(np.float64(1.5976240527147705), np.float64(0.11012667014384257))"
      ]
     },
     "execution_count": 35,
     "metadata": {},
     "output_type": "execute_result"
    }
   ],
   "execution_count": 35
  },
  {
   "metadata": {},
   "cell_type": "markdown",
   "source": "Dwupróbkowy test Z",
   "id": "b535d957d02aab74"
  },
  {
   "metadata": {
    "ExecuteTime": {
     "end_time": "2024-10-16T18:09:21.552933Z",
     "start_time": "2024-10-16T18:09:21.545455Z"
    }
   },
   "cell_type": "code",
   "source": [
    "cityA = [82, 84, 85, 89, 91, 91, 92, 94, 99, 99, 105, 109, 109, 109, 110, 112, 112, 113, 114, 114]\n",
    "cityB = [90, 91, 91, 91, 95, 95, 99, 99, 108, 109, 109, 114, 115, 116, 117, 117, 128, 129, 130, 133]\n",
    "ztest(cityA, cityB, value=0)"
   ],
   "id": "a48c01877c23e1f1",
   "outputs": [
    {
     "data": {
      "text/plain": [
       "(np.float64(-1.9953236073282115), np.float64(0.046007596761332065))"
      ]
     },
     "execution_count": 36,
     "metadata": {},
     "output_type": "execute_result"
    }
   ],
   "execution_count": 36
  },
  {
   "metadata": {},
   "cell_type": "markdown",
   "source": "Test analiza wariancji (ANOVA)",
   "id": "68be15dd4752711b"
  },
  {
   "metadata": {
    "ExecuteTime": {
     "end_time": "2024-10-16T18:09:21.573590Z",
     "start_time": "2024-10-16T18:09:21.564260Z"
    }
   },
   "cell_type": "code",
   "source": [
    "from scipy.stats import f_oneway\n",
    "\n",
    "data = [0.873, 2.817, 0.121, -0.945, -0.055, -1.436, 0.360, -1.478, -1.637, -1.869]\n",
    "data2 = [1.142, -0.432, -0.938, -0.729, -0.846, -0.157, 0.500, 1.183, -1.075, -0.169]\n",
    "data3 = [-0.208, 0.696, 0.928, -1.148, -0.213, 0.229, 0.137, 0.269, -0.870, -1.204]\n",
    "stat, p = f_oneway(data, data2, data3)\n",
    "print(f'stat={stat:.3f}, p={p:.3f}')\n",
    "if p > 0.05:\n",
    "    print('Probably the same distribution')\n",
    "else:\n",
    "    print('Probably different distributions')"
   ],
   "id": "4be2885ec905d217",
   "outputs": [
    {
     "name": "stdout",
     "output_type": "stream",
     "text": [
      "stat=0.096, p=0.908\n",
      "Probably the same distribution\n"
     ]
    }
   ],
   "execution_count": 37
  },
  {
   "metadata": {},
   "cell_type": "markdown",
   "source": "## Nieparametryczne testy hipotez statystycznych",
   "id": "d40ae13cdd85ec44"
  },
  {
   "metadata": {},
   "cell_type": "markdown",
   "source": "Test U Manna-Whitneya",
   "id": "a8c79487f473f936"
  },
  {
   "metadata": {
    "ExecuteTime": {
     "end_time": "2024-10-16T18:09:21.585053Z",
     "start_time": "2024-10-16T18:09:21.579140Z"
    }
   },
   "cell_type": "code",
   "source": [
    "from scipy.stats import mannwhitneyu\n",
    "\n",
    "stat, p = mannwhitneyu(data, data2)\n",
    "print(f'stat={stat:.3f}, p={p:.3f}')\n",
    "if p > 0.05:\n",
    "    print('Probably the same distribution')\n",
    "else:\n",
    "    print('Probably different distributions')"
   ],
   "id": "e9423e56b2391437",
   "outputs": [
    {
     "name": "stdout",
     "output_type": "stream",
     "text": [
      "stat=40.000, p=0.473\n",
      "Probably the same distribution\n"
     ]
    }
   ],
   "execution_count": 38
  },
  {
   "metadata": {},
   "cell_type": "markdown",
   "source": "Test Wilcoxona dla rang znakowych",
   "id": "6ac4f2bdfc9a64c7"
  },
  {
   "metadata": {
    "ExecuteTime": {
     "end_time": "2024-10-16T18:09:21.618071Z",
     "start_time": "2024-10-16T18:09:21.609231Z"
    }
   },
   "cell_type": "code",
   "source": [
    "from scipy.stats import wilcoxon\n",
    "\n",
    "stat, p = wilcoxon(data, data2)\n",
    "print(f'stat={stat:.3f}, p={p:.3f}')\n",
    "if p > 0.05:\n",
    "    print('Probably the same distribution')\n",
    "else:\n",
    "    print('Probably different distributions')"
   ],
   "id": "900af8a605e38127",
   "outputs": [
    {
     "name": "stdout",
     "output_type": "stream",
     "text": [
      "stat=21.000, p=0.557\n",
      "Probably the same distribution\n"
     ]
    }
   ],
   "execution_count": 39
  },
  {
   "metadata": {},
   "cell_type": "markdown",
   "source": "Test H Kruskala-Wallisa",
   "id": "f38cfea33caaae28"
  },
  {
   "metadata": {
    "ExecuteTime": {
     "end_time": "2024-10-16T18:09:21.638615Z",
     "start_time": "2024-10-16T18:09:21.635344Z"
    }
   },
   "cell_type": "code",
   "source": [
    "from scipy.stats import kruskal\n",
    "\n",
    "stat, p = kruskal(data, data2)\n",
    "print(f'stat={stat:.3f}, p={p:.3f}')\n",
    "if p > 0.05:\n",
    "    print('Probably the same distribution')\n",
    "else:\n",
    "    print('Probably different distributions')"
   ],
   "id": "7b3894d21111f0c8",
   "outputs": [
    {
     "name": "stdout",
     "output_type": "stream",
     "text": [
      "stat=0.571, p=0.450\n",
      "Probably the same distribution\n"
     ]
    }
   ],
   "execution_count": 40
  },
  {
   "metadata": {},
   "cell_type": "markdown",
   "source": "Test Friedmana",
   "id": "89b7826b068cda75"
  },
  {
   "metadata": {
    "ExecuteTime": {
     "end_time": "2024-10-16T18:09:21.676119Z",
     "start_time": "2024-10-16T18:09:21.664257Z"
    }
   },
   "cell_type": "code",
   "source": [
    "from scipy.stats import friedmanchisquare\n",
    "\n",
    "stat, p = friedmanchisquare(data, data2, data3)\n",
    "print(f'stat={stat:.3f}, p={p:.3f}')\n",
    "if p > 0.05:\n",
    "    print('Probably the same distribution')\n",
    "else:\n",
    "    print('Probably different distributions')"
   ],
   "id": "305b93bf0cd1db07",
   "outputs": [
    {
     "name": "stdout",
     "output_type": "stream",
     "text": [
      "stat=0.800, p=0.670\n",
      "Probably the same distribution\n"
     ]
    }
   ],
   "execution_count": 41
  },
  {
   "metadata": {
    "ExecuteTime": {
     "end_time": "2024-10-16T18:09:21.688790Z",
     "start_time": "2024-10-16T18:09:21.684166Z"
    }
   },
   "cell_type": "code",
   "source": "",
   "id": "f417db1bf723d234",
   "outputs": [],
   "execution_count": 41
  }
 ],
 "metadata": {
  "kernelspec": {
   "display_name": "Python 3",
   "language": "python",
   "name": "python3"
  },
  "language_info": {
   "codemirror_mode": {
    "name": "ipython",
    "version": 2
   },
   "file_extension": ".py",
   "mimetype": "text/x-python",
   "name": "python",
   "nbconvert_exporter": "python",
   "pygments_lexer": "ipython2",
   "version": "2.7.6"
  }
 },
 "nbformat": 4,
 "nbformat_minor": 5
}
